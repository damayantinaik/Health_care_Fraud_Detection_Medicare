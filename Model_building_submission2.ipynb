{
 "cells": [
  {
   "cell_type": "code",
   "execution_count": 1,
   "metadata": {},
   "outputs": [],
   "source": [
    "import numpy as np\n",
    "import pandas as pd\n",
    "import matplotlib.pyplot as plt\n",
    "import seaborn as sns"
   ]
  },
  {
   "cell_type": "code",
   "execution_count": 2,
   "metadata": {},
   "outputs": [],
   "source": [
    "X_train = pd.read_csv('X_train.csv', index_col = 0)"
   ]
  },
  {
   "cell_type": "code",
   "execution_count": 3,
   "metadata": {},
   "outputs": [
    {
     "data": {
      "text/html": [
       "<div>\n",
       "<style scoped>\n",
       "    .dataframe tbody tr th:only-of-type {\n",
       "        vertical-align: middle;\n",
       "    }\n",
       "\n",
       "    .dataframe tbody tr th {\n",
       "        vertical-align: top;\n",
       "    }\n",
       "\n",
       "    .dataframe thead th {\n",
       "        text-align: right;\n",
       "    }\n",
       "</style>\n",
       "<table border=\"1\" class=\"dataframe\">\n",
       "  <thead>\n",
       "    <tr style=\"text-align: right;\">\n",
       "      <th></th>\n",
       "      <th>InscClaimAmtReimbursed_x</th>\n",
       "      <th>DeductibleAmtPaid_x</th>\n",
       "      <th>InpatientClaimPeriod</th>\n",
       "      <th>DurationInHospital</th>\n",
       "      <th>NoOfMonths_PartACov_x</th>\n",
       "      <th>NoOfMonths_PartBCov_x</th>\n",
       "      <th>IPAnnualReimbursementAmt_x</th>\n",
       "      <th>IPAnnualDeductibleAmt_x</th>\n",
       "      <th>OPAnnualReimbursementAmt_x</th>\n",
       "      <th>OPAnnualDeductibleAmt_x</th>\n",
       "      <th>...</th>\n",
       "      <th>ChronicCond_Heartfailure_y</th>\n",
       "      <th>ChronicCond_KidneyDisease_y</th>\n",
       "      <th>ChronicCond_Cancer_y</th>\n",
       "      <th>ChronicCond_ObstrPulmonary_y</th>\n",
       "      <th>ChronicCond_Depression_y</th>\n",
       "      <th>ChronicCond_Diabetes_y</th>\n",
       "      <th>ChronicCond_IschemicHeart_y</th>\n",
       "      <th>ChronicCond_Osteoporasis_y</th>\n",
       "      <th>ChronicCond_rheumatoidarthritis_y</th>\n",
       "      <th>ChronicCond_stroke_y</th>\n",
       "    </tr>\n",
       "  </thead>\n",
       "  <tbody>\n",
       "    <tr>\n",
       "      <th>0</th>\n",
       "      <td>0.374106</td>\n",
       "      <td>0.397022</td>\n",
       "      <td>0.602522</td>\n",
       "      <td>0.604925</td>\n",
       "      <td>0.437071</td>\n",
       "      <td>0.399336</td>\n",
       "      <td>0.359046</td>\n",
       "      <td>0.369976</td>\n",
       "      <td>0.106610</td>\n",
       "      <td>-0.259113</td>\n",
       "      <td>...</td>\n",
       "      <td>-0.454031</td>\n",
       "      <td>-0.454031</td>\n",
       "      <td>-0.454031</td>\n",
       "      <td>-0.454031</td>\n",
       "      <td>-0.454031</td>\n",
       "      <td>-0.454031</td>\n",
       "      <td>-0.454031</td>\n",
       "      <td>-0.454031</td>\n",
       "      <td>-0.454031</td>\n",
       "      <td>-0.454031</td>\n",
       "    </tr>\n",
       "    <tr>\n",
       "      <th>1</th>\n",
       "      <td>-0.466088</td>\n",
       "      <td>-0.392396</td>\n",
       "      <td>-0.225617</td>\n",
       "      <td>-0.225377</td>\n",
       "      <td>-0.344025</td>\n",
       "      <td>-0.345599</td>\n",
       "      <td>-0.582854</td>\n",
       "      <td>-0.429459</td>\n",
       "      <td>-0.622873</td>\n",
       "      <td>-0.647265</td>\n",
       "      <td>...</td>\n",
       "      <td>-0.032232</td>\n",
       "      <td>-0.032232</td>\n",
       "      <td>-0.032232</td>\n",
       "      <td>-0.032232</td>\n",
       "      <td>-0.032232</td>\n",
       "      <td>-0.032232</td>\n",
       "      <td>-0.032232</td>\n",
       "      <td>-0.032232</td>\n",
       "      <td>-0.032232</td>\n",
       "      <td>-0.032232</td>\n",
       "    </tr>\n",
       "    <tr>\n",
       "      <th>2</th>\n",
       "      <td>1.394224</td>\n",
       "      <td>1.581149</td>\n",
       "      <td>0.766224</td>\n",
       "      <td>0.769055</td>\n",
       "      <td>1.552923</td>\n",
       "      <td>1.420172</td>\n",
       "      <td>1.126207</td>\n",
       "      <td>1.260807</td>\n",
       "      <td>0.670751</td>\n",
       "      <td>0.303250</td>\n",
       "      <td>...</td>\n",
       "      <td>-0.100631</td>\n",
       "      <td>-0.100631</td>\n",
       "      <td>-0.100631</td>\n",
       "      <td>-0.100631</td>\n",
       "      <td>-0.100631</td>\n",
       "      <td>-0.100631</td>\n",
       "      <td>-0.100631</td>\n",
       "      <td>-0.100631</td>\n",
       "      <td>-0.100631</td>\n",
       "      <td>-0.100631</td>\n",
       "    </tr>\n",
       "    <tr>\n",
       "      <th>3</th>\n",
       "      <td>-0.671322</td>\n",
       "      <td>-0.674331</td>\n",
       "      <td>-0.755240</td>\n",
       "      <td>-0.756384</td>\n",
       "      <td>-0.678781</td>\n",
       "      <td>-0.676681</td>\n",
       "      <td>-0.721075</td>\n",
       "      <td>-0.711746</td>\n",
       "      <td>-0.738229</td>\n",
       "      <td>-0.571876</td>\n",
       "      <td>...</td>\n",
       "      <td>-0.237431</td>\n",
       "      <td>-0.237431</td>\n",
       "      <td>-0.237431</td>\n",
       "      <td>-0.237431</td>\n",
       "      <td>-0.237431</td>\n",
       "      <td>-0.237431</td>\n",
       "      <td>-0.237431</td>\n",
       "      <td>-0.237431</td>\n",
       "      <td>-0.237431</td>\n",
       "      <td>-0.237431</td>\n",
       "    </tr>\n",
       "    <tr>\n",
       "      <th>4</th>\n",
       "      <td>-0.819883</td>\n",
       "      <td>-0.787105</td>\n",
       "      <td>-0.813018</td>\n",
       "      <td>-0.814312</td>\n",
       "      <td>-0.790366</td>\n",
       "      <td>-0.787042</td>\n",
       "      <td>-0.801993</td>\n",
       "      <td>-0.775377</td>\n",
       "      <td>-0.781075</td>\n",
       "      <td>-0.758312</td>\n",
       "      <td>...</td>\n",
       "      <td>-0.944230</td>\n",
       "      <td>-0.944230</td>\n",
       "      <td>-0.944230</td>\n",
       "      <td>-0.944230</td>\n",
       "      <td>-0.944230</td>\n",
       "      <td>-0.944230</td>\n",
       "      <td>-0.944230</td>\n",
       "      <td>-0.944230</td>\n",
       "      <td>-0.944230</td>\n",
       "      <td>-0.944230</td>\n",
       "    </tr>\n",
       "  </tbody>\n",
       "</table>\n",
       "<p>5 rows × 95 columns</p>\n",
       "</div>"
      ],
      "text/plain": [
       "   InscClaimAmtReimbursed_x  DeductibleAmtPaid_x  InpatientClaimPeriod  \\\n",
       "0                  0.374106             0.397022              0.602522   \n",
       "1                 -0.466088            -0.392396             -0.225617   \n",
       "2                  1.394224             1.581149              0.766224   \n",
       "3                 -0.671322            -0.674331             -0.755240   \n",
       "4                 -0.819883            -0.787105             -0.813018   \n",
       "\n",
       "   DurationInHospital  NoOfMonths_PartACov_x  NoOfMonths_PartBCov_x  \\\n",
       "0            0.604925               0.437071               0.399336   \n",
       "1           -0.225377              -0.344025              -0.345599   \n",
       "2            0.769055               1.552923               1.420172   \n",
       "3           -0.756384              -0.678781              -0.676681   \n",
       "4           -0.814312              -0.790366              -0.787042   \n",
       "\n",
       "   IPAnnualReimbursementAmt_x  IPAnnualDeductibleAmt_x  \\\n",
       "0                    0.359046                 0.369976   \n",
       "1                   -0.582854                -0.429459   \n",
       "2                    1.126207                 1.260807   \n",
       "3                   -0.721075                -0.711746   \n",
       "4                   -0.801993                -0.775377   \n",
       "\n",
       "   OPAnnualReimbursementAmt_x  OPAnnualDeductibleAmt_x  ...  \\\n",
       "0                    0.106610                -0.259113  ...   \n",
       "1                   -0.622873                -0.647265  ...   \n",
       "2                    0.670751                 0.303250  ...   \n",
       "3                   -0.738229                -0.571876  ...   \n",
       "4                   -0.781075                -0.758312  ...   \n",
       "\n",
       "   ChronicCond_Heartfailure_y  ChronicCond_KidneyDisease_y  \\\n",
       "0                   -0.454031                    -0.454031   \n",
       "1                   -0.032232                    -0.032232   \n",
       "2                   -0.100631                    -0.100631   \n",
       "3                   -0.237431                    -0.237431   \n",
       "4                   -0.944230                    -0.944230   \n",
       "\n",
       "   ChronicCond_Cancer_y  ChronicCond_ObstrPulmonary_y  \\\n",
       "0             -0.454031                     -0.454031   \n",
       "1             -0.032232                     -0.032232   \n",
       "2             -0.100631                     -0.100631   \n",
       "3             -0.237431                     -0.237431   \n",
       "4             -0.944230                     -0.944230   \n",
       "\n",
       "   ChronicCond_Depression_y  ChronicCond_Diabetes_y  \\\n",
       "0                 -0.454031               -0.454031   \n",
       "1                 -0.032232               -0.032232   \n",
       "2                 -0.100631               -0.100631   \n",
       "3                 -0.237431               -0.237431   \n",
       "4                 -0.944230               -0.944230   \n",
       "\n",
       "   ChronicCond_IschemicHeart_y  ChronicCond_Osteoporasis_y  \\\n",
       "0                    -0.454031                   -0.454031   \n",
       "1                    -0.032232                   -0.032232   \n",
       "2                    -0.100631                   -0.100631   \n",
       "3                    -0.237431                   -0.237431   \n",
       "4                    -0.944230                   -0.944230   \n",
       "\n",
       "   ChronicCond_rheumatoidarthritis_y  ChronicCond_stroke_y  \n",
       "0                          -0.454031             -0.454031  \n",
       "1                          -0.032232             -0.032232  \n",
       "2                          -0.100631             -0.100631  \n",
       "3                          -0.237431             -0.237431  \n",
       "4                          -0.944230             -0.944230  \n",
       "\n",
       "[5 rows x 95 columns]"
      ]
     },
     "execution_count": 3,
     "metadata": {},
     "output_type": "execute_result"
    }
   ],
   "source": [
    "X_train.head()"
   ]
  },
  {
   "cell_type": "code",
   "execution_count": 4,
   "metadata": {},
   "outputs": [],
   "source": [
    "y_train = pd.read_csv('y_train.csv', index_col = 0)"
   ]
  },
  {
   "cell_type": "code",
   "execution_count": 5,
   "metadata": {},
   "outputs": [
    {
     "data": {
      "text/html": [
       "<div>\n",
       "<style scoped>\n",
       "    .dataframe tbody tr th:only-of-type {\n",
       "        vertical-align: middle;\n",
       "    }\n",
       "\n",
       "    .dataframe tbody tr th {\n",
       "        vertical-align: top;\n",
       "    }\n",
       "\n",
       "    .dataframe thead th {\n",
       "        text-align: right;\n",
       "    }\n",
       "</style>\n",
       "<table border=\"1\" class=\"dataframe\">\n",
       "  <thead>\n",
       "    <tr style=\"text-align: right;\">\n",
       "      <th></th>\n",
       "      <th>PotentialFraud</th>\n",
       "    </tr>\n",
       "  </thead>\n",
       "  <tbody>\n",
       "    <tr>\n",
       "      <th>0</th>\n",
       "      <td>1</td>\n",
       "    </tr>\n",
       "    <tr>\n",
       "      <th>1</th>\n",
       "      <td>0</td>\n",
       "    </tr>\n",
       "    <tr>\n",
       "      <th>2</th>\n",
       "      <td>1</td>\n",
       "    </tr>\n",
       "    <tr>\n",
       "      <th>3</th>\n",
       "      <td>0</td>\n",
       "    </tr>\n",
       "    <tr>\n",
       "      <th>4</th>\n",
       "      <td>0</td>\n",
       "    </tr>\n",
       "  </tbody>\n",
       "</table>\n",
       "</div>"
      ],
      "text/plain": [
       "   PotentialFraud\n",
       "0               1\n",
       "1               0\n",
       "2               1\n",
       "3               0\n",
       "4               0"
      ]
     },
     "execution_count": 5,
     "metadata": {},
     "output_type": "execute_result"
    }
   ],
   "source": [
    "y_train.head()"
   ]
  },
  {
   "cell_type": "code",
   "execution_count": 6,
   "metadata": {},
   "outputs": [
    {
     "name": "stdout",
     "output_type": "stream",
     "text": [
      "<class 'pandas.core.frame.DataFrame'>\n",
      "Int64Index: 1185 entries, 0 to 1184\n",
      "Data columns (total 1 columns):\n",
      " #   Column          Non-Null Count  Dtype\n",
      "---  ------          --------------  -----\n",
      " 0   PotentialFraud  1185 non-null   int64\n",
      "dtypes: int64(1)\n",
      "memory usage: 18.5 KB\n"
     ]
    }
   ],
   "source": [
    "y_train.info()"
   ]
  },
  {
   "cell_type": "code",
   "execution_count": 7,
   "metadata": {},
   "outputs": [
    {
     "data": {
      "text/plain": [
       "(1185, 1)"
      ]
     },
     "execution_count": 7,
     "metadata": {},
     "output_type": "execute_result"
    }
   ],
   "source": [
    "y_train.shape"
   ]
  },
  {
   "cell_type": "code",
   "execution_count": null,
   "metadata": {},
   "outputs": [],
   "source": []
  },
  {
   "cell_type": "code",
   "execution_count": 8,
   "metadata": {},
   "outputs": [
    {
     "name": "stdout",
     "output_type": "stream",
     "text": [
      "<class 'pandas.core.frame.DataFrame'>\n",
      "Int64Index: 1185 entries, 0 to 1184\n",
      "Data columns (total 95 columns):\n",
      " #   Column                             Non-Null Count  Dtype  \n",
      "---  ------                             --------------  -----  \n",
      " 0   InscClaimAmtReimbursed_x           1185 non-null   float64\n",
      " 1   DeductibleAmtPaid_x                1185 non-null   float64\n",
      " 2   InpatientClaimPeriod               1185 non-null   float64\n",
      " 3   DurationInHospital                 1185 non-null   float64\n",
      " 4   NoOfMonths_PartACov_x              1185 non-null   float64\n",
      " 5   NoOfMonths_PartBCov_x              1185 non-null   float64\n",
      " 6   IPAnnualReimbursementAmt_x         1185 non-null   float64\n",
      " 7   IPAnnualDeductibleAmt_x            1185 non-null   float64\n",
      " 8   OPAnnualReimbursementAmt_x         1185 non-null   float64\n",
      " 9   OPAnnualDeductibleAmt_x            1185 non-null   float64\n",
      " 10  AttendingPhysician_x               1185 non-null   float64\n",
      " 11  OperatingPhysician_x               1185 non-null   float64\n",
      " 12  OtherPhysician_x                   1185 non-null   float64\n",
      " 13  DiagnosisGroupCode                 1185 non-null   float64\n",
      " 14  ClmDiagnosisCode_1_x               1185 non-null   float64\n",
      " 15  ClmDiagnosisCode_2_x               1185 non-null   float64\n",
      " 16  ClmDiagnosisCode_3_x               1185 non-null   float64\n",
      " 17  ClmDiagnosisCode_4_x               1185 non-null   float64\n",
      " 18  ClmDiagnosisCode_5_x               1185 non-null   float64\n",
      " 19  ClmDiagnosisCode_6_x               1185 non-null   float64\n",
      " 20  ClmDiagnosisCode_7_x               1185 non-null   float64\n",
      " 21  ClmDiagnosisCode_8_x               1185 non-null   float64\n",
      " 22  ClmDiagnosisCode_9_x               1185 non-null   float64\n",
      " 23  ClmDiagnosisCode_10_x              1185 non-null   float64\n",
      " 24  ClmProcedureCode_1_x               1185 non-null   float64\n",
      " 25  ClmProcedureCode_2_x               1185 non-null   float64\n",
      " 26  ClmProcedureCode_3_x               1185 non-null   float64\n",
      " 27  ClmProcedureCode_4_x               1185 non-null   float64\n",
      " 28  ClmProcedureCode_5_x               1185 non-null   float64\n",
      " 29  ClmProcedureCode_6_x               1185 non-null   float64\n",
      " 30  BeneID_x                           1185 non-null   float64\n",
      " 31  ClaimID_x                          1185 non-null   float64\n",
      " 32  Gender_x                           1185 non-null   float64\n",
      " 33  Race_x                             1185 non-null   float64\n",
      " 34  RenalDiseaseIndicator_x            1185 non-null   float64\n",
      " 35  State_x                            1185 non-null   float64\n",
      " 36  County_x                           1185 non-null   float64\n",
      " 37  ChronicCond_Alzheimer_x            1185 non-null   float64\n",
      " 38  ChronicCond_Heartfailure_x         1185 non-null   float64\n",
      " 39  ChronicCond_KidneyDisease_x        1185 non-null   float64\n",
      " 40  ChronicCond_Cancer_x               1185 non-null   float64\n",
      " 41  ChronicCond_ObstrPulmonary_x       1185 non-null   float64\n",
      " 42  ChronicCond_Depression_x           1185 non-null   float64\n",
      " 43  ChronicCond_Diabetes_x             1185 non-null   float64\n",
      " 44  ChronicCond_IschemicHeart_x        1185 non-null   float64\n",
      " 45  ChronicCond_Osteoporasis_x         1185 non-null   float64\n",
      " 46  ChronicCond_rheumatoidarthritis_x  1185 non-null   float64\n",
      " 47  ChronicCond_stroke_x               1185 non-null   float64\n",
      " 48  InscClaimAmtReimbursed_y           1185 non-null   float64\n",
      " 49  DeductibleAmtPaid_y                1185 non-null   float64\n",
      " 50  OutpatientClaimPeriod              1185 non-null   float64\n",
      " 51  NoOfMonths_PartACov_y              1185 non-null   float64\n",
      " 52  NoOfMonths_PartBCov_y              1185 non-null   float64\n",
      " 53  IPAnnualReimbursementAmt_y         1185 non-null   float64\n",
      " 54  IPAnnualDeductibleAmt_y            1185 non-null   float64\n",
      " 55  OPAnnualReimbursementAmt_y         1185 non-null   float64\n",
      " 56  OPAnnualDeductibleAmt_y            1185 non-null   float64\n",
      " 57  AttendingPhysician_y               1185 non-null   float64\n",
      " 58  OperatingPhysician_y               1185 non-null   float64\n",
      " 59  OtherPhysician_y                   1185 non-null   float64\n",
      " 60  ClmDiagnosisCode_1_y               1185 non-null   float64\n",
      " 61  ClmDiagnosisCode_2_y               1185 non-null   float64\n",
      " 62  ClmDiagnosisCode_3_y               1185 non-null   float64\n",
      " 63  ClmDiagnosisCode_4_y               1185 non-null   float64\n",
      " 64  ClmDiagnosisCode_5_y               1185 non-null   float64\n",
      " 65  ClmDiagnosisCode_6_y               1185 non-null   float64\n",
      " 66  ClmDiagnosisCode_7_y               1185 non-null   float64\n",
      " 67  ClmDiagnosisCode_8_y               1185 non-null   float64\n",
      " 68  ClmDiagnosisCode_9_y               1185 non-null   float64\n",
      " 69  ClmDiagnosisCode_10_y              1185 non-null   float64\n",
      " 70  ClmProcedureCode_1_y               1185 non-null   float64\n",
      " 71  ClmProcedureCode_2_y               1185 non-null   float64\n",
      " 72  ClmProcedureCode_3_y               1185 non-null   float64\n",
      " 73  ClmProcedureCode_4_y               1185 non-null   float64\n",
      " 74  ClmProcedureCode_5_y               1185 non-null   float64\n",
      " 75  ClmProcedureCode_6_y               1185 non-null   float64\n",
      " 76  OutpatientClaimPeriod.1            1185 non-null   float64\n",
      " 77  BeneID_y                           1185 non-null   float64\n",
      " 78  ClaimID_y                          1185 non-null   float64\n",
      " 79  Gender_y                           1185 non-null   float64\n",
      " 80  Race_y                             1185 non-null   float64\n",
      " 81  RenalDiseaseIndicator_y            1185 non-null   float64\n",
      " 82  State_y                            1185 non-null   float64\n",
      " 83  County_y                           1185 non-null   float64\n",
      " 84  ChronicCond_Alzheimer_y            1185 non-null   float64\n",
      " 85  ChronicCond_Heartfailure_y         1185 non-null   float64\n",
      " 86  ChronicCond_KidneyDisease_y        1185 non-null   float64\n",
      " 87  ChronicCond_Cancer_y               1185 non-null   float64\n",
      " 88  ChronicCond_ObstrPulmonary_y       1185 non-null   float64\n",
      " 89  ChronicCond_Depression_y           1185 non-null   float64\n",
      " 90  ChronicCond_Diabetes_y             1185 non-null   float64\n",
      " 91  ChronicCond_IschemicHeart_y        1185 non-null   float64\n",
      " 92  ChronicCond_Osteoporasis_y         1185 non-null   float64\n",
      " 93  ChronicCond_rheumatoidarthritis_y  1185 non-null   float64\n",
      " 94  ChronicCond_stroke_y               1185 non-null   float64\n",
      "dtypes: float64(95)\n",
      "memory usage: 888.8 KB\n"
     ]
    }
   ],
   "source": [
    "X_train.info()"
   ]
  },
  {
   "cell_type": "code",
   "execution_count": 9,
   "metadata": {},
   "outputs": [],
   "source": [
    "from sklearn.linear_model import LogisticRegression\n",
    "lr = LogisticRegression(random_state = 42)"
   ]
  },
  {
   "cell_type": "code",
   "execution_count": 10,
   "metadata": {},
   "outputs": [],
   "source": [
    "y_train2 = y_train.values.ravel()"
   ]
  },
  {
   "cell_type": "code",
   "execution_count": 11,
   "metadata": {},
   "outputs": [
    {
     "data": {
      "text/plain": [
       "(1185,)"
      ]
     },
     "execution_count": 11,
     "metadata": {},
     "output_type": "execute_result"
    }
   ],
   "source": [
    "y_train2.shape"
   ]
  },
  {
   "cell_type": "code",
   "execution_count": 12,
   "metadata": {},
   "outputs": [],
   "source": [
    "#a = y_train2.tolist()"
   ]
  },
  {
   "cell_type": "code",
   "execution_count": 13,
   "metadata": {},
   "outputs": [
    {
     "data": {
      "text/plain": [
       "(1185, 95)"
      ]
     },
     "execution_count": 13,
     "metadata": {},
     "output_type": "execute_result"
    }
   ],
   "source": [
    "X_train.shape"
   ]
  },
  {
   "cell_type": "code",
   "execution_count": 14,
   "metadata": {},
   "outputs": [
    {
     "ename": "AttributeError",
     "evalue": "'str' object has no attribute 'decode'",
     "output_type": "error",
     "traceback": [
      "\u001b[1;31m---------------------------------------------------------------------------\u001b[0m",
      "\u001b[1;31mAttributeError\u001b[0m                            Traceback (most recent call last)",
      "\u001b[1;32m<ipython-input-14-58f478d62578>\u001b[0m in \u001b[0;36m<module>\u001b[1;34m\u001b[0m\n\u001b[1;32m----> 1\u001b[1;33m \u001b[0mlr\u001b[0m\u001b[1;33m.\u001b[0m\u001b[0mfit\u001b[0m\u001b[1;33m(\u001b[0m\u001b[0mX_train\u001b[0m\u001b[1;33m,\u001b[0m \u001b[0my_train2\u001b[0m\u001b[1;33m)\u001b[0m\u001b[1;33m\u001b[0m\u001b[1;33m\u001b[0m\u001b[0m\n\u001b[0m",
      "\u001b[1;32m~\\AppData\\Roaming\\Python\\Python37\\site-packages\\sklearn\\linear_model\\_logistic.py\u001b[0m in \u001b[0;36mfit\u001b[1;34m(self, X, y, sample_weight)\u001b[0m\n\u001b[0;32m   1599\u001b[0m                       \u001b[0mpenalty\u001b[0m\u001b[1;33m=\u001b[0m\u001b[0mpenalty\u001b[0m\u001b[1;33m,\u001b[0m \u001b[0mmax_squared_sum\u001b[0m\u001b[1;33m=\u001b[0m\u001b[0mmax_squared_sum\u001b[0m\u001b[1;33m,\u001b[0m\u001b[1;33m\u001b[0m\u001b[1;33m\u001b[0m\u001b[0m\n\u001b[0;32m   1600\u001b[0m                       sample_weight=sample_weight)\n\u001b[1;32m-> 1601\u001b[1;33m             for class_, warm_start_coef_ in zip(classes_, warm_start_coef))\n\u001b[0m\u001b[0;32m   1602\u001b[0m \u001b[1;33m\u001b[0m\u001b[0m\n\u001b[0;32m   1603\u001b[0m         \u001b[0mfold_coefs_\u001b[0m\u001b[1;33m,\u001b[0m \u001b[0m_\u001b[0m\u001b[1;33m,\u001b[0m \u001b[0mn_iter_\u001b[0m \u001b[1;33m=\u001b[0m \u001b[0mzip\u001b[0m\u001b[1;33m(\u001b[0m\u001b[1;33m*\u001b[0m\u001b[0mfold_coefs_\u001b[0m\u001b[1;33m)\u001b[0m\u001b[1;33m\u001b[0m\u001b[1;33m\u001b[0m\u001b[0m\n",
      "\u001b[1;32m~\\AppData\\Roaming\\Python\\Python37\\site-packages\\joblib\\parallel.py\u001b[0m in \u001b[0;36m__call__\u001b[1;34m(self, iterable)\u001b[0m\n\u001b[0;32m   1002\u001b[0m             \u001b[1;31m# remaining jobs.\u001b[0m\u001b[1;33m\u001b[0m\u001b[1;33m\u001b[0m\u001b[1;33m\u001b[0m\u001b[0m\n\u001b[0;32m   1003\u001b[0m             \u001b[0mself\u001b[0m\u001b[1;33m.\u001b[0m\u001b[0m_iterating\u001b[0m \u001b[1;33m=\u001b[0m \u001b[1;32mFalse\u001b[0m\u001b[1;33m\u001b[0m\u001b[1;33m\u001b[0m\u001b[0m\n\u001b[1;32m-> 1004\u001b[1;33m             \u001b[1;32mif\u001b[0m \u001b[0mself\u001b[0m\u001b[1;33m.\u001b[0m\u001b[0mdispatch_one_batch\u001b[0m\u001b[1;33m(\u001b[0m\u001b[0miterator\u001b[0m\u001b[1;33m)\u001b[0m\u001b[1;33m:\u001b[0m\u001b[1;33m\u001b[0m\u001b[1;33m\u001b[0m\u001b[0m\n\u001b[0m\u001b[0;32m   1005\u001b[0m                 \u001b[0mself\u001b[0m\u001b[1;33m.\u001b[0m\u001b[0m_iterating\u001b[0m \u001b[1;33m=\u001b[0m \u001b[0mself\u001b[0m\u001b[1;33m.\u001b[0m\u001b[0m_original_iterator\u001b[0m \u001b[1;32mis\u001b[0m \u001b[1;32mnot\u001b[0m \u001b[1;32mNone\u001b[0m\u001b[1;33m\u001b[0m\u001b[1;33m\u001b[0m\u001b[0m\n\u001b[0;32m   1006\u001b[0m \u001b[1;33m\u001b[0m\u001b[0m\n",
      "\u001b[1;32m~\\AppData\\Roaming\\Python\\Python37\\site-packages\\joblib\\parallel.py\u001b[0m in \u001b[0;36mdispatch_one_batch\u001b[1;34m(self, iterator)\u001b[0m\n\u001b[0;32m    833\u001b[0m                 \u001b[1;32mreturn\u001b[0m \u001b[1;32mFalse\u001b[0m\u001b[1;33m\u001b[0m\u001b[1;33m\u001b[0m\u001b[0m\n\u001b[0;32m    834\u001b[0m             \u001b[1;32melse\u001b[0m\u001b[1;33m:\u001b[0m\u001b[1;33m\u001b[0m\u001b[1;33m\u001b[0m\u001b[0m\n\u001b[1;32m--> 835\u001b[1;33m                 \u001b[0mself\u001b[0m\u001b[1;33m.\u001b[0m\u001b[0m_dispatch\u001b[0m\u001b[1;33m(\u001b[0m\u001b[0mtasks\u001b[0m\u001b[1;33m)\u001b[0m\u001b[1;33m\u001b[0m\u001b[1;33m\u001b[0m\u001b[0m\n\u001b[0m\u001b[0;32m    836\u001b[0m                 \u001b[1;32mreturn\u001b[0m \u001b[1;32mTrue\u001b[0m\u001b[1;33m\u001b[0m\u001b[1;33m\u001b[0m\u001b[0m\n\u001b[0;32m    837\u001b[0m \u001b[1;33m\u001b[0m\u001b[0m\n",
      "\u001b[1;32m~\\AppData\\Roaming\\Python\\Python37\\site-packages\\joblib\\parallel.py\u001b[0m in \u001b[0;36m_dispatch\u001b[1;34m(self, batch)\u001b[0m\n\u001b[0;32m    752\u001b[0m         \u001b[1;32mwith\u001b[0m \u001b[0mself\u001b[0m\u001b[1;33m.\u001b[0m\u001b[0m_lock\u001b[0m\u001b[1;33m:\u001b[0m\u001b[1;33m\u001b[0m\u001b[1;33m\u001b[0m\u001b[0m\n\u001b[0;32m    753\u001b[0m             \u001b[0mjob_idx\u001b[0m \u001b[1;33m=\u001b[0m \u001b[0mlen\u001b[0m\u001b[1;33m(\u001b[0m\u001b[0mself\u001b[0m\u001b[1;33m.\u001b[0m\u001b[0m_jobs\u001b[0m\u001b[1;33m)\u001b[0m\u001b[1;33m\u001b[0m\u001b[1;33m\u001b[0m\u001b[0m\n\u001b[1;32m--> 754\u001b[1;33m             \u001b[0mjob\u001b[0m \u001b[1;33m=\u001b[0m \u001b[0mself\u001b[0m\u001b[1;33m.\u001b[0m\u001b[0m_backend\u001b[0m\u001b[1;33m.\u001b[0m\u001b[0mapply_async\u001b[0m\u001b[1;33m(\u001b[0m\u001b[0mbatch\u001b[0m\u001b[1;33m,\u001b[0m \u001b[0mcallback\u001b[0m\u001b[1;33m=\u001b[0m\u001b[0mcb\u001b[0m\u001b[1;33m)\u001b[0m\u001b[1;33m\u001b[0m\u001b[1;33m\u001b[0m\u001b[0m\n\u001b[0m\u001b[0;32m    755\u001b[0m             \u001b[1;31m# A job can complete so quickly than its callback is\u001b[0m\u001b[1;33m\u001b[0m\u001b[1;33m\u001b[0m\u001b[1;33m\u001b[0m\u001b[0m\n\u001b[0;32m    756\u001b[0m             \u001b[1;31m# called before we get here, causing self._jobs to\u001b[0m\u001b[1;33m\u001b[0m\u001b[1;33m\u001b[0m\u001b[1;33m\u001b[0m\u001b[0m\n",
      "\u001b[1;32m~\\AppData\\Roaming\\Python\\Python37\\site-packages\\joblib\\_parallel_backends.py\u001b[0m in \u001b[0;36mapply_async\u001b[1;34m(self, func, callback)\u001b[0m\n\u001b[0;32m    207\u001b[0m     \u001b[1;32mdef\u001b[0m \u001b[0mapply_async\u001b[0m\u001b[1;33m(\u001b[0m\u001b[0mself\u001b[0m\u001b[1;33m,\u001b[0m \u001b[0mfunc\u001b[0m\u001b[1;33m,\u001b[0m \u001b[0mcallback\u001b[0m\u001b[1;33m=\u001b[0m\u001b[1;32mNone\u001b[0m\u001b[1;33m)\u001b[0m\u001b[1;33m:\u001b[0m\u001b[1;33m\u001b[0m\u001b[1;33m\u001b[0m\u001b[0m\n\u001b[0;32m    208\u001b[0m         \u001b[1;34m\"\"\"Schedule a func to be run\"\"\"\u001b[0m\u001b[1;33m\u001b[0m\u001b[1;33m\u001b[0m\u001b[0m\n\u001b[1;32m--> 209\u001b[1;33m         \u001b[0mresult\u001b[0m \u001b[1;33m=\u001b[0m \u001b[0mImmediateResult\u001b[0m\u001b[1;33m(\u001b[0m\u001b[0mfunc\u001b[0m\u001b[1;33m)\u001b[0m\u001b[1;33m\u001b[0m\u001b[1;33m\u001b[0m\u001b[0m\n\u001b[0m\u001b[0;32m    210\u001b[0m         \u001b[1;32mif\u001b[0m \u001b[0mcallback\u001b[0m\u001b[1;33m:\u001b[0m\u001b[1;33m\u001b[0m\u001b[1;33m\u001b[0m\u001b[0m\n\u001b[0;32m    211\u001b[0m             \u001b[0mcallback\u001b[0m\u001b[1;33m(\u001b[0m\u001b[0mresult\u001b[0m\u001b[1;33m)\u001b[0m\u001b[1;33m\u001b[0m\u001b[1;33m\u001b[0m\u001b[0m\n",
      "\u001b[1;32m~\\AppData\\Roaming\\Python\\Python37\\site-packages\\joblib\\_parallel_backends.py\u001b[0m in \u001b[0;36m__init__\u001b[1;34m(self, batch)\u001b[0m\n\u001b[0;32m    588\u001b[0m         \u001b[1;31m# Don't delay the application, to avoid keeping the input\u001b[0m\u001b[1;33m\u001b[0m\u001b[1;33m\u001b[0m\u001b[1;33m\u001b[0m\u001b[0m\n\u001b[0;32m    589\u001b[0m         \u001b[1;31m# arguments in memory\u001b[0m\u001b[1;33m\u001b[0m\u001b[1;33m\u001b[0m\u001b[1;33m\u001b[0m\u001b[0m\n\u001b[1;32m--> 590\u001b[1;33m         \u001b[0mself\u001b[0m\u001b[1;33m.\u001b[0m\u001b[0mresults\u001b[0m \u001b[1;33m=\u001b[0m \u001b[0mbatch\u001b[0m\u001b[1;33m(\u001b[0m\u001b[1;33m)\u001b[0m\u001b[1;33m\u001b[0m\u001b[1;33m\u001b[0m\u001b[0m\n\u001b[0m\u001b[0;32m    591\u001b[0m \u001b[1;33m\u001b[0m\u001b[0m\n\u001b[0;32m    592\u001b[0m     \u001b[1;32mdef\u001b[0m \u001b[0mget\u001b[0m\u001b[1;33m(\u001b[0m\u001b[0mself\u001b[0m\u001b[1;33m)\u001b[0m\u001b[1;33m:\u001b[0m\u001b[1;33m\u001b[0m\u001b[1;33m\u001b[0m\u001b[0m\n",
      "\u001b[1;32m~\\AppData\\Roaming\\Python\\Python37\\site-packages\\joblib\\parallel.py\u001b[0m in \u001b[0;36m__call__\u001b[1;34m(self)\u001b[0m\n\u001b[0;32m    254\u001b[0m         \u001b[1;32mwith\u001b[0m \u001b[0mparallel_backend\u001b[0m\u001b[1;33m(\u001b[0m\u001b[0mself\u001b[0m\u001b[1;33m.\u001b[0m\u001b[0m_backend\u001b[0m\u001b[1;33m,\u001b[0m \u001b[0mn_jobs\u001b[0m\u001b[1;33m=\u001b[0m\u001b[0mself\u001b[0m\u001b[1;33m.\u001b[0m\u001b[0m_n_jobs\u001b[0m\u001b[1;33m)\u001b[0m\u001b[1;33m:\u001b[0m\u001b[1;33m\u001b[0m\u001b[1;33m\u001b[0m\u001b[0m\n\u001b[0;32m    255\u001b[0m             return [func(*args, **kwargs)\n\u001b[1;32m--> 256\u001b[1;33m                     for func, args, kwargs in self.items]\n\u001b[0m\u001b[0;32m    257\u001b[0m \u001b[1;33m\u001b[0m\u001b[0m\n\u001b[0;32m    258\u001b[0m     \u001b[1;32mdef\u001b[0m \u001b[0m__len__\u001b[0m\u001b[1;33m(\u001b[0m\u001b[0mself\u001b[0m\u001b[1;33m)\u001b[0m\u001b[1;33m:\u001b[0m\u001b[1;33m\u001b[0m\u001b[1;33m\u001b[0m\u001b[0m\n",
      "\u001b[1;32m~\\AppData\\Roaming\\Python\\Python37\\site-packages\\joblib\\parallel.py\u001b[0m in \u001b[0;36m<listcomp>\u001b[1;34m(.0)\u001b[0m\n\u001b[0;32m    254\u001b[0m         \u001b[1;32mwith\u001b[0m \u001b[0mparallel_backend\u001b[0m\u001b[1;33m(\u001b[0m\u001b[0mself\u001b[0m\u001b[1;33m.\u001b[0m\u001b[0m_backend\u001b[0m\u001b[1;33m,\u001b[0m \u001b[0mn_jobs\u001b[0m\u001b[1;33m=\u001b[0m\u001b[0mself\u001b[0m\u001b[1;33m.\u001b[0m\u001b[0m_n_jobs\u001b[0m\u001b[1;33m)\u001b[0m\u001b[1;33m:\u001b[0m\u001b[1;33m\u001b[0m\u001b[1;33m\u001b[0m\u001b[0m\n\u001b[0;32m    255\u001b[0m             return [func(*args, **kwargs)\n\u001b[1;32m--> 256\u001b[1;33m                     for func, args, kwargs in self.items]\n\u001b[0m\u001b[0;32m    257\u001b[0m \u001b[1;33m\u001b[0m\u001b[0m\n\u001b[0;32m    258\u001b[0m     \u001b[1;32mdef\u001b[0m \u001b[0m__len__\u001b[0m\u001b[1;33m(\u001b[0m\u001b[0mself\u001b[0m\u001b[1;33m)\u001b[0m\u001b[1;33m:\u001b[0m\u001b[1;33m\u001b[0m\u001b[1;33m\u001b[0m\u001b[0m\n",
      "\u001b[1;32m~\\AppData\\Roaming\\Python\\Python37\\site-packages\\sklearn\\linear_model\\_logistic.py\u001b[0m in \u001b[0;36m_logistic_regression_path\u001b[1;34m(X, y, pos_class, Cs, fit_intercept, max_iter, tol, verbose, solver, coef, class_weight, dual, penalty, intercept_scaling, multi_class, random_state, check_input, max_squared_sum, sample_weight, l1_ratio)\u001b[0m\n\u001b[0;32m    938\u001b[0m             n_iter_i = _check_optimize_result(\n\u001b[0;32m    939\u001b[0m                 \u001b[0msolver\u001b[0m\u001b[1;33m,\u001b[0m \u001b[0mopt_res\u001b[0m\u001b[1;33m,\u001b[0m \u001b[0mmax_iter\u001b[0m\u001b[1;33m,\u001b[0m\u001b[1;33m\u001b[0m\u001b[1;33m\u001b[0m\u001b[0m\n\u001b[1;32m--> 940\u001b[1;33m                 extra_warning_msg=_LOGISTIC_SOLVER_CONVERGENCE_MSG)\n\u001b[0m\u001b[0;32m    941\u001b[0m             \u001b[0mw0\u001b[0m\u001b[1;33m,\u001b[0m \u001b[0mloss\u001b[0m \u001b[1;33m=\u001b[0m \u001b[0mopt_res\u001b[0m\u001b[1;33m.\u001b[0m\u001b[0mx\u001b[0m\u001b[1;33m,\u001b[0m \u001b[0mopt_res\u001b[0m\u001b[1;33m.\u001b[0m\u001b[0mfun\u001b[0m\u001b[1;33m\u001b[0m\u001b[1;33m\u001b[0m\u001b[0m\n\u001b[0;32m    942\u001b[0m         \u001b[1;32melif\u001b[0m \u001b[0msolver\u001b[0m \u001b[1;33m==\u001b[0m \u001b[1;34m'newton-cg'\u001b[0m\u001b[1;33m:\u001b[0m\u001b[1;33m\u001b[0m\u001b[1;33m\u001b[0m\u001b[0m\n",
      "\u001b[1;32m~\\AppData\\Roaming\\Python\\Python37\\site-packages\\sklearn\\utils\\optimize.py\u001b[0m in \u001b[0;36m_check_optimize_result\u001b[1;34m(solver, result, max_iter, extra_warning_msg)\u001b[0m\n\u001b[0;32m    241\u001b[0m                 \u001b[1;34m\"    https://scikit-learn.org/stable/modules/\"\u001b[0m\u001b[1;33m\u001b[0m\u001b[1;33m\u001b[0m\u001b[0m\n\u001b[0;32m    242\u001b[0m                 \u001b[1;34m\"preprocessing.html\"\u001b[0m\u001b[1;33m\u001b[0m\u001b[1;33m\u001b[0m\u001b[0m\n\u001b[1;32m--> 243\u001b[1;33m             ).format(solver, result.status, result.message.decode(\"latin1\"))\n\u001b[0m\u001b[0;32m    244\u001b[0m             \u001b[1;32mif\u001b[0m \u001b[0mextra_warning_msg\u001b[0m \u001b[1;32mis\u001b[0m \u001b[1;32mnot\u001b[0m \u001b[1;32mNone\u001b[0m\u001b[1;33m:\u001b[0m\u001b[1;33m\u001b[0m\u001b[1;33m\u001b[0m\u001b[0m\n\u001b[0;32m    245\u001b[0m                 \u001b[0mwarning_msg\u001b[0m \u001b[1;33m+=\u001b[0m \u001b[1;34m\"\\n\"\u001b[0m \u001b[1;33m+\u001b[0m \u001b[0mextra_warning_msg\u001b[0m\u001b[1;33m\u001b[0m\u001b[1;33m\u001b[0m\u001b[0m\n",
      "\u001b[1;31mAttributeError\u001b[0m: 'str' object has no attribute 'decode'"
     ]
    }
   ],
   "source": [
    "lr.fit(X_train, y_train2)"
   ]
  },
  {
   "cell_type": "code",
   "execution_count": null,
   "metadata": {},
   "outputs": [],
   "source": []
  }
 ],
 "metadata": {
  "kernelspec": {
   "display_name": "Python 3",
   "language": "python",
   "name": "python3"
  },
  "language_info": {
   "codemirror_mode": {
    "name": "ipython",
    "version": 3
   },
   "file_extension": ".py",
   "mimetype": "text/x-python",
   "name": "python",
   "nbconvert_exporter": "python",
   "pygments_lexer": "ipython3",
   "version": "3.7.1"
  }
 },
 "nbformat": 4,
 "nbformat_minor": 2
}
