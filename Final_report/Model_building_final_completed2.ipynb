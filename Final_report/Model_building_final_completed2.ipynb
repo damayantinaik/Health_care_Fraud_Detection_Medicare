{
 "cells": [
  {
   "cell_type": "markdown",
   "metadata": {},
   "source": [
    "# Machine Learning Model building:"
   ]
  },
  {
   "cell_type": "markdown",
   "metadata": {},
   "source": [
    "After feature engineering, different Machine Learning models were trained and evaluated."
   ]
  },
  {
   "cell_type": "markdown",
   "metadata": {},
   "source": [
    "## Import Python Libraries"
   ]
  },
  {
   "cell_type": "code",
   "execution_count": 1,
   "metadata": {},
   "outputs": [],
   "source": [
    "import numpy as np\n",
    "import pandas as pd\n",
    "import matplotlib.pyplot as plt\n",
    "import seaborn as sns"
   ]
  },
  {
   "cell_type": "markdown",
   "metadata": {},
   "source": [
    "## Import data"
   ]
  },
  {
   "cell_type": "code",
   "execution_count": 2,
   "metadata": {},
   "outputs": [],
   "source": [
    "X_train = pd.read_csv('X_train_processed.csv')\n",
    "y_train = pd.read_csv('y_train_processed.csv')\n",
    "\n",
    "X_test = pd.read_csv('X_test_processed.csv')\n",
    "y_test = pd.read_csv('y_test_processed.csv')"
   ]
  },
  {
   "cell_type": "code",
   "execution_count": 3,
   "metadata": {},
   "outputs": [
    {
     "data": {
      "text/plain": [
       "((1185, 610), (1185, 1), (509, 610), (509, 1))"
      ]
     },
     "execution_count": 3,
     "metadata": {},
     "output_type": "execute_result"
    }
   ],
   "source": [
    "X_train.shape, y_train.shape, X_test.shape, y_test.shape"
   ]
  },
  {
   "cell_type": "code",
   "execution_count": 4,
   "metadata": {},
   "outputs": [
    {
     "data": {
      "text/html": [
       "<div>\n",
       "<style scoped>\n",
       "    .dataframe tbody tr th:only-of-type {\n",
       "        vertical-align: middle;\n",
       "    }\n",
       "\n",
       "    .dataframe tbody tr th {\n",
       "        vertical-align: top;\n",
       "    }\n",
       "\n",
       "    .dataframe thead th {\n",
       "        text-align: right;\n",
       "    }\n",
       "</style>\n",
       "<table border=\"1\" class=\"dataframe\">\n",
       "  <thead>\n",
       "    <tr style=\"text-align: right;\">\n",
       "      <th></th>\n",
       "      <th>InscClaimAmtReimbursed_x</th>\n",
       "      <th>InpatientClaimPeriod</th>\n",
       "      <th>DurationInHospital</th>\n",
       "      <th>DeductibleAmtPaid_x</th>\n",
       "      <th>NoOfMonths_PartACov</th>\n",
       "      <th>NoOfMonths_PartBCov</th>\n",
       "      <th>IPAnnualReimbursementAmt</th>\n",
       "      <th>IPAnnualDeductibleAmt</th>\n",
       "      <th>OPAnnualReimbursementAmt</th>\n",
       "      <th>OPAnnualDeductibleAmt</th>\n",
       "      <th>...</th>\n",
       "      <th>County_981_y</th>\n",
       "      <th>County_982_y</th>\n",
       "      <th>County_983_y</th>\n",
       "      <th>County_984_y</th>\n",
       "      <th>County_986_y</th>\n",
       "      <th>County_988_y</th>\n",
       "      <th>County_989_y</th>\n",
       "      <th>County_990_y</th>\n",
       "      <th>County_991_y</th>\n",
       "      <th>County_992_y</th>\n",
       "    </tr>\n",
       "  </thead>\n",
       "  <tbody>\n",
       "    <tr>\n",
       "      <th>0</th>\n",
       "      <td>0.035290</td>\n",
       "      <td>0.634834</td>\n",
       "      <td>0.632766</td>\n",
       "      <td>0.0</td>\n",
       "      <td>0.215258</td>\n",
       "      <td>-0.648255</td>\n",
       "      <td>-0.037962</td>\n",
       "      <td>-0.016147</td>\n",
       "      <td>-0.242751</td>\n",
       "      <td>-0.867557</td>\n",
       "      <td>...</td>\n",
       "      <td>0.0</td>\n",
       "      <td>0.0</td>\n",
       "      <td>0.0</td>\n",
       "      <td>0.0</td>\n",
       "      <td>0.0</td>\n",
       "      <td>0.0</td>\n",
       "      <td>0.0</td>\n",
       "      <td>0.0</td>\n",
       "      <td>0.0</td>\n",
       "      <td>0.0</td>\n",
       "    </tr>\n",
       "    <tr>\n",
       "      <th>1</th>\n",
       "      <td>-0.547996</td>\n",
       "      <td>0.887340</td>\n",
       "      <td>0.885036</td>\n",
       "      <td>0.0</td>\n",
       "      <td>0.215258</td>\n",
       "      <td>0.237652</td>\n",
       "      <td>-1.116700</td>\n",
       "      <td>-0.475348</td>\n",
       "      <td>-0.902800</td>\n",
       "      <td>-0.997736</td>\n",
       "      <td>...</td>\n",
       "      <td>0.0</td>\n",
       "      <td>0.0</td>\n",
       "      <td>0.0</td>\n",
       "      <td>0.0</td>\n",
       "      <td>0.0</td>\n",
       "      <td>0.0</td>\n",
       "      <td>0.0</td>\n",
       "      <td>0.0</td>\n",
       "      <td>0.0</td>\n",
       "      <td>0.0</td>\n",
       "    </tr>\n",
       "    <tr>\n",
       "      <th>2</th>\n",
       "      <td>-0.017145</td>\n",
       "      <td>-0.822593</td>\n",
       "      <td>-0.823304</td>\n",
       "      <td>0.0</td>\n",
       "      <td>0.215258</td>\n",
       "      <td>-1.695236</td>\n",
       "      <td>-0.372273</td>\n",
       "      <td>-0.326406</td>\n",
       "      <td>-0.438602</td>\n",
       "      <td>-0.818562</td>\n",
       "      <td>...</td>\n",
       "      <td>0.0</td>\n",
       "      <td>0.0</td>\n",
       "      <td>0.0</td>\n",
       "      <td>0.0</td>\n",
       "      <td>0.0</td>\n",
       "      <td>0.0</td>\n",
       "      <td>0.0</td>\n",
       "      <td>0.0</td>\n",
       "      <td>0.0</td>\n",
       "      <td>0.0</td>\n",
       "    </tr>\n",
       "    <tr>\n",
       "      <th>3</th>\n",
       "      <td>0.238384</td>\n",
       "      <td>-1.056474</td>\n",
       "      <td>-1.056968</td>\n",
       "      <td>0.0</td>\n",
       "      <td>0.215258</td>\n",
       "      <td>0.237652</td>\n",
       "      <td>-0.434826</td>\n",
       "      <td>-0.442754</td>\n",
       "      <td>-0.737917</td>\n",
       "      <td>0.944394</td>\n",
       "      <td>...</td>\n",
       "      <td>0.0</td>\n",
       "      <td>0.0</td>\n",
       "      <td>0.0</td>\n",
       "      <td>0.0</td>\n",
       "      <td>0.0</td>\n",
       "      <td>0.0</td>\n",
       "      <td>0.0</td>\n",
       "      <td>0.0</td>\n",
       "      <td>0.0</td>\n",
       "      <td>0.0</td>\n",
       "    </tr>\n",
       "    <tr>\n",
       "      <th>4</th>\n",
       "      <td>-0.817705</td>\n",
       "      <td>-0.770619</td>\n",
       "      <td>-0.771379</td>\n",
       "      <td>0.0</td>\n",
       "      <td>0.215258</td>\n",
       "      <td>0.237652</td>\n",
       "      <td>-0.205604</td>\n",
       "      <td>0.837067</td>\n",
       "      <td>-0.546073</td>\n",
       "      <td>0.195945</td>\n",
       "      <td>...</td>\n",
       "      <td>0.0</td>\n",
       "      <td>0.0</td>\n",
       "      <td>0.0</td>\n",
       "      <td>0.0</td>\n",
       "      <td>0.0</td>\n",
       "      <td>0.0</td>\n",
       "      <td>0.0</td>\n",
       "      <td>0.0</td>\n",
       "      <td>0.0</td>\n",
       "      <td>0.0</td>\n",
       "    </tr>\n",
       "  </tbody>\n",
       "</table>\n",
       "<p>5 rows × 610 columns</p>\n",
       "</div>"
      ],
      "text/plain": [
       "   InscClaimAmtReimbursed_x  InpatientClaimPeriod  DurationInHospital  \\\n",
       "0                  0.035290              0.634834            0.632766   \n",
       "1                 -0.547996              0.887340            0.885036   \n",
       "2                 -0.017145             -0.822593           -0.823304   \n",
       "3                  0.238384             -1.056474           -1.056968   \n",
       "4                 -0.817705             -0.770619           -0.771379   \n",
       "\n",
       "   DeductibleAmtPaid_x  NoOfMonths_PartACov  NoOfMonths_PartBCov  \\\n",
       "0                  0.0             0.215258            -0.648255   \n",
       "1                  0.0             0.215258             0.237652   \n",
       "2                  0.0             0.215258            -1.695236   \n",
       "3                  0.0             0.215258             0.237652   \n",
       "4                  0.0             0.215258             0.237652   \n",
       "\n",
       "   IPAnnualReimbursementAmt  IPAnnualDeductibleAmt  OPAnnualReimbursementAmt  \\\n",
       "0                 -0.037962              -0.016147                 -0.242751   \n",
       "1                 -1.116700              -0.475348                 -0.902800   \n",
       "2                 -0.372273              -0.326406                 -0.438602   \n",
       "3                 -0.434826              -0.442754                 -0.737917   \n",
       "4                 -0.205604               0.837067                 -0.546073   \n",
       "\n",
       "   OPAnnualDeductibleAmt  ...  County_981_y  County_982_y  County_983_y  \\\n",
       "0              -0.867557  ...           0.0           0.0           0.0   \n",
       "1              -0.997736  ...           0.0           0.0           0.0   \n",
       "2              -0.818562  ...           0.0           0.0           0.0   \n",
       "3               0.944394  ...           0.0           0.0           0.0   \n",
       "4               0.195945  ...           0.0           0.0           0.0   \n",
       "\n",
       "   County_984_y  County_986_y  County_988_y  County_989_y  County_990_y  \\\n",
       "0           0.0           0.0           0.0           0.0           0.0   \n",
       "1           0.0           0.0           0.0           0.0           0.0   \n",
       "2           0.0           0.0           0.0           0.0           0.0   \n",
       "3           0.0           0.0           0.0           0.0           0.0   \n",
       "4           0.0           0.0           0.0           0.0           0.0   \n",
       "\n",
       "   County_991_y  County_992_y  \n",
       "0           0.0           0.0  \n",
       "1           0.0           0.0  \n",
       "2           0.0           0.0  \n",
       "3           0.0           0.0  \n",
       "4           0.0           0.0  \n",
       "\n",
       "[5 rows x 610 columns]"
      ]
     },
     "execution_count": 4,
     "metadata": {},
     "output_type": "execute_result"
    }
   ],
   "source": [
    "X_train.head()"
   ]
  },
  {
   "cell_type": "code",
   "execution_count": 5,
   "metadata": {},
   "outputs": [
    {
     "data": {
      "text/html": [
       "<div>\n",
       "<style scoped>\n",
       "    .dataframe tbody tr th:only-of-type {\n",
       "        vertical-align: middle;\n",
       "    }\n",
       "\n",
       "    .dataframe tbody tr th {\n",
       "        vertical-align: top;\n",
       "    }\n",
       "\n",
       "    .dataframe thead th {\n",
       "        text-align: right;\n",
       "    }\n",
       "</style>\n",
       "<table border=\"1\" class=\"dataframe\">\n",
       "  <thead>\n",
       "    <tr style=\"text-align: right;\">\n",
       "      <th></th>\n",
       "      <th>PotentialFraud</th>\n",
       "    </tr>\n",
       "  </thead>\n",
       "  <tbody>\n",
       "    <tr>\n",
       "      <th>0</th>\n",
       "      <td>1</td>\n",
       "    </tr>\n",
       "    <tr>\n",
       "      <th>1</th>\n",
       "      <td>0</td>\n",
       "    </tr>\n",
       "    <tr>\n",
       "      <th>2</th>\n",
       "      <td>1</td>\n",
       "    </tr>\n",
       "    <tr>\n",
       "      <th>3</th>\n",
       "      <td>0</td>\n",
       "    </tr>\n",
       "    <tr>\n",
       "      <th>4</th>\n",
       "      <td>0</td>\n",
       "    </tr>\n",
       "  </tbody>\n",
       "</table>\n",
       "</div>"
      ],
      "text/plain": [
       "   PotentialFraud\n",
       "0               1\n",
       "1               0\n",
       "2               1\n",
       "3               0\n",
       "4               0"
      ]
     },
     "execution_count": 5,
     "metadata": {},
     "output_type": "execute_result"
    }
   ],
   "source": [
    "y_train.head()"
   ]
  },
  {
   "cell_type": "code",
   "execution_count": 6,
   "metadata": {},
   "outputs": [
    {
     "data": {
      "text/plain": [
       "(1185, 1)"
      ]
     },
     "execution_count": 6,
     "metadata": {},
     "output_type": "execute_result"
    }
   ],
   "source": [
    "y_train.shape"
   ]
  },
  {
   "cell_type": "code",
   "execution_count": 7,
   "metadata": {},
   "outputs": [
    {
     "data": {
      "text/html": [
       "<div>\n",
       "<style scoped>\n",
       "    .dataframe tbody tr th:only-of-type {\n",
       "        vertical-align: middle;\n",
       "    }\n",
       "\n",
       "    .dataframe tbody tr th {\n",
       "        vertical-align: top;\n",
       "    }\n",
       "\n",
       "    .dataframe thead th {\n",
       "        text-align: right;\n",
       "    }\n",
       "</style>\n",
       "<table border=\"1\" class=\"dataframe\">\n",
       "  <thead>\n",
       "    <tr style=\"text-align: right;\">\n",
       "      <th></th>\n",
       "      <th>InscClaimAmtReimbursed_x</th>\n",
       "      <th>InpatientClaimPeriod</th>\n",
       "      <th>DurationInHospital</th>\n",
       "      <th>DeductibleAmtPaid_x</th>\n",
       "      <th>NoOfMonths_PartACov</th>\n",
       "      <th>NoOfMonths_PartBCov</th>\n",
       "      <th>IPAnnualReimbursementAmt</th>\n",
       "      <th>IPAnnualDeductibleAmt</th>\n",
       "      <th>OPAnnualReimbursementAmt</th>\n",
       "      <th>OPAnnualDeductibleAmt</th>\n",
       "      <th>...</th>\n",
       "      <th>County_981_y</th>\n",
       "      <th>County_982_y</th>\n",
       "      <th>County_983_y</th>\n",
       "      <th>County_984_y</th>\n",
       "      <th>County_986_y</th>\n",
       "      <th>County_988_y</th>\n",
       "      <th>County_989_y</th>\n",
       "      <th>County_990_y</th>\n",
       "      <th>County_991_y</th>\n",
       "      <th>County_992_y</th>\n",
       "    </tr>\n",
       "  </thead>\n",
       "  <tbody>\n",
       "    <tr>\n",
       "      <th>0</th>\n",
       "      <td>0.746119</td>\n",
       "      <td>0.015482</td>\n",
       "      <td>0.013990</td>\n",
       "      <td>0.0</td>\n",
       "      <td>0.215258</td>\n",
       "      <td>0.237652</td>\n",
       "      <td>-0.131748</td>\n",
       "      <td>-0.602731</td>\n",
       "      <td>-0.630329</td>\n",
       "      <td>-1.104246</td>\n",
       "      <td>...</td>\n",
       "      <td>0.0</td>\n",
       "      <td>0.0</td>\n",
       "      <td>0.0</td>\n",
       "      <td>0.0</td>\n",
       "      <td>0.0</td>\n",
       "      <td>0.0</td>\n",
       "      <td>0.0</td>\n",
       "      <td>0.0</td>\n",
       "      <td>0.0</td>\n",
       "      <td>0.0</td>\n",
       "    </tr>\n",
       "    <tr>\n",
       "      <th>1</th>\n",
       "      <td>0.077940</td>\n",
       "      <td>0.069080</td>\n",
       "      <td>0.067538</td>\n",
       "      <td>0.0</td>\n",
       "      <td>0.215258</td>\n",
       "      <td>-1.091209</td>\n",
       "      <td>-0.068184</td>\n",
       "      <td>0.941023</td>\n",
       "      <td>-0.571998</td>\n",
       "      <td>-0.559701</td>\n",
       "      <td>...</td>\n",
       "      <td>0.0</td>\n",
       "      <td>0.0</td>\n",
       "      <td>0.0</td>\n",
       "      <td>0.0</td>\n",
       "      <td>0.0</td>\n",
       "      <td>0.0</td>\n",
       "      <td>0.0</td>\n",
       "      <td>0.0</td>\n",
       "      <td>0.0</td>\n",
       "      <td>0.0</td>\n",
       "    </tr>\n",
       "    <tr>\n",
       "      <th>2</th>\n",
       "      <td>0.055599</td>\n",
       "      <td>0.229873</td>\n",
       "      <td>0.228182</td>\n",
       "      <td>0.0</td>\n",
       "      <td>-1.596361</td>\n",
       "      <td>0.237652</td>\n",
       "      <td>-0.162986</td>\n",
       "      <td>-0.602731</td>\n",
       "      <td>-1.229842</td>\n",
       "      <td>-1.281763</td>\n",
       "      <td>...</td>\n",
       "      <td>0.0</td>\n",
       "      <td>0.0</td>\n",
       "      <td>0.0</td>\n",
       "      <td>0.0</td>\n",
       "      <td>0.0</td>\n",
       "      <td>0.0</td>\n",
       "      <td>0.0</td>\n",
       "      <td>0.0</td>\n",
       "      <td>0.0</td>\n",
       "      <td>0.0</td>\n",
       "    </tr>\n",
       "    <tr>\n",
       "      <th>3</th>\n",
       "      <td>-0.167804</td>\n",
       "      <td>1.135081</td>\n",
       "      <td>1.132546</td>\n",
       "      <td>0.0</td>\n",
       "      <td>0.215258</td>\n",
       "      <td>0.237652</td>\n",
       "      <td>-1.068428</td>\n",
       "      <td>-0.869361</td>\n",
       "      <td>-0.891738</td>\n",
       "      <td>-0.539711</td>\n",
       "      <td>...</td>\n",
       "      <td>0.0</td>\n",
       "      <td>0.0</td>\n",
       "      <td>0.0</td>\n",
       "      <td>0.0</td>\n",
       "      <td>0.0</td>\n",
       "      <td>0.0</td>\n",
       "      <td>0.0</td>\n",
       "      <td>0.0</td>\n",
       "      <td>0.0</td>\n",
       "      <td>0.0</td>\n",
       "    </tr>\n",
       "    <tr>\n",
       "      <th>4</th>\n",
       "      <td>0.347878</td>\n",
       "      <td>0.323087</td>\n",
       "      <td>0.321308</td>\n",
       "      <td>0.0</td>\n",
       "      <td>0.215258</td>\n",
       "      <td>0.237652</td>\n",
       "      <td>-0.044202</td>\n",
       "      <td>-0.554042</td>\n",
       "      <td>-0.302378</td>\n",
       "      <td>-0.617587</td>\n",
       "      <td>...</td>\n",
       "      <td>0.0</td>\n",
       "      <td>0.0</td>\n",
       "      <td>0.0</td>\n",
       "      <td>0.0</td>\n",
       "      <td>0.0</td>\n",
       "      <td>0.0</td>\n",
       "      <td>0.0</td>\n",
       "      <td>0.0</td>\n",
       "      <td>0.0</td>\n",
       "      <td>0.0</td>\n",
       "    </tr>\n",
       "  </tbody>\n",
       "</table>\n",
       "<p>5 rows × 610 columns</p>\n",
       "</div>"
      ],
      "text/plain": [
       "   InscClaimAmtReimbursed_x  InpatientClaimPeriod  DurationInHospital  \\\n",
       "0                  0.746119              0.015482            0.013990   \n",
       "1                  0.077940              0.069080            0.067538   \n",
       "2                  0.055599              0.229873            0.228182   \n",
       "3                 -0.167804              1.135081            1.132546   \n",
       "4                  0.347878              0.323087            0.321308   \n",
       "\n",
       "   DeductibleAmtPaid_x  NoOfMonths_PartACov  NoOfMonths_PartBCov  \\\n",
       "0                  0.0             0.215258             0.237652   \n",
       "1                  0.0             0.215258            -1.091209   \n",
       "2                  0.0            -1.596361             0.237652   \n",
       "3                  0.0             0.215258             0.237652   \n",
       "4                  0.0             0.215258             0.237652   \n",
       "\n",
       "   IPAnnualReimbursementAmt  IPAnnualDeductibleAmt  OPAnnualReimbursementAmt  \\\n",
       "0                 -0.131748              -0.602731                 -0.630329   \n",
       "1                 -0.068184               0.941023                 -0.571998   \n",
       "2                 -0.162986              -0.602731                 -1.229842   \n",
       "3                 -1.068428              -0.869361                 -0.891738   \n",
       "4                 -0.044202              -0.554042                 -0.302378   \n",
       "\n",
       "   OPAnnualDeductibleAmt  ...  County_981_y  County_982_y  County_983_y  \\\n",
       "0              -1.104246  ...           0.0           0.0           0.0   \n",
       "1              -0.559701  ...           0.0           0.0           0.0   \n",
       "2              -1.281763  ...           0.0           0.0           0.0   \n",
       "3              -0.539711  ...           0.0           0.0           0.0   \n",
       "4              -0.617587  ...           0.0           0.0           0.0   \n",
       "\n",
       "   County_984_y  County_986_y  County_988_y  County_989_y  County_990_y  \\\n",
       "0           0.0           0.0           0.0           0.0           0.0   \n",
       "1           0.0           0.0           0.0           0.0           0.0   \n",
       "2           0.0           0.0           0.0           0.0           0.0   \n",
       "3           0.0           0.0           0.0           0.0           0.0   \n",
       "4           0.0           0.0           0.0           0.0           0.0   \n",
       "\n",
       "   County_991_y  County_992_y  \n",
       "0           0.0           0.0  \n",
       "1           0.0           0.0  \n",
       "2           0.0           0.0  \n",
       "3           0.0           0.0  \n",
       "4           0.0           0.0  \n",
       "\n",
       "[5 rows x 610 columns]"
      ]
     },
     "execution_count": 7,
     "metadata": {},
     "output_type": "execute_result"
    }
   ],
   "source": [
    "X_test.head()"
   ]
  },
  {
   "cell_type": "code",
   "execution_count": 8,
   "metadata": {},
   "outputs": [
    {
     "data": {
      "text/html": [
       "<div>\n",
       "<style scoped>\n",
       "    .dataframe tbody tr th:only-of-type {\n",
       "        vertical-align: middle;\n",
       "    }\n",
       "\n",
       "    .dataframe tbody tr th {\n",
       "        vertical-align: top;\n",
       "    }\n",
       "\n",
       "    .dataframe thead th {\n",
       "        text-align: right;\n",
       "    }\n",
       "</style>\n",
       "<table border=\"1\" class=\"dataframe\">\n",
       "  <thead>\n",
       "    <tr style=\"text-align: right;\">\n",
       "      <th></th>\n",
       "      <th>PotentialFraud</th>\n",
       "    </tr>\n",
       "  </thead>\n",
       "  <tbody>\n",
       "    <tr>\n",
       "      <th>0</th>\n",
       "      <td>1</td>\n",
       "    </tr>\n",
       "    <tr>\n",
       "      <th>1</th>\n",
       "      <td>1</td>\n",
       "    </tr>\n",
       "    <tr>\n",
       "      <th>2</th>\n",
       "      <td>0</td>\n",
       "    </tr>\n",
       "    <tr>\n",
       "      <th>3</th>\n",
       "      <td>0</td>\n",
       "    </tr>\n",
       "    <tr>\n",
       "      <th>4</th>\n",
       "      <td>1</td>\n",
       "    </tr>\n",
       "  </tbody>\n",
       "</table>\n",
       "</div>"
      ],
      "text/plain": [
       "   PotentialFraud\n",
       "0               1\n",
       "1               1\n",
       "2               0\n",
       "3               0\n",
       "4               1"
      ]
     },
     "execution_count": 8,
     "metadata": {},
     "output_type": "execute_result"
    }
   ],
   "source": [
    "y_test.head()"
   ]
  },
  {
   "cell_type": "code",
   "execution_count": 9,
   "metadata": {},
   "outputs": [],
   "source": [
    "y_train = y_train.values.ravel()"
   ]
  },
  {
   "cell_type": "code",
   "execution_count": 10,
   "metadata": {},
   "outputs": [],
   "source": [
    "y_test = y_test.values.ravel()"
   ]
  },
  {
   "cell_type": "markdown",
   "metadata": {},
   "source": [
    "## Building Different ML Models and their Evaluation"
   ]
  },
  {
   "cell_type": "markdown",
   "metadata": {},
   "source": [
    "## Logistic Regression"
   ]
  },
  {
   "cell_type": "code",
   "execution_count": 11,
   "metadata": {},
   "outputs": [
    {
     "name": "stdout",
     "output_type": "stream",
     "text": [
      "classification_report:\n",
      "               precision    recall  f1-score   support\n",
      "\n",
      "           1       0.72      0.47      0.57       123\n",
      "           0       0.85      0.94      0.89       386\n",
      "\n",
      "    accuracy                           0.83       509\n",
      "   macro avg       0.78      0.71      0.73       509\n",
      "weighted avg       0.82      0.83      0.81       509\n",
      "\n",
      "The ROC AUC score: 0.8419689119170983\n"
     ]
    }
   ],
   "source": [
    "from sklearn.linear_model import LogisticRegression\n",
    "lr = LogisticRegression(solver = 'liblinear', random_state = 42) \n",
    "# Changed the solver from 'lbfgs' to 'liblinear' and the error message \"Str object has no attribute decode\" solved.\n",
    "lr.fit(X_train, y_train)\n",
    "\n",
    "# Let us apply this to test set\n",
    "y_predict = lr.predict(X_test)\n",
    "y_predict_prob = lr.predict_proba(X_test)\n",
    "\n",
    "from sklearn.metrics import confusion_matrix, classification_report, roc_auc_score\n",
    "print(\"classification_report:\\n\", classification_report(y_test, y_predict, labels = [1, 0]))\n",
    "print(\"The ROC AUC score:\", roc_auc_score(y_test, y_predict_prob[:, 1]))"
   ]
  },
  {
   "cell_type": "markdown",
   "metadata": {},
   "source": [
    "## Decision Tree"
   ]
  },
  {
   "cell_type": "code",
   "execution_count": 12,
   "metadata": {},
   "outputs": [
    {
     "name": "stdout",
     "output_type": "stream",
     "text": [
      "classification_report:\n",
      "               precision    recall  f1-score   support\n",
      "\n",
      "           1       0.52      0.48      0.50       123\n",
      "           0       0.84      0.86      0.85       386\n",
      "\n",
      "    accuracy                           0.77       509\n",
      "   macro avg       0.68      0.67      0.67       509\n",
      "weighted avg       0.76      0.77      0.76       509\n",
      "\n",
      "The ROC AUC score: 0.6698892118454863\n"
     ]
    }
   ],
   "source": [
    "from sklearn.tree import DecisionTreeClassifier\n",
    "dtc = DecisionTreeClassifier(random_state = 42) \n",
    "dtc.fit(X_train, y_train)\n",
    "y_predict_dtc = dtc.predict(X_test)\n",
    "y_predict_prob = dtc.predict_proba(X_test)\n",
    "\n",
    "print(\"classification_report:\\n\", classification_report(y_test, y_predict_dtc, labels = [1, 0]))\n",
    "print(\"The ROC AUC score:\", roc_auc_score(y_test, y_predict_prob[:, 1]))"
   ]
  },
  {
   "cell_type": "markdown",
   "metadata": {},
   "source": [
    "## Random Forest Classifier"
   ]
  },
  {
   "cell_type": "code",
   "execution_count": 13,
   "metadata": {},
   "outputs": [
    {
     "name": "stdout",
     "output_type": "stream",
     "text": [
      "classification_report:\n",
      "               precision    recall  f1-score   support\n",
      "\n",
      "           1       0.76      0.33      0.46       123\n",
      "           0       0.82      0.97      0.89       386\n",
      "\n",
      "    accuracy                           0.81       509\n",
      "   macro avg       0.79      0.65      0.68       509\n",
      "weighted avg       0.81      0.81      0.78       509\n",
      "\n",
      "The ROC AUC score: 0.8348287627954\n"
     ]
    }
   ],
   "source": [
    "# Random forest classifier\n",
    "from sklearn.ensemble import RandomForestClassifier\n",
    "RFC = RandomForestClassifier(random_state = 42)\n",
    "RFC.fit(X_train, y_train)\n",
    "y_predict_RFC = RFC.predict(X_test)\n",
    "y_predict_prob = RFC.predict_proba(X_test)\n",
    "\n",
    "print(\"classification_report:\\n\", classification_report(y_test, y_predict_RFC, labels = [1, 0]))\n",
    "print(\"The ROC AUC score:\", roc_auc_score(y_test, y_predict_prob[:, 1]))"
   ]
  },
  {
   "cell_type": "markdown",
   "metadata": {},
   "source": [
    "## Gradient Boosting Classifier"
   ]
  },
  {
   "cell_type": "code",
   "execution_count": 14,
   "metadata": {},
   "outputs": [
    {
     "name": "stdout",
     "output_type": "stream",
     "text": [
      "classification_report:\n",
      "               precision    recall  f1-score   support\n",
      "\n",
      "           1       0.66      0.42      0.51       123\n",
      "           0       0.83      0.93      0.88       386\n",
      "\n",
      "    accuracy                           0.81       509\n",
      "   macro avg       0.75      0.68      0.70       509\n",
      "weighted avg       0.79      0.81      0.79       509\n",
      "\n",
      "The ROC AUC score: 0.8398626732381314\n"
     ]
    }
   ],
   "source": [
    "from sklearn.ensemble import GradientBoostingClassifier\n",
    "gbc = GradientBoostingClassifier(random_state = 42)\n",
    "gbc.fit(X_train, y_train)\n",
    "y_predict_gbc = gbc.predict(X_test)\n",
    "y_predict_prob = gbc.predict_proba(X_test)\n",
    "\n",
    "print(\"classification_report:\\n\", classification_report(y_test, y_predict_gbc, labels = [1, 0]))\n",
    "print(\"The ROC AUC score:\", roc_auc_score(y_test, y_predict_prob[:, 1]))"
   ]
  },
  {
   "cell_type": "markdown",
   "metadata": {},
   "source": [
    "## Support Vector Machine"
   ]
  },
  {
   "cell_type": "code",
   "execution_count": 15,
   "metadata": {},
   "outputs": [
    {
     "name": "stdout",
     "output_type": "stream",
     "text": [
      "classification_report:\n",
      "               precision    recall  f1-score   support\n",
      "\n",
      "           1       0.76      0.41      0.54       123\n",
      "           0       0.84      0.96      0.89       386\n",
      "\n",
      "    accuracy                           0.83       509\n",
      "   macro avg       0.80      0.69      0.72       509\n",
      "weighted avg       0.82      0.83      0.81       509\n",
      "\n",
      "The ROC AUC score: 0.8156619908167995\n"
     ]
    }
   ],
   "source": [
    "from sklearn.svm import SVC\n",
    "svc = SVC(probability=True, random_state = 42)\n",
    "svc.fit(X_train, y_train)\n",
    "y_predict_svc = svc.predict(X_test)\n",
    "y_predict_prob = svc.predict_proba(X_test)\n",
    "\n",
    "print(\"classification_report:\\n\", classification_report(y_test, y_predict_svc, labels = [1, 0]))\n",
    "print(\"The ROC AUC score:\", roc_auc_score(y_test, y_predict_prob[:, 1]))"
   ]
  },
  {
   "cell_type": "markdown",
   "metadata": {},
   "source": [
    "# Apply SMORT to handle the imbalance in the data"
   ]
  },
  {
   "cell_type": "code",
   "execution_count": 16,
   "metadata": {},
   "outputs": [
    {
     "name": "stdout",
     "output_type": "stream",
     "text": [
      "Counter({0: 912, 1: 273})\n",
      "Counter({1: 912, 0: 912})\n"
     ]
    }
   ],
   "source": [
    "import imblearn\n",
    "from collections import Counter\n",
    "from imblearn.over_sampling import SMOTE\n",
    "\n",
    "counter = Counter(y_train)\n",
    "print(counter)\n",
    "oversample = SMOTE()\n",
    "X_train, y_train = oversample.fit_resample(X_train, y_train)\n",
    "counter = Counter(y_train)\n",
    "print(counter)"
   ]
  },
  {
   "cell_type": "markdown",
   "metadata": {},
   "source": [
    "**Applying SMORT Transformed data, again train different ML models and evaluate:**  "
   ]
  },
  {
   "cell_type": "code",
   "execution_count": 17,
   "metadata": {},
   "outputs": [
    {
     "name": "stdout",
     "output_type": "stream",
     "text": [
      "Classification_report from Logistic regression:\n",
      "               precision    recall  f1-score   support\n",
      "\n",
      "           1       0.61      0.67      0.64       123\n",
      "           0       0.89      0.86      0.88       386\n",
      "\n",
      "    accuracy                           0.82       509\n",
      "   macro avg       0.75      0.77      0.76       509\n",
      "weighted avg       0.82      0.82      0.82       509\n",
      "\n",
      "The ROC AUC score from Logistic regression: 0.8503306794725978\n",
      "\n",
      "\n",
      "Classification_report from Decision Tree Clasiifier:\n",
      "               precision    recall  f1-score   support\n",
      "\n",
      "           1       0.48      0.54      0.51       123\n",
      "           0       0.85      0.81      0.83       386\n",
      "\n",
      "    accuracy                           0.75       509\n",
      "   macro avg       0.66      0.68      0.67       509\n",
      "weighted avg       0.76      0.75      0.75       509\n",
      "\n",
      "The ROC AUC score from Decision Tree Clasiifier: 0.6777981380850078\n",
      "\n",
      "\n",
      "Classification_report from Random Forest Classifier:\n",
      "               precision    recall  f1-score   support\n",
      "\n",
      "           1       0.63      0.53      0.58       123\n",
      "           0       0.86      0.90      0.88       386\n",
      "\n",
      "    accuracy                           0.81       509\n",
      "   macro avg       0.74      0.72      0.73       509\n",
      "weighted avg       0.80      0.81      0.81       509\n",
      "\n",
      "The ROC AUC score from Random Forest Classifier: 0.8431589367707149\n",
      "\n",
      "\n",
      "classification_report from Gradient Boosting Classifier:\n",
      "               precision    recall  f1-score   support\n",
      "\n",
      "           1       0.66      0.56      0.61       123\n",
      "           0       0.87      0.91      0.89       386\n",
      "\n",
      "    accuracy                           0.82       509\n",
      "   macro avg       0.76      0.73      0.75       509\n",
      "weighted avg       0.82      0.82      0.82       509\n",
      "\n",
      "The ROC AUC score from Gradient Boosting Classifier: 0.8455073928977632\n",
      "\n",
      "\n",
      "classification_report from Supportt Vector Classifier:\n",
      "               precision    recall  f1-score   support\n",
      "\n",
      "           1       0.64      0.63      0.64       123\n",
      "           0       0.88      0.89      0.89       386\n",
      "\n",
      "    accuracy                           0.83       509\n",
      "   macro avg       0.76      0.76      0.76       509\n",
      "weighted avg       0.83      0.83      0.83       509\n",
      "\n",
      "The ROC AUC score from Support Vector Classifier: 0.8483718775011585\n"
     ]
    }
   ],
   "source": [
    "# Logistic regression\n",
    "lr2 = LogisticRegression(solver = 'liblinear', random_state = 42) \n",
    "lr2.fit(X_train, y_train)\n",
    "y_predict_lr2 = lr2.predict(X_test)\n",
    "y_predict_prob = lr2.predict_proba(X_test)\n",
    "print(\"Classification_report from Logistic regression:\\n\", classification_report(y_test, y_predict_lr2, labels = [1, 0]))\n",
    "print(\"The ROC AUC score from Logistic regression:\", roc_auc_score(y_test, y_predict_prob[:, 1]))\n",
    "print(\"\\n\")\n",
    "\n",
    "# Decision Tree\n",
    "dtc2 = DecisionTreeClassifier(random_state = 42) \n",
    "dtc2.fit(X_train, y_train)\n",
    "y_predict_dtc2 = dtc2.predict(X_test)\n",
    "y_predict_prob = dtc2.predict_proba(X_test)\n",
    "print(\"Classification_report from Decision Tree Clasiifier:\\n\", classification_report(y_test, y_predict_dtc2, labels = [1, 0]))\n",
    "print(\"The ROC AUC score from Decision Tree Clasiifier:\", roc_auc_score(y_test, y_predict_prob[:, 1]))\n",
    "print(\"\\n\")\n",
    "\n",
    "# Random forest classifier\n",
    "RFC2 = RandomForestClassifier(random_state = 42)\n",
    "RFC2.fit(X_train, y_train)\n",
    "y_predict_RFC2 = RFC2.predict(X_test)\n",
    "y_predict_prob = RFC2.predict_proba(X_test)\n",
    "print(\"Classification_report from Random Forest Classifier:\\n\", classification_report(y_test, y_predict_RFC2, labels = [1, 0]))\n",
    "print(\"The ROC AUC score from Random Forest Classifier:\", roc_auc_score(y_test, y_predict_prob[:, 1]))\n",
    "print(\"\\n\")\n",
    "\n",
    "# Gradient Boosting\n",
    "gbc2 = GradientBoostingClassifier(random_state = 42)\n",
    "gbc2.fit(X_train, y_train)\n",
    "y_predict_gbc2 = gbc2.predict(X_test)\n",
    "y_predict_prob = gbc2.predict_proba(X_test)\n",
    "print(\"classification_report from Gradient Boosting Classifier:\\n\", classification_report(y_test, y_predict_gbc2, labels = [1, 0]))\n",
    "print(\"The ROC AUC score from Gradient Boosting Classifier:\", roc_auc_score(y_test, y_predict_prob[:, 1]))\n",
    "print(\"\\n\")\n",
    "\n",
    "# Support Vector Machine\n",
    "svc2 = SVC(probability=True,random_state = 42)\n",
    "svc2.fit(X_train, y_train)\n",
    "y_predict_svc2 = svc2.predict(X_test)\n",
    "y_predict_prob = svc2.predict_proba(X_test)\n",
    "print(\"classification_report from Supportt Vector Classifier:\\n\", classification_report(y_test, y_predict_svc2, labels = [1, 0]))\n",
    "print(\"The ROC AUC score from Support Vector Classifier:\", roc_auc_score(y_test, y_predict_prob[:, 1]))"
   ]
  },
  {
   "cell_type": "markdown",
   "metadata": {},
   "source": [
    "**After applying the SMORT on the data set, all the ML models performance increased, and among all, the Logistic regression performance is maximum.** "
   ]
  },
  {
   "cell_type": "markdown",
   "metadata": {},
   "source": [
    "# Apply GridsearchCV and RandomSearchCV on Logistic Regression"
   ]
  },
  {
   "cell_type": "code",
   "execution_count": 18,
   "metadata": {},
   "outputs": [
    {
     "name": "stdout",
     "output_type": "stream",
     "text": [
      "Best parameters from GridSearchCV on Logistic Regression: {'C': 0.1, 'max_iter': 100, 'penalty': 'l1'}\n",
      "Best Score from Grid Search CV on:  0.9138172322253002\n",
      "Classification_report from best Logistic regression model obtained from GridSeachCV:\n",
      "               precision    recall  f1-score   support\n",
      "\n",
      "           1       0.59      0.67      0.63       123\n",
      "           0       0.89      0.85      0.87       386\n",
      "\n",
      "    accuracy                           0.81       509\n",
      "   macro avg       0.74      0.76      0.75       509\n",
      "weighted avg       0.82      0.81      0.81       509\n",
      "\n",
      "The ROC AUC score from best Logistic regression model obtained from GridSeachCV: 0.8633682968954042\n"
     ]
    }
   ],
   "source": [
    "from sklearn.model_selection import GridSearchCV\n",
    "\n",
    "parameters = {'penalty': ['l1', 'l2'],\n",
    "             'C': [0.001, 0.01, 0.1, 1.0, 10],\n",
    "             'max_iter':[100, 200] \n",
    "             }\n",
    "lr3 = LogisticRegression(solver = 'liblinear', random_state = 42)\n",
    "gsc_lr3 = GridSearchCV(lr3, param_grid = parameters, scoring = {'f1_score': 'f1', 'roc_auc_score': 'roc_auc'}, refit = 'roc_auc_score', cv = 3, n_jobs = -1)\n",
    "gsc_lr3.fit(X_train, y_train)\n",
    "\n",
    "best_parameters = gsc_lr3.best_params_\n",
    "best_score = gsc_lr3.best_score_\n",
    "print(\"Best parameters from GridSearchCV on Logistic Regression:\", best_parameters)\n",
    "print(\"Best Score from Grid Search CV on: \", best_score)\n",
    "\n",
    "gsc_lr3_1 = LogisticRegression(solver = 'liblinear', random_state = 42, C = best_parameters['C'], penalty = best_parameters['penalty'], max_iter = best_parameters['max_iter'])\n",
    "gsc_lr3_1.fit(X_train, y_train)\n",
    "y_predict_gsc_lr3_1 = gsc_lr3_1.predict(X_test)\n",
    "y_predict_prob = gsc_lr3_1.predict_proba(X_test)\n",
    "\n",
    "print(\"Classification_report from best Logistic regression model obtained from GridSeachCV:\\n\", classification_report(y_test, y_predict_gsc_lr3_1, labels = [1, 0]))\n",
    "print(\"The ROC AUC score from best Logistic regression model obtained from GridSeachCV:\", roc_auc_score(y_test, y_predict_prob[:, 1]))"
   ]
  },
  {
   "cell_type": "code",
   "execution_count": 19,
   "metadata": {},
   "outputs": [
    {
     "name": "stdout",
     "output_type": "stream",
     "text": [
      "Best parameters from RandomizedSearchCV on Logistic Regression: {'penalty': 'l1', 'max_iter': 50.0, 'C': 2.223}\n",
      "Best Score from RandomizedSearchCV on:  0.9049234768114249\n",
      "classification_report:\n",
      "               precision    recall  f1-score   support\n",
      "\n",
      "           1       0.60      0.67      0.63       123\n",
      "           0       0.89      0.86      0.87       386\n",
      "\n",
      "    accuracy                           0.81       509\n",
      "   macro avg       0.75      0.76      0.75       509\n",
      "weighted avg       0.82      0.81      0.82       509\n",
      "\n",
      "The ROC AUC score: 0.8500989932179114\n"
     ]
    }
   ],
   "source": [
    "# Apply Randomized search on Logistic Regression\n",
    "from sklearn.model_selection import RandomizedSearchCV\n",
    "lr4 = LogisticRegression(solver = 'liblinear', random_state = 42)\n",
    "\n",
    "parameters = {'penalty': ['l1', 'l2'],\n",
    "             'C': np.linspace(0.001, 10, 10),\n",
    "             'max_iter':np.linspace(50, 200, 3)}\n",
    "rsc_lr4 = RandomizedSearchCV(lr4, param_distributions = parameters, scoring = 'roc_auc', random_state = 42, n_jobs = -1)\n",
    "rsc_lr4.fit(X_train, y_train)\n",
    "\n",
    "\n",
    "best_parameters = rsc_lr4.best_params_\n",
    "best_score = rsc_lr4.best_score_\n",
    "\n",
    "print(\"Best parameters from RandomizedSearchCV on Logistic Regression:\", best_parameters)\n",
    "print(\"Best Score from RandomizedSearchCV on: \", best_score)\n",
    "\n",
    "rsc_lr4_1 = LogisticRegression(solver = 'liblinear',random_state = 42, C = best_parameters['C'], penalty = best_parameters['penalty'], max_iter = best_parameters['max_iter'])\n",
    "rsc_lr4_1.fit(X_train, y_train)\n",
    "y_predict_rsc_lr4_1 = rsc_lr4_1.predict(X_test)\n",
    "y_predict_prob =rsc_lr4_1.predict_proba(X_test)\n",
    "\n",
    "print(\"classification_report:\\n\", classification_report(y_test, y_predict_rsc_lr4_1, labels = [1, 0]))\n",
    "print(\"The ROC AUC score:\", roc_auc_score(y_test, y_predict_prob[:, 1]))"
   ]
  },
  {
   "cell_type": "markdown",
   "metadata": {},
   "source": [
    "As the dataframe is small, here we'll take the optimized hyperparameter obtained from GridSearchCV, as the results from both GridSearchCV and RandomSearchCV are almost same."
   ]
  },
  {
   "cell_type": "markdown",
   "metadata": {},
   "source": [
    "**With application of GridSearchCV and RandomSearchCV, we obtained the maximum roc_auc score:0.85.**   "
   ]
  },
  {
   "cell_type": "markdown",
   "metadata": {},
   "source": [
    "# Select Best K features and train model again with diffrent number of features values"
   ]
  },
  {
   "cell_type": "code",
   "execution_count": 20,
   "metadata": {},
   "outputs": [],
   "source": [
    "# Write a function to carry out the SelectKBest, Logistic regression, GridSearchCV\n",
    "from sklearn.feature_selection import SelectKBest, f_classif, chi2\n",
    "def Best_features_LogisticRegression(X_tr, y_tr, X_te, y_te, K):\n",
    "    for k in K:\n",
    "        features_selector = SelectKBest(score_func = f_classif, k = k)\n",
    "        ordered = features_selector.fit_transform(X_tr, y_tr)\n",
    "        a = features_selector.get_support()\n",
    "        features = X_tr.columns\n",
    "        b = features[a].tolist()\n",
    "\n",
    "        lr5 = LogisticRegression(solver = 'liblinear', random_state = 42)\n",
    "        parameters = {'penalty': ['l1', 'l2'],\n",
    "             'C': [0.001, 0.01, 0.1, 1.0, 10],\n",
    "             'max_iter':[100, 200] \n",
    "             }\n",
    "        gbc_pipe = GridSearchCV(lr5, param_grid = parameters, scoring = {'f1_score': 'f1', 'roc_auc_score': 'roc_auc'}, refit = 'roc_auc_score', cv = 3, n_jobs = -1)      \n",
    "        gbc_pipe.fit(X_tr[b], y_tr)\n",
    "        best_parameters = gbc_pipe.best_params_\n",
    "        best_score = gbc_pipe.best_score_\n",
    "\n",
    "        print(\"K = \", k)\n",
    "        #print(\"Best parameters from GridSearchCV on Logistic Regression:\", best_parameters)\n",
    "        print(\"Best Score from Grid Search CV on: \", best_score)\n",
    "        print(\"\\n\")\n",
    "\n",
    "        gbc_lr7_1 = LogisticRegression(solver = 'liblinear',random_state = 42, C = best_parameters['C'], penalty = best_parameters['penalty'], max_iter = best_parameters['max_iter'])\n",
    "        gbc_lr7_1.fit(X_tr[b], y_tr)\n",
    "        y_predict_gbc_lr7_1 = gbc_lr7_1.predict(X_te[b])\n",
    "        y_predict_prob = gbc_lr7_1.predict_proba(X_te[b]) \n",
    "\n",
    "        print(\"classification_report:\\n\", classification_report(y_te, y_predict_gbc_lr7_1, labels = [1, 0]))\n",
    "        print(\"The ROC AUC score:\", roc_auc_score(y_te, y_predict_prob[:, 1]))\n",
    "    return print(\"End\")"
   ]
  },
  {
   "cell_type": "code",
   "execution_count": 21,
   "metadata": {},
   "outputs": [
    {
     "name": "stderr",
     "output_type": "stream",
     "text": [
      "C:\\Users\\user\\Anaconda3\\lib\\site-packages\\sklearn\\feature_selection\\_univariate_selection.py:112: UserWarning: Features [  3  31  32  33  49  50  51  52  53  54  55  57  58  59  60  61  62  63\n",
      "  64  65  66  67  68  69  70  71  72  73  74  75  76  77  78  79  80  81\n",
      "  82  83  84  85  86  87  88  89  90  91  92  93  94  95  96  97  98  99\n",
      " 100 101 102 103 104 105 106 107 108 109 110 111 112 113 114 115 116 117\n",
      " 118 119 120 121 122 123 124 125 126 127 128 129 130 131 132 133 134 135\n",
      " 136 137 138 139 140 141 142 143 144 145 146 147 148 149 150 151 152 153\n",
      " 154 155 156 157 158 159 160 161 162 163 164 165 166 167 168 169 170 171\n",
      " 172 173 174 175 176 177 178 179 180 181 182 183 184 185 186 187 188 189\n",
      " 190 191 192 193 194 195 196 197 198 199 200 201 202 203 204 205 206 207\n",
      " 208 209 210 211 212 213 214 215 216 217 218 219 220 221 222 223 224 225\n",
      " 226 227 228 229 230 231 232 233 234 235 236 237 238 239 240 241 242 243\n",
      " 244 245 246 247 248 249 250 251 252 253 254 255 256 257 258 259 260 261\n",
      " 262 263 264 265 266 267 268 269 270 271 272 273 274 275 276 277 278 279\n",
      " 280 300 301 302 303 304 305 321 322 323 324 325 326 327 329 330 331 332\n",
      " 333 334 335 336 337 338 339 340 341 342 343 344 345 346 347 348 349 350\n",
      " 351 352 353 354 355 356 357 358 359 360 361 362 363 364 365 366 367 368\n",
      " 369 370 371 372 373 374 375 376 377 378 379 380 381 382 383 384 385 386\n",
      " 387 388 389 390 391 392 393 394 395 396 397 398 399 400 401 402 403 404\n",
      " 405 406 407 408 409 410 411 412 413 414 415 416 417 418 419 420 421 422\n",
      " 423 424 425 426 427 428 429 430 431 432 433 434 435 436 437 438 439 440\n",
      " 441 442 443 444 445 446 447 448 449 450 451 452 453 454 455 456 457 458\n",
      " 459 460 461 462 463 464 465 466 467 468 469 470 471 472 473 474 475 476\n",
      " 477 478 479 480 481 482 483 484 485 486 487 488 489 490 491 492 493 494\n",
      " 495 496 497 498 499 500 501 502 503 504 505 506 507 508 509 510 511 512\n",
      " 513 514 515 516 517 518 519 520 521 522 523 524 525 526 527 528 529 530\n",
      " 531 532 533 534 535 536 537 538 539 540 541 542 543 544 545 546 547 548\n",
      " 549 550 551 552 553 554 555 556 557 558 559 560 561 562 563 564 565 566\n",
      " 567 568 569 570 571 572 573 574 575 576 577 578 579 580 581 582 583 584\n",
      " 585 586 587 588 589 590 591 592 593 594 595 596 597 598 599 600 601 602\n",
      " 603 604 605 606 607 608 609] are constant.\n",
      "  warnings.warn(\"Features %s are constant.\" % constant_features_idx, UserWarning)\n",
      "C:\\Users\\user\\Anaconda3\\lib\\site-packages\\sklearn\\feature_selection\\_univariate_selection.py:113: RuntimeWarning: invalid value encountered in true_divide\n",
      "  f = msb / msw\n"
     ]
    },
    {
     "name": "stdout",
     "output_type": "stream",
     "text": [
      "K =  100\n",
      "Best Score from Grid Search CV on:  0.9138208391043398\n",
      "\n",
      "\n",
      "classification_report:\n",
      "               precision    recall  f1-score   support\n",
      "\n",
      "           1       0.59      0.67      0.63       123\n",
      "           0       0.89      0.85      0.87       386\n",
      "\n",
      "    accuracy                           0.81       509\n",
      "   macro avg       0.74      0.76      0.75       509\n",
      "weighted avg       0.82      0.81      0.81       509\n",
      "\n",
      "The ROC AUC score: 0.8633472345086145\n"
     ]
    },
    {
     "name": "stderr",
     "output_type": "stream",
     "text": [
      "C:\\Users\\user\\Anaconda3\\lib\\site-packages\\sklearn\\feature_selection\\_univariate_selection.py:112: UserWarning: Features [  3  31  32  33  49  50  51  52  53  54  55  57  58  59  60  61  62  63\n",
      "  64  65  66  67  68  69  70  71  72  73  74  75  76  77  78  79  80  81\n",
      "  82  83  84  85  86  87  88  89  90  91  92  93  94  95  96  97  98  99\n",
      " 100 101 102 103 104 105 106 107 108 109 110 111 112 113 114 115 116 117\n",
      " 118 119 120 121 122 123 124 125 126 127 128 129 130 131 132 133 134 135\n",
      " 136 137 138 139 140 141 142 143 144 145 146 147 148 149 150 151 152 153\n",
      " 154 155 156 157 158 159 160 161 162 163 164 165 166 167 168 169 170 171\n",
      " 172 173 174 175 176 177 178 179 180 181 182 183 184 185 186 187 188 189\n",
      " 190 191 192 193 194 195 196 197 198 199 200 201 202 203 204 205 206 207\n",
      " 208 209 210 211 212 213 214 215 216 217 218 219 220 221 222 223 224 225\n",
      " 226 227 228 229 230 231 232 233 234 235 236 237 238 239 240 241 242 243\n",
      " 244 245 246 247 248 249 250 251 252 253 254 255 256 257 258 259 260 261\n",
      " 262 263 264 265 266 267 268 269 270 271 272 273 274 275 276 277 278 279\n",
      " 280 300 301 302 303 304 305 321 322 323 324 325 326 327 329 330 331 332\n",
      " 333 334 335 336 337 338 339 340 341 342 343 344 345 346 347 348 349 350\n",
      " 351 352 353 354 355 356 357 358 359 360 361 362 363 364 365 366 367 368\n",
      " 369 370 371 372 373 374 375 376 377 378 379 380 381 382 383 384 385 386\n",
      " 387 388 389 390 391 392 393 394 395 396 397 398 399 400 401 402 403 404\n",
      " 405 406 407 408 409 410 411 412 413 414 415 416 417 418 419 420 421 422\n",
      " 423 424 425 426 427 428 429 430 431 432 433 434 435 436 437 438 439 440\n",
      " 441 442 443 444 445 446 447 448 449 450 451 452 453 454 455 456 457 458\n",
      " 459 460 461 462 463 464 465 466 467 468 469 470 471 472 473 474 475 476\n",
      " 477 478 479 480 481 482 483 484 485 486 487 488 489 490 491 492 493 494\n",
      " 495 496 497 498 499 500 501 502 503 504 505 506 507 508 509 510 511 512\n",
      " 513 514 515 516 517 518 519 520 521 522 523 524 525 526 527 528 529 530\n",
      " 531 532 533 534 535 536 537 538 539 540 541 542 543 544 545 546 547 548\n",
      " 549 550 551 552 553 554 555 556 557 558 559 560 561 562 563 564 565 566\n",
      " 567 568 569 570 571 572 573 574 575 576 577 578 579 580 581 582 583 584\n",
      " 585 586 587 588 589 590 591 592 593 594 595 596 597 598 599 600 601 602\n",
      " 603 604 605 606 607 608 609] are constant.\n",
      "  warnings.warn(\"Features %s are constant.\" % constant_features_idx, UserWarning)\n",
      "C:\\Users\\user\\Anaconda3\\lib\\site-packages\\sklearn\\feature_selection\\_univariate_selection.py:113: RuntimeWarning: invalid value encountered in true_divide\n",
      "  f = msb / msw\n"
     ]
    },
    {
     "name": "stdout",
     "output_type": "stream",
     "text": [
      "K =  200\n",
      "Best Score from Grid Search CV on:  0.9138136253462604\n",
      "\n",
      "\n",
      "classification_report:\n",
      "               precision    recall  f1-score   support\n",
      "\n",
      "           1       0.59      0.67      0.63       123\n",
      "           0       0.89      0.85      0.87       386\n",
      "\n",
      "    accuracy                           0.81       509\n",
      "   macro avg       0.74      0.76      0.75       509\n",
      "weighted avg       0.82      0.81      0.81       509\n",
      "\n",
      "The ROC AUC score: 0.8633472345086145\n"
     ]
    },
    {
     "name": "stderr",
     "output_type": "stream",
     "text": [
      "C:\\Users\\user\\Anaconda3\\lib\\site-packages\\sklearn\\feature_selection\\_univariate_selection.py:112: UserWarning: Features [  3  31  32  33  49  50  51  52  53  54  55  57  58  59  60  61  62  63\n",
      "  64  65  66  67  68  69  70  71  72  73  74  75  76  77  78  79  80  81\n",
      "  82  83  84  85  86  87  88  89  90  91  92  93  94  95  96  97  98  99\n",
      " 100 101 102 103 104 105 106 107 108 109 110 111 112 113 114 115 116 117\n",
      " 118 119 120 121 122 123 124 125 126 127 128 129 130 131 132 133 134 135\n",
      " 136 137 138 139 140 141 142 143 144 145 146 147 148 149 150 151 152 153\n",
      " 154 155 156 157 158 159 160 161 162 163 164 165 166 167 168 169 170 171\n",
      " 172 173 174 175 176 177 178 179 180 181 182 183 184 185 186 187 188 189\n",
      " 190 191 192 193 194 195 196 197 198 199 200 201 202 203 204 205 206 207\n",
      " 208 209 210 211 212 213 214 215 216 217 218 219 220 221 222 223 224 225\n",
      " 226 227 228 229 230 231 232 233 234 235 236 237 238 239 240 241 242 243\n",
      " 244 245 246 247 248 249 250 251 252 253 254 255 256 257 258 259 260 261\n",
      " 262 263 264 265 266 267 268 269 270 271 272 273 274 275 276 277 278 279\n",
      " 280 300 301 302 303 304 305 321 322 323 324 325 326 327 329 330 331 332\n",
      " 333 334 335 336 337 338 339 340 341 342 343 344 345 346 347 348 349 350\n",
      " 351 352 353 354 355 356 357 358 359 360 361 362 363 364 365 366 367 368\n",
      " 369 370 371 372 373 374 375 376 377 378 379 380 381 382 383 384 385 386\n",
      " 387 388 389 390 391 392 393 394 395 396 397 398 399 400 401 402 403 404\n",
      " 405 406 407 408 409 410 411 412 413 414 415 416 417 418 419 420 421 422\n",
      " 423 424 425 426 427 428 429 430 431 432 433 434 435 436 437 438 439 440\n",
      " 441 442 443 444 445 446 447 448 449 450 451 452 453 454 455 456 457 458\n",
      " 459 460 461 462 463 464 465 466 467 468 469 470 471 472 473 474 475 476\n",
      " 477 478 479 480 481 482 483 484 485 486 487 488 489 490 491 492 493 494\n",
      " 495 496 497 498 499 500 501 502 503 504 505 506 507 508 509 510 511 512\n",
      " 513 514 515 516 517 518 519 520 521 522 523 524 525 526 527 528 529 530\n",
      " 531 532 533 534 535 536 537 538 539 540 541 542 543 544 545 546 547 548\n",
      " 549 550 551 552 553 554 555 556 557 558 559 560 561 562 563 564 565 566\n",
      " 567 568 569 570 571 572 573 574 575 576 577 578 579 580 581 582 583 584\n",
      " 585 586 587 588 589 590 591 592 593 594 595 596 597 598 599 600 601 602\n",
      " 603 604 605 606 607 608 609] are constant.\n",
      "  warnings.warn(\"Features %s are constant.\" % constant_features_idx, UserWarning)\n",
      "C:\\Users\\user\\Anaconda3\\lib\\site-packages\\sklearn\\feature_selection\\_univariate_selection.py:113: RuntimeWarning: invalid value encountered in true_divide\n",
      "  f = msb / msw\n"
     ]
    },
    {
     "name": "stdout",
     "output_type": "stream",
     "text": [
      "K =  300\n",
      "Best Score from Grid Search CV on:  0.9138172322253001\n",
      "\n",
      "\n",
      "classification_report:\n",
      "               precision    recall  f1-score   support\n",
      "\n",
      "           1       0.59      0.67      0.63       123\n",
      "           0       0.89      0.85      0.87       386\n",
      "\n",
      "    accuracy                           0.81       509\n",
      "   macro avg       0.74      0.76      0.75       509\n",
      "weighted avg       0.82      0.81      0.81       509\n",
      "\n",
      "The ROC AUC score: 0.8632208601878765\n"
     ]
    },
    {
     "name": "stderr",
     "output_type": "stream",
     "text": [
      "C:\\Users\\user\\Anaconda3\\lib\\site-packages\\sklearn\\feature_selection\\_univariate_selection.py:112: UserWarning: Features [  3  31  32  33  49  50  51  52  53  54  55  57  58  59  60  61  62  63\n",
      "  64  65  66  67  68  69  70  71  72  73  74  75  76  77  78  79  80  81\n",
      "  82  83  84  85  86  87  88  89  90  91  92  93  94  95  96  97  98  99\n",
      " 100 101 102 103 104 105 106 107 108 109 110 111 112 113 114 115 116 117\n",
      " 118 119 120 121 122 123 124 125 126 127 128 129 130 131 132 133 134 135\n",
      " 136 137 138 139 140 141 142 143 144 145 146 147 148 149 150 151 152 153\n",
      " 154 155 156 157 158 159 160 161 162 163 164 165 166 167 168 169 170 171\n",
      " 172 173 174 175 176 177 178 179 180 181 182 183 184 185 186 187 188 189\n",
      " 190 191 192 193 194 195 196 197 198 199 200 201 202 203 204 205 206 207\n",
      " 208 209 210 211 212 213 214 215 216 217 218 219 220 221 222 223 224 225\n",
      " 226 227 228 229 230 231 232 233 234 235 236 237 238 239 240 241 242 243\n",
      " 244 245 246 247 248 249 250 251 252 253 254 255 256 257 258 259 260 261\n",
      " 262 263 264 265 266 267 268 269 270 271 272 273 274 275 276 277 278 279\n",
      " 280 300 301 302 303 304 305 321 322 323 324 325 326 327 329 330 331 332\n",
      " 333 334 335 336 337 338 339 340 341 342 343 344 345 346 347 348 349 350\n",
      " 351 352 353 354 355 356 357 358 359 360 361 362 363 364 365 366 367 368\n",
      " 369 370 371 372 373 374 375 376 377 378 379 380 381 382 383 384 385 386\n",
      " 387 388 389 390 391 392 393 394 395 396 397 398 399 400 401 402 403 404\n",
      " 405 406 407 408 409 410 411 412 413 414 415 416 417 418 419 420 421 422\n",
      " 423 424 425 426 427 428 429 430 431 432 433 434 435 436 437 438 439 440\n",
      " 441 442 443 444 445 446 447 448 449 450 451 452 453 454 455 456 457 458\n",
      " 459 460 461 462 463 464 465 466 467 468 469 470 471 472 473 474 475 476\n",
      " 477 478 479 480 481 482 483 484 485 486 487 488 489 490 491 492 493 494\n",
      " 495 496 497 498 499 500 501 502 503 504 505 506 507 508 509 510 511 512\n",
      " 513 514 515 516 517 518 519 520 521 522 523 524 525 526 527 528 529 530\n",
      " 531 532 533 534 535 536 537 538 539 540 541 542 543 544 545 546 547 548\n",
      " 549 550 551 552 553 554 555 556 557 558 559 560 561 562 563 564 565 566\n",
      " 567 568 569 570 571 572 573 574 575 576 577 578 579 580 581 582 583 584\n",
      " 585 586 587 588 589 590 591 592 593 594 595 596 597 598 599 600 601 602\n",
      " 603 604 605 606 607 608 609] are constant.\n",
      "  warnings.warn(\"Features %s are constant.\" % constant_features_idx, UserWarning)\n",
      "C:\\Users\\user\\Anaconda3\\lib\\site-packages\\sklearn\\feature_selection\\_univariate_selection.py:113: RuntimeWarning: invalid value encountered in true_divide\n",
      "  f = msb / msw\n"
     ]
    },
    {
     "name": "stdout",
     "output_type": "stream",
     "text": [
      "K =  400\n",
      "Best Score from Grid Search CV on:  0.9138208391043398\n",
      "\n",
      "\n",
      "classification_report:\n",
      "               precision    recall  f1-score   support\n",
      "\n",
      "           1       0.59      0.67      0.63       123\n",
      "           0       0.89      0.85      0.87       386\n",
      "\n",
      "    accuracy                           0.81       509\n",
      "   macro avg       0.74      0.76      0.75       509\n",
      "weighted avg       0.82      0.81      0.81       509\n",
      "\n",
      "The ROC AUC score: 0.8632419225746661\n"
     ]
    },
    {
     "name": "stderr",
     "output_type": "stream",
     "text": [
      "C:\\Users\\user\\Anaconda3\\lib\\site-packages\\sklearn\\feature_selection\\_univariate_selection.py:112: UserWarning: Features [  3  31  32  33  49  50  51  52  53  54  55  57  58  59  60  61  62  63\n",
      "  64  65  66  67  68  69  70  71  72  73  74  75  76  77  78  79  80  81\n",
      "  82  83  84  85  86  87  88  89  90  91  92  93  94  95  96  97  98  99\n",
      " 100 101 102 103 104 105 106 107 108 109 110 111 112 113 114 115 116 117\n",
      " 118 119 120 121 122 123 124 125 126 127 128 129 130 131 132 133 134 135\n",
      " 136 137 138 139 140 141 142 143 144 145 146 147 148 149 150 151 152 153\n",
      " 154 155 156 157 158 159 160 161 162 163 164 165 166 167 168 169 170 171\n",
      " 172 173 174 175 176 177 178 179 180 181 182 183 184 185 186 187 188 189\n",
      " 190 191 192 193 194 195 196 197 198 199 200 201 202 203 204 205 206 207\n",
      " 208 209 210 211 212 213 214 215 216 217 218 219 220 221 222 223 224 225\n",
      " 226 227 228 229 230 231 232 233 234 235 236 237 238 239 240 241 242 243\n",
      " 244 245 246 247 248 249 250 251 252 253 254 255 256 257 258 259 260 261\n",
      " 262 263 264 265 266 267 268 269 270 271 272 273 274 275 276 277 278 279\n",
      " 280 300 301 302 303 304 305 321 322 323 324 325 326 327 329 330 331 332\n",
      " 333 334 335 336 337 338 339 340 341 342 343 344 345 346 347 348 349 350\n",
      " 351 352 353 354 355 356 357 358 359 360 361 362 363 364 365 366 367 368\n",
      " 369 370 371 372 373 374 375 376 377 378 379 380 381 382 383 384 385 386\n",
      " 387 388 389 390 391 392 393 394 395 396 397 398 399 400 401 402 403 404\n",
      " 405 406 407 408 409 410 411 412 413 414 415 416 417 418 419 420 421 422\n",
      " 423 424 425 426 427 428 429 430 431 432 433 434 435 436 437 438 439 440\n",
      " 441 442 443 444 445 446 447 448 449 450 451 452 453 454 455 456 457 458\n",
      " 459 460 461 462 463 464 465 466 467 468 469 470 471 472 473 474 475 476\n",
      " 477 478 479 480 481 482 483 484 485 486 487 488 489 490 491 492 493 494\n",
      " 495 496 497 498 499 500 501 502 503 504 505 506 507 508 509 510 511 512\n",
      " 513 514 515 516 517 518 519 520 521 522 523 524 525 526 527 528 529 530\n",
      " 531 532 533 534 535 536 537 538 539 540 541 542 543 544 545 546 547 548\n",
      " 549 550 551 552 553 554 555 556 557 558 559 560 561 562 563 564 565 566\n",
      " 567 568 569 570 571 572 573 574 575 576 577 578 579 580 581 582 583 584\n",
      " 585 586 587 588 589 590 591 592 593 594 595 596 597 598 599 600 601 602\n",
      " 603 604 605 606 607 608 609] are constant.\n",
      "  warnings.warn(\"Features %s are constant.\" % constant_features_idx, UserWarning)\n",
      "C:\\Users\\user\\Anaconda3\\lib\\site-packages\\sklearn\\feature_selection\\_univariate_selection.py:113: RuntimeWarning: invalid value encountered in true_divide\n",
      "  f = msb / msw\n"
     ]
    },
    {
     "name": "stdout",
     "output_type": "stream",
     "text": [
      "K =  500\n",
      "Best Score from Grid Search CV on:  0.9138208391043398\n",
      "\n",
      "\n",
      "classification_report:\n",
      "               precision    recall  f1-score   support\n",
      "\n",
      "           1       0.59      0.67      0.63       123\n",
      "           0       0.89      0.85      0.87       386\n",
      "\n",
      "    accuracy                           0.81       509\n",
      "   macro avg       0.74      0.76      0.75       509\n",
      "weighted avg       0.82      0.81      0.81       509\n",
      "\n",
      "The ROC AUC score: 0.8633682968954042\n"
     ]
    },
    {
     "name": "stderr",
     "output_type": "stream",
     "text": [
      "C:\\Users\\user\\Anaconda3\\lib\\site-packages\\sklearn\\feature_selection\\_univariate_selection.py:112: UserWarning: Features [  3  31  32  33  49  50  51  52  53  54  55  57  58  59  60  61  62  63\n",
      "  64  65  66  67  68  69  70  71  72  73  74  75  76  77  78  79  80  81\n",
      "  82  83  84  85  86  87  88  89  90  91  92  93  94  95  96  97  98  99\n",
      " 100 101 102 103 104 105 106 107 108 109 110 111 112 113 114 115 116 117\n",
      " 118 119 120 121 122 123 124 125 126 127 128 129 130 131 132 133 134 135\n",
      " 136 137 138 139 140 141 142 143 144 145 146 147 148 149 150 151 152 153\n",
      " 154 155 156 157 158 159 160 161 162 163 164 165 166 167 168 169 170 171\n",
      " 172 173 174 175 176 177 178 179 180 181 182 183 184 185 186 187 188 189\n",
      " 190 191 192 193 194 195 196 197 198 199 200 201 202 203 204 205 206 207\n",
      " 208 209 210 211 212 213 214 215 216 217 218 219 220 221 222 223 224 225\n",
      " 226 227 228 229 230 231 232 233 234 235 236 237 238 239 240 241 242 243\n",
      " 244 245 246 247 248 249 250 251 252 253 254 255 256 257 258 259 260 261\n",
      " 262 263 264 265 266 267 268 269 270 271 272 273 274 275 276 277 278 279\n",
      " 280 300 301 302 303 304 305 321 322 323 324 325 326 327 329 330 331 332\n",
      " 333 334 335 336 337 338 339 340 341 342 343 344 345 346 347 348 349 350\n",
      " 351 352 353 354 355 356 357 358 359 360 361 362 363 364 365 366 367 368\n",
      " 369 370 371 372 373 374 375 376 377 378 379 380 381 382 383 384 385 386\n",
      " 387 388 389 390 391 392 393 394 395 396 397 398 399 400 401 402 403 404\n",
      " 405 406 407 408 409 410 411 412 413 414 415 416 417 418 419 420 421 422\n",
      " 423 424 425 426 427 428 429 430 431 432 433 434 435 436 437 438 439 440\n",
      " 441 442 443 444 445 446 447 448 449 450 451 452 453 454 455 456 457 458\n",
      " 459 460 461 462 463 464 465 466 467 468 469 470 471 472 473 474 475 476\n",
      " 477 478 479 480 481 482 483 484 485 486 487 488 489 490 491 492 493 494\n",
      " 495 496 497 498 499 500 501 502 503 504 505 506 507 508 509 510 511 512\n",
      " 513 514 515 516 517 518 519 520 521 522 523 524 525 526 527 528 529 530\n",
      " 531 532 533 534 535 536 537 538 539 540 541 542 543 544 545 546 547 548\n",
      " 549 550 551 552 553 554 555 556 557 558 559 560 561 562 563 564 565 566\n",
      " 567 568 569 570 571 572 573 574 575 576 577 578 579 580 581 582 583 584\n",
      " 585 586 587 588 589 590 591 592 593 594 595 596 597 598 599 600 601 602\n",
      " 603 604 605 606 607 608 609] are constant.\n",
      "  warnings.warn(\"Features %s are constant.\" % constant_features_idx, UserWarning)\n",
      "C:\\Users\\user\\Anaconda3\\lib\\site-packages\\sklearn\\feature_selection\\_univariate_selection.py:113: RuntimeWarning: invalid value encountered in true_divide\n",
      "  f = msb / msw\n"
     ]
    },
    {
     "name": "stdout",
     "output_type": "stream",
     "text": [
      "K =  600\n",
      "Best Score from Grid Search CV on:  0.9138208391043398\n",
      "\n",
      "\n",
      "classification_report:\n",
      "               precision    recall  f1-score   support\n",
      "\n",
      "           1       0.59      0.67      0.63       123\n",
      "           0       0.89      0.85      0.87       386\n",
      "\n",
      "    accuracy                           0.81       509\n",
      "   macro avg       0.74      0.76      0.75       509\n",
      "weighted avg       0.82      0.81      0.81       509\n",
      "\n",
      "The ROC AUC score: 0.8633261721218248\n"
     ]
    },
    {
     "name": "stderr",
     "output_type": "stream",
     "text": [
      "C:\\Users\\user\\Anaconda3\\lib\\site-packages\\sklearn\\feature_selection\\_univariate_selection.py:112: UserWarning: Features [  3  31  32  33  49  50  51  52  53  54  55  57  58  59  60  61  62  63\n",
      "  64  65  66  67  68  69  70  71  72  73  74  75  76  77  78  79  80  81\n",
      "  82  83  84  85  86  87  88  89  90  91  92  93  94  95  96  97  98  99\n",
      " 100 101 102 103 104 105 106 107 108 109 110 111 112 113 114 115 116 117\n",
      " 118 119 120 121 122 123 124 125 126 127 128 129 130 131 132 133 134 135\n",
      " 136 137 138 139 140 141 142 143 144 145 146 147 148 149 150 151 152 153\n",
      " 154 155 156 157 158 159 160 161 162 163 164 165 166 167 168 169 170 171\n",
      " 172 173 174 175 176 177 178 179 180 181 182 183 184 185 186 187 188 189\n",
      " 190 191 192 193 194 195 196 197 198 199 200 201 202 203 204 205 206 207\n",
      " 208 209 210 211 212 213 214 215 216 217 218 219 220 221 222 223 224 225\n",
      " 226 227 228 229 230 231 232 233 234 235 236 237 238 239 240 241 242 243\n",
      " 244 245 246 247 248 249 250 251 252 253 254 255 256 257 258 259 260 261\n",
      " 262 263 264 265 266 267 268 269 270 271 272 273 274 275 276 277 278 279\n",
      " 280 300 301 302 303 304 305 321 322 323 324 325 326 327 329 330 331 332\n",
      " 333 334 335 336 337 338 339 340 341 342 343 344 345 346 347 348 349 350\n",
      " 351 352 353 354 355 356 357 358 359 360 361 362 363 364 365 366 367 368\n",
      " 369 370 371 372 373 374 375 376 377 378 379 380 381 382 383 384 385 386\n",
      " 387 388 389 390 391 392 393 394 395 396 397 398 399 400 401 402 403 404\n",
      " 405 406 407 408 409 410 411 412 413 414 415 416 417 418 419 420 421 422\n",
      " 423 424 425 426 427 428 429 430 431 432 433 434 435 436 437 438 439 440\n",
      " 441 442 443 444 445 446 447 448 449 450 451 452 453 454 455 456 457 458\n",
      " 459 460 461 462 463 464 465 466 467 468 469 470 471 472 473 474 475 476\n",
      " 477 478 479 480 481 482 483 484 485 486 487 488 489 490 491 492 493 494\n",
      " 495 496 497 498 499 500 501 502 503 504 505 506 507 508 509 510 511 512\n",
      " 513 514 515 516 517 518 519 520 521 522 523 524 525 526 527 528 529 530\n",
      " 531 532 533 534 535 536 537 538 539 540 541 542 543 544 545 546 547 548\n",
      " 549 550 551 552 553 554 555 556 557 558 559 560 561 562 563 564 565 566\n",
      " 567 568 569 570 571 572 573 574 575 576 577 578 579 580 581 582 583 584\n",
      " 585 586 587 588 589 590 591 592 593 594 595 596 597 598 599 600 601 602\n",
      " 603 604 605 606 607 608 609] are constant.\n",
      "  warnings.warn(\"Features %s are constant.\" % constant_features_idx, UserWarning)\n",
      "C:\\Users\\user\\Anaconda3\\lib\\site-packages\\sklearn\\feature_selection\\_univariate_selection.py:113: RuntimeWarning: invalid value encountered in true_divide\n",
      "  f = msb / msw\n"
     ]
    },
    {
     "name": "stdout",
     "output_type": "stream",
     "text": [
      "K =  610\n",
      "Best Score from Grid Search CV on:  0.9138172322253002\n",
      "\n",
      "\n",
      "classification_report:\n",
      "               precision    recall  f1-score   support\n",
      "\n",
      "           1       0.59      0.67      0.63       123\n",
      "           0       0.89      0.85      0.87       386\n",
      "\n",
      "    accuracy                           0.81       509\n",
      "   macro avg       0.74      0.76      0.75       509\n",
      "weighted avg       0.82      0.81      0.81       509\n",
      "\n",
      "The ROC AUC score: 0.8633682968954042\n",
      "End\n",
      "None\n"
     ]
    }
   ],
   "source": [
    "print(Best_features_LogisticRegression(X_train, y_train, X_test, y_test, [100, 200, 300, 400, 500, 600, 610]))"
   ]
  },
  {
   "cell_type": "markdown",
   "metadata": {},
   "source": [
    "Here, one can see that there are many constant columns, hence we need to work on them.<br> \n",
    "Let us drop the constant and quasi-constant features.<br>\n",
    "Here, we can note that <br> The constant and quasi-constant features are defined as follows:<br>\n",
    "1. Constant features: Same value in all the records in that column.<br>\n",
    "2. Quasi-constant features: One of the values is dominant with 99.9% (or 99% or 98% or 95% etc) in that column."
   ]
  },
  {
   "cell_type": "markdown",
   "metadata": {},
   "source": [
    "#### Drop the constant and quasi constant features"
   ]
  },
  {
   "cell_type": "code",
   "execution_count": 22,
   "metadata": {},
   "outputs": [
    {
     "data": {
      "text/html": [
       "<div>\n",
       "<style scoped>\n",
       "    .dataframe tbody tr th:only-of-type {\n",
       "        vertical-align: middle;\n",
       "    }\n",
       "\n",
       "    .dataframe tbody tr th {\n",
       "        vertical-align: top;\n",
       "    }\n",
       "\n",
       "    .dataframe thead th {\n",
       "        text-align: right;\n",
       "    }\n",
       "</style>\n",
       "<table border=\"1\" class=\"dataframe\">\n",
       "  <thead>\n",
       "    <tr style=\"text-align: right;\">\n",
       "      <th></th>\n",
       "      <th>Desc</th>\n",
       "      <th>Var</th>\n",
       "      <th>Value</th>\n",
       "      <th>Perc</th>\n",
       "    </tr>\n",
       "  </thead>\n",
       "  <tbody>\n",
       "    <tr>\n",
       "      <th>0</th>\n",
       "      <td>Constant</td>\n",
       "      <td>DeductibleAmtPaid_x</td>\n",
       "      <td>0.0</td>\n",
       "      <td>100.0</td>\n",
       "    </tr>\n",
       "    <tr>\n",
       "      <th>1</th>\n",
       "      <td>Constant</td>\n",
       "      <td>County_321</td>\n",
       "      <td>0.0</td>\n",
       "      <td>100.0</td>\n",
       "    </tr>\n",
       "    <tr>\n",
       "      <th>2</th>\n",
       "      <td>Constant</td>\n",
       "      <td>County_400_y</td>\n",
       "      <td>0.0</td>\n",
       "      <td>100.0</td>\n",
       "    </tr>\n",
       "    <tr>\n",
       "      <th>3</th>\n",
       "      <td>Constant</td>\n",
       "      <td>County_390_y</td>\n",
       "      <td>0.0</td>\n",
       "      <td>100.0</td>\n",
       "    </tr>\n",
       "    <tr>\n",
       "      <th>4</th>\n",
       "      <td>Constant</td>\n",
       "      <td>County_380_y</td>\n",
       "      <td>0.0</td>\n",
       "      <td>100.0</td>\n",
       "    </tr>\n",
       "    <tr>\n",
       "      <th>5</th>\n",
       "      <td>Constant</td>\n",
       "      <td>County_370_y</td>\n",
       "      <td>0.0</td>\n",
       "      <td>100.0</td>\n",
       "    </tr>\n",
       "    <tr>\n",
       "      <th>6</th>\n",
       "      <td>Constant</td>\n",
       "      <td>County_362</td>\n",
       "      <td>0.0</td>\n",
       "      <td>100.0</td>\n",
       "    </tr>\n",
       "    <tr>\n",
       "      <th>7</th>\n",
       "      <td>Constant</td>\n",
       "      <td>County_361</td>\n",
       "      <td>0.0</td>\n",
       "      <td>100.0</td>\n",
       "    </tr>\n",
       "    <tr>\n",
       "      <th>8</th>\n",
       "      <td>Constant</td>\n",
       "      <td>County_360_y</td>\n",
       "      <td>0.0</td>\n",
       "      <td>100.0</td>\n",
       "    </tr>\n",
       "    <tr>\n",
       "      <th>9</th>\n",
       "      <td>Constant</td>\n",
       "      <td>County_350_y</td>\n",
       "      <td>0.0</td>\n",
       "      <td>100.0</td>\n",
       "    </tr>\n",
       "    <tr>\n",
       "      <th>10</th>\n",
       "      <td>Constant</td>\n",
       "      <td>County_343</td>\n",
       "      <td>0.0</td>\n",
       "      <td>100.0</td>\n",
       "    </tr>\n",
       "    <tr>\n",
       "      <th>11</th>\n",
       "      <td>Constant</td>\n",
       "      <td>County_342</td>\n",
       "      <td>0.0</td>\n",
       "      <td>100.0</td>\n",
       "    </tr>\n",
       "    <tr>\n",
       "      <th>12</th>\n",
       "      <td>Constant</td>\n",
       "      <td>County_341_y</td>\n",
       "      <td>0.0</td>\n",
       "      <td>100.0</td>\n",
       "    </tr>\n",
       "    <tr>\n",
       "      <th>13</th>\n",
       "      <td>Constant</td>\n",
       "      <td>County_340_y</td>\n",
       "      <td>0.0</td>\n",
       "      <td>100.0</td>\n",
       "    </tr>\n",
       "    <tr>\n",
       "      <th>14</th>\n",
       "      <td>Constant</td>\n",
       "      <td>County_331_y</td>\n",
       "      <td>0.0</td>\n",
       "      <td>100.0</td>\n",
       "    </tr>\n",
       "    <tr>\n",
       "      <th>15</th>\n",
       "      <td>Constant</td>\n",
       "      <td>County_330_y</td>\n",
       "      <td>0.0</td>\n",
       "      <td>100.0</td>\n",
       "    </tr>\n",
       "    <tr>\n",
       "      <th>16</th>\n",
       "      <td>Constant</td>\n",
       "      <td>County_320_y</td>\n",
       "      <td>0.0</td>\n",
       "      <td>100.0</td>\n",
       "    </tr>\n",
       "    <tr>\n",
       "      <th>17</th>\n",
       "      <td>Constant</td>\n",
       "      <td>County_600_y</td>\n",
       "      <td>0.0</td>\n",
       "      <td>100.0</td>\n",
       "    </tr>\n",
       "    <tr>\n",
       "      <th>18</th>\n",
       "      <td>Constant</td>\n",
       "      <td>County_312_y</td>\n",
       "      <td>0.0</td>\n",
       "      <td>100.0</td>\n",
       "    </tr>\n",
       "    <tr>\n",
       "      <th>19</th>\n",
       "      <td>Constant</td>\n",
       "      <td>County_311</td>\n",
       "      <td>0.0</td>\n",
       "      <td>100.0</td>\n",
       "    </tr>\n",
       "    <tr>\n",
       "      <th>20</th>\n",
       "      <td>Constant</td>\n",
       "      <td>County_310_y</td>\n",
       "      <td>0.0</td>\n",
       "      <td>100.0</td>\n",
       "    </tr>\n",
       "    <tr>\n",
       "      <th>21</th>\n",
       "      <td>Constant</td>\n",
       "      <td>County_301</td>\n",
       "      <td>0.0</td>\n",
       "      <td>100.0</td>\n",
       "    </tr>\n",
       "    <tr>\n",
       "      <th>22</th>\n",
       "      <td>Constant</td>\n",
       "      <td>County_300_y</td>\n",
       "      <td>0.0</td>\n",
       "      <td>100.0</td>\n",
       "    </tr>\n",
       "    <tr>\n",
       "      <th>23</th>\n",
       "      <td>Constant</td>\n",
       "      <td>County_292_y</td>\n",
       "      <td>0.0</td>\n",
       "      <td>100.0</td>\n",
       "    </tr>\n",
       "    <tr>\n",
       "      <th>24</th>\n",
       "      <td>Constant</td>\n",
       "      <td>County_291_y</td>\n",
       "      <td>0.0</td>\n",
       "      <td>100.0</td>\n",
       "    </tr>\n",
       "    <tr>\n",
       "      <th>25</th>\n",
       "      <td>Constant</td>\n",
       "      <td>County_290_y</td>\n",
       "      <td>0.0</td>\n",
       "      <td>100.0</td>\n",
       "    </tr>\n",
       "    <tr>\n",
       "      <th>26</th>\n",
       "      <td>Constant</td>\n",
       "      <td>County_281_y</td>\n",
       "      <td>0.0</td>\n",
       "      <td>100.0</td>\n",
       "    </tr>\n",
       "    <tr>\n",
       "      <th>27</th>\n",
       "      <td>Constant</td>\n",
       "      <td>County_280_y</td>\n",
       "      <td>0.0</td>\n",
       "      <td>100.0</td>\n",
       "    </tr>\n",
       "    <tr>\n",
       "      <th>28</th>\n",
       "      <td>Constant</td>\n",
       "      <td>County_270_y</td>\n",
       "      <td>0.0</td>\n",
       "      <td>100.0</td>\n",
       "    </tr>\n",
       "    <tr>\n",
       "      <th>29</th>\n",
       "      <td>Constant</td>\n",
       "      <td>County_260_y</td>\n",
       "      <td>0.0</td>\n",
       "      <td>100.0</td>\n",
       "    </tr>\n",
       "  </tbody>\n",
       "</table>\n",
       "</div>"
      ],
      "text/plain": [
       "        Desc                  Var  Value   Perc\n",
       "0   Constant  DeductibleAmtPaid_x    0.0  100.0\n",
       "1   Constant           County_321    0.0  100.0\n",
       "2   Constant         County_400_y    0.0  100.0\n",
       "3   Constant         County_390_y    0.0  100.0\n",
       "4   Constant         County_380_y    0.0  100.0\n",
       "5   Constant         County_370_y    0.0  100.0\n",
       "6   Constant           County_362    0.0  100.0\n",
       "7   Constant           County_361    0.0  100.0\n",
       "8   Constant         County_360_y    0.0  100.0\n",
       "9   Constant         County_350_y    0.0  100.0\n",
       "10  Constant           County_343    0.0  100.0\n",
       "11  Constant           County_342    0.0  100.0\n",
       "12  Constant         County_341_y    0.0  100.0\n",
       "13  Constant         County_340_y    0.0  100.0\n",
       "14  Constant         County_331_y    0.0  100.0\n",
       "15  Constant         County_330_y    0.0  100.0\n",
       "16  Constant         County_320_y    0.0  100.0\n",
       "17  Constant         County_600_y    0.0  100.0\n",
       "18  Constant         County_312_y    0.0  100.0\n",
       "19  Constant           County_311    0.0  100.0\n",
       "20  Constant         County_310_y    0.0  100.0\n",
       "21  Constant           County_301    0.0  100.0\n",
       "22  Constant         County_300_y    0.0  100.0\n",
       "23  Constant         County_292_y    0.0  100.0\n",
       "24  Constant         County_291_y    0.0  100.0\n",
       "25  Constant         County_290_y    0.0  100.0\n",
       "26  Constant         County_281_y    0.0  100.0\n",
       "27  Constant         County_280_y    0.0  100.0\n",
       "28  Constant         County_270_y    0.0  100.0\n",
       "29  Constant         County_260_y    0.0  100.0"
      ]
     },
     "execution_count": 22,
     "metadata": {},
     "output_type": "execute_result"
    }
   ],
   "source": [
    "# Identify the constant features by using get_constant_features from fast_ml.utilities\n",
    "from fast_ml.utilities import display_all\n",
    "from fast_ml.feature_selection import get_constant_features\n",
    "\n",
    "constant_features = get_constant_features(X_train)\n",
    "constant_features.head(30)"
   ]
  },
  {
   "cell_type": "code",
   "execution_count": 23,
   "metadata": {},
   "outputs": [
    {
     "data": {
      "text/plain": [
       "((530, 4), (1824, 610))"
      ]
     },
     "execution_count": 23,
     "metadata": {},
     "output_type": "execute_result"
    }
   ],
   "source": [
    "constant_features.shape, X_train.shape"
   ]
  },
  {
   "cell_type": "markdown",
   "metadata": {},
   "source": [
    "Out of 610 features, 530 are constant."
   ]
  },
  {
   "cell_type": "code",
   "execution_count": 24,
   "metadata": {},
   "outputs": [
    {
     "data": {
      "text/plain": [
       "['DeductibleAmtPaid_x',\n",
       " 'County_321',\n",
       " 'County_400_y',\n",
       " 'County_390_y',\n",
       " 'County_380_y',\n",
       " 'County_370_y',\n",
       " 'County_362',\n",
       " 'County_361',\n",
       " 'County_360_y',\n",
       " 'County_350_y',\n",
       " 'County_343',\n",
       " 'County_342',\n",
       " 'County_341_y',\n",
       " 'County_340_y',\n",
       " 'County_331_y',\n",
       " 'County_330_y',\n",
       " 'County_320_y',\n",
       " 'County_600_y',\n",
       " 'County_312_y',\n",
       " 'County_311',\n",
       " 'County_310_y',\n",
       " 'County_301',\n",
       " 'County_300_y',\n",
       " 'County_292_y',\n",
       " 'County_291_y',\n",
       " 'County_290_y',\n",
       " 'County_281_y',\n",
       " 'County_280_y',\n",
       " 'County_270_y',\n",
       " 'County_260_y']"
      ]
     },
     "execution_count": 24,
     "metadata": {},
     "output_type": "execute_result"
    }
   ],
   "source": [
    "# List the constant features\n",
    "constant_features_list = constant_features.query(\"Desc == 'Constant'\")['Var'].tolist()\n",
    "constant_features_list[:30]"
   ]
  },
  {
   "cell_type": "code",
   "execution_count": 25,
   "metadata": {},
   "outputs": [
    {
     "data": {
      "text/plain": [
       "(1824, 81)"
      ]
     },
     "execution_count": 25,
     "metadata": {},
     "output_type": "execute_result"
    }
   ],
   "source": [
    "# Drop the constant features\n",
    "X_train.drop(columns = constant_features_list, inplace = True)\n",
    "X_train.shape"
   ]
  },
  {
   "cell_type": "code",
   "execution_count": 26,
   "metadata": {},
   "outputs": [
    {
     "data": {
      "text/plain": [
       "(0, 4)"
      ]
     },
     "execution_count": 26,
     "metadata": {},
     "output_type": "execute_result"
    }
   ],
   "source": [
    "# Locate the quasi constant features and drop them from the dataframe\n",
    "quasi_constant_features1 = get_constant_features(X_train, threshold = 0.999, dropna = False)\n",
    "quasi_constant_features1.shape"
   ]
  },
  {
   "cell_type": "code",
   "execution_count": 27,
   "metadata": {},
   "outputs": [
    {
     "data": {
      "text/plain": [
       "(1, 4)"
      ]
     },
     "execution_count": 27,
     "metadata": {},
     "output_type": "execute_result"
    }
   ],
   "source": [
    "quasi_constant_features2 = get_constant_features(X_train, threshold = 0.99, dropna = False)\n",
    "quasi_constant_features2.shape"
   ]
  },
  {
   "cell_type": "code",
   "execution_count": 28,
   "metadata": {},
   "outputs": [
    {
     "data": {
      "text/plain": [
       "(2, 4)"
      ]
     },
     "execution_count": 28,
     "metadata": {},
     "output_type": "execute_result"
    }
   ],
   "source": [
    "quasi_constant_features3 = get_constant_features(X_train, threshold = 0.98, dropna = False)\n",
    "quasi_constant_features3.shape"
   ]
  },
  {
   "cell_type": "code",
   "execution_count": 29,
   "metadata": {},
   "outputs": [
    {
     "data": {
      "text/plain": [
       "(2, 4)"
      ]
     },
     "execution_count": 29,
     "metadata": {},
     "output_type": "execute_result"
    }
   ],
   "source": [
    "quasi_constant_features4 = get_constant_features(X_train, threshold = 0.95, dropna = False)\n",
    "quasi_constant_features4.shape"
   ]
  },
  {
   "cell_type": "code",
   "execution_count": 30,
   "metadata": {},
   "outputs": [
    {
     "data": {
      "text/html": [
       "<div>\n",
       "<style scoped>\n",
       "    .dataframe tbody tr th:only-of-type {\n",
       "        vertical-align: middle;\n",
       "    }\n",
       "\n",
       "    .dataframe tbody tr th {\n",
       "        vertical-align: top;\n",
       "    }\n",
       "\n",
       "    .dataframe thead th {\n",
       "        text-align: right;\n",
       "    }\n",
       "</style>\n",
       "<table border=\"1\" class=\"dataframe\">\n",
       "  <thead>\n",
       "    <tr style=\"text-align: right;\">\n",
       "      <th></th>\n",
       "      <th>Desc</th>\n",
       "      <th>Var</th>\n",
       "      <th>Value</th>\n",
       "      <th>Perc</th>\n",
       "    </tr>\n",
       "  </thead>\n",
       "  <tbody>\n",
       "    <tr>\n",
       "      <th>0</th>\n",
       "      <td>Quasi Constant</td>\n",
       "      <td>Race_1_y</td>\n",
       "      <td>0.096797</td>\n",
       "      <td>99.177632</td>\n",
       "    </tr>\n",
       "    <tr>\n",
       "      <th>1</th>\n",
       "      <td>Quasi Constant</td>\n",
       "      <td>Race_1_x</td>\n",
       "      <td>0.155565</td>\n",
       "      <td>98.355263</td>\n",
       "    </tr>\n",
       "  </tbody>\n",
       "</table>\n",
       "</div>"
      ],
      "text/plain": [
       "             Desc       Var     Value       Perc\n",
       "0  Quasi Constant  Race_1_y  0.096797  99.177632\n",
       "1  Quasi Constant  Race_1_x  0.155565  98.355263"
      ]
     },
     "execution_count": 30,
     "metadata": {},
     "output_type": "execute_result"
    }
   ],
   "source": [
    "quasi_constant_features4.head()"
   ]
  },
  {
   "cell_type": "code",
   "execution_count": 31,
   "metadata": {},
   "outputs": [],
   "source": [
    "quasi_constant_features_list = quasi_constant_features3.query(\"Desc == 'Quasi Constant'\")['Var'].tolist()\n",
    "X_train.drop(columns = quasi_constant_features_list, inplace = True)"
   ]
  },
  {
   "cell_type": "code",
   "execution_count": 32,
   "metadata": {},
   "outputs": [
    {
     "data": {
      "text/plain": [
       "(1824, 79)"
      ]
     },
     "execution_count": 32,
     "metadata": {},
     "output_type": "execute_result"
    }
   ],
   "source": [
    "X_train.shape"
   ]
  },
  {
   "cell_type": "code",
   "execution_count": 33,
   "metadata": {},
   "outputs": [
    {
     "name": "stdout",
     "output_type": "stream",
     "text": [
      "(530, 4) (509, 610)\n",
      "(2, 4)\n"
     ]
    },
    {
     "data": {
      "text/plain": [
       "(509, 79)"
      ]
     },
     "execution_count": 33,
     "metadata": {},
     "output_type": "execute_result"
    }
   ],
   "source": [
    "# Now carry out the same for  X_test\n",
    "constant_features_X_test = get_constant_features(X_test)\n",
    "print(constant_features_X_test.shape, X_test.shape)\n",
    "constant_features_list_X_test = constant_features_X_test.query(\"Desc == 'Constant'\")['Var'].tolist()\n",
    "X_test.drop(columns = constant_features_list_X_test, inplace = True)\n",
    "\n",
    "quasi_constant_features3_X_test = get_constant_features(X_test, threshold = 0.98, dropna = False)\n",
    "print(quasi_constant_features3_X_test.shape)\n",
    "\n",
    "quasi_constant_features_list_X_test = quasi_constant_features3_X_test.query(\"Desc == 'Quasi Constant'\")['Var'].tolist()\n",
    "X_test.drop(columns = quasi_constant_features_list_X_test, inplace = True)\n",
    "X_test.shape"
   ]
  },
  {
   "cell_type": "markdown",
   "metadata": {},
   "source": [
    "#### Train all the models again on the new train and test data "
   ]
  },
  {
   "cell_type": "code",
   "execution_count": 34,
   "metadata": {},
   "outputs": [
    {
     "name": "stdout",
     "output_type": "stream",
     "text": [
      "Classification_report from Logistic regression:\n",
      "               precision    recall  f1-score   support\n",
      "\n",
      "           1       0.60      0.67      0.63       123\n",
      "           0       0.89      0.86      0.87       386\n",
      "\n",
      "    accuracy                           0.81       509\n",
      "   macro avg       0.75      0.76      0.75       509\n",
      "weighted avg       0.82      0.81      0.82       509\n",
      "\n",
      "The ROC AUC score from Logistic regression: 0.8502043051518599\n",
      "\n",
      "\n",
      "Classification_report from Decision Tree Clasiifier:\n",
      "               precision    recall  f1-score   support\n",
      "\n",
      "           1       0.47      0.55      0.51       123\n",
      "           0       0.85      0.80      0.82       386\n",
      "\n",
      "    accuracy                           0.74       509\n",
      "   macro avg       0.66      0.68      0.66       509\n",
      "weighted avg       0.76      0.74      0.75       509\n",
      "\n",
      "The ROC AUC score from Decision Tree Clasiifier: 0.6753864947975904\n",
      "\n",
      "\n",
      "Classification_report from Random Forest Classifier:\n",
      "               precision    recall  f1-score   support\n",
      "\n",
      "           1       0.63      0.56      0.59       123\n",
      "           0       0.86      0.90      0.88       386\n",
      "\n",
      "    accuracy                           0.82       509\n",
      "   macro avg       0.75      0.73      0.74       509\n",
      "weighted avg       0.81      0.82      0.81       509\n",
      "\n",
      "The ROC AUC score from Random Forest Classifier: 0.847950629765365\n",
      "\n",
      "\n",
      "classification_report from Gradient Boosting Classifier:\n",
      "               precision    recall  f1-score   support\n",
      "\n",
      "           1       0.65      0.56      0.60       123\n",
      "           0       0.87      0.90      0.88       386\n",
      "\n",
      "    accuracy                           0.82       509\n",
      "   macro avg       0.76      0.73      0.74       509\n",
      "weighted avg       0.81      0.82      0.82       509\n",
      "\n",
      "The ROC AUC score from Gradient Boosting Classifier: 0.844938708454442\n",
      "\n",
      "\n",
      "classification_report from Supportt Vector Classifier:\n",
      "               precision    recall  f1-score   support\n",
      "\n",
      "           1       0.65      0.64      0.64       123\n",
      "           0       0.89      0.89      0.89       386\n",
      "\n",
      "    accuracy                           0.83       509\n",
      "   macro avg       0.77      0.77      0.77       509\n",
      "weighted avg       0.83      0.83      0.83       509\n",
      "\n",
      "The ROC AUC score from Support Vector Classifier: 0.8472345086145162\n"
     ]
    }
   ],
   "source": [
    "# Logistic regression\n",
    "lr2 = LogisticRegression(solver = 'liblinear', random_state = 42) \n",
    "lr2.fit(X_train, y_train)\n",
    "y_predict_lr2 = lr2.predict(X_test)\n",
    "y_predict_prob =lr2.predict_proba(X_test)\n",
    "\n",
    "print(\"Classification_report from Logistic regression:\\n\", classification_report(y_test, y_predict_lr2, labels = [1, 0]))\n",
    "print(\"The ROC AUC score from Logistic regression:\", roc_auc_score(y_test, y_predict_prob[:, 1]))\n",
    "print(\"\\n\")\n",
    "\n",
    "# Decision Tree\n",
    "dtc2 = DecisionTreeClassifier(random_state = 42) \n",
    "dtc2.fit(X_train, y_train)\n",
    "y_predict_dtc2 = dtc2.predict(X_test)\n",
    "y_predict_prob =dtc2.predict_proba(X_test)\n",
    "print(\"Classification_report from Decision Tree Clasiifier:\\n\", classification_report(y_test, y_predict_dtc2, labels = [1, 0]))\n",
    "print(\"The ROC AUC score from Decision Tree Clasiifier:\", roc_auc_score(y_test, y_predict_prob[:, 1]))\n",
    "print(\"\\n\")\n",
    "\n",
    "# Random forest classifier\n",
    "RFC2 = RandomForestClassifier(random_state = 42)\n",
    "RFC2.fit(X_train, y_train)\n",
    "y_predict_RFC2 = RFC2.predict(X_test)\n",
    "y_predict_prob =RFC2.predict_proba(X_test)\n",
    "print(\"Classification_report from Random Forest Classifier:\\n\", classification_report(y_test, y_predict_RFC2, labels = [1, 0]))\n",
    "print(\"The ROC AUC score from Random Forest Classifier:\", roc_auc_score(y_test, y_predict_prob[:, 1]))\n",
    "print(\"\\n\")\n",
    "\n",
    "# Gradient Boosting\n",
    "gbc2 = GradientBoostingClassifier(random_state = 42)\n",
    "gbc2.fit(X_train, y_train)\n",
    "y_predict_gbc2 = gbc2.predict(X_test)\n",
    "y_predict_prob = gbc2.predict_proba(X_test)\n",
    "print(\"classification_report from Gradient Boosting Classifier:\\n\", classification_report(y_test, y_predict_gbc2, labels = [1, 0]))\n",
    "print(\"The ROC AUC score from Gradient Boosting Classifier:\", roc_auc_score(y_test, y_predict_prob[:, 1]))\n",
    "print(\"\\n\")\n",
    "\n",
    "# Support Vector Machine\n",
    "svc2 = SVC(probability = True, random_state = 42)\n",
    "svc2.fit(X_train, y_train)\n",
    "y_predict_svc2 = svc2.predict(X_test)\n",
    "y_predict_prob = svc2.predict_proba(X_test)\n",
    "print(\"classification_report from Supportt Vector Classifier:\\n\", classification_report(y_test, y_predict_svc2, labels = [1, 0]))\n",
    "print(\"The ROC AUC score from Support Vector Classifier:\", roc_auc_score(y_test, y_predict_prob[:, 1]))"
   ]
  },
  {
   "cell_type": "markdown",
   "metadata": {},
   "source": [
    "**Among all models, Logistic regression, Random forest and Gradient boosting has almost same performance(roc_auc_score: 0.84)**"
   ]
  },
  {
   "cell_type": "code",
   "execution_count": 35,
   "metadata": {},
   "outputs": [
    {
     "name": "stdout",
     "output_type": "stream",
     "text": [
      "Best parameters from GridSearchCV on Logistic Regression: {'C': 0.1, 'max_iter': 100, 'penalty': 'l1'}\n",
      "Best Score from Grid Search CV on:  0.9137847703139429\n",
      "Classification_report from best Logistic Regression obtained from GridSeachCV:\n",
      "               precision    recall  f1-score   support\n",
      "\n",
      "           1       0.59      0.67      0.63       123\n",
      "           0       0.89      0.85      0.87       386\n",
      "\n",
      "    accuracy                           0.81       509\n",
      "   macro avg       0.74      0.76      0.75       509\n",
      "weighted avg       0.82      0.81      0.81       509\n",
      "\n",
      "The ROC AUC score from best Logistic Regression obtained from GridSeachCV: 0.8629470491596107\n"
     ]
    }
   ],
   "source": [
    "# Apply GridSearCV to Logistic Regression\n",
    "\n",
    "parameters = {'penalty': ['l1', 'l2'],\n",
    "             'C': [0.001, 0.01, 0.1, 1.0, 10],\n",
    "             'max_iter':[100, 200] \n",
    "             }\n",
    "\n",
    "lr3 = LogisticRegression(solver = 'liblinear', random_state = 42)\n",
    "gsc_lr3 = GridSearchCV(lr3, param_grid = parameters, scoring = {'f1_score': 'f1', 'roc_auc_score': 'roc_auc'}, refit = 'roc_auc_score', cv = 3, n_jobs = -1)\n",
    "gsc_lr3.fit(X_train, y_train)\n",
    "\n",
    "best_parameters = gsc_lr3.best_params_\n",
    "best_score = gsc_lr3.best_score_\n",
    "print(\"Best parameters from GridSearchCV on Logistic Regression:\", best_parameters)\n",
    "print(\"Best Score from Grid Search CV on: \", best_score)\n",
    "\n",
    "gsc_lr3_1 = LogisticRegression(solver = 'liblinear', random_state = 42, C = best_parameters['C'], penalty = best_parameters['penalty'], max_iter = best_parameters['max_iter'])\n",
    "gsc_lr3_1.fit(X_train, y_train)\n",
    "y_predict_gsc_lr3_1 = gsc_lr3_1.predict(X_test)\n",
    "y_predict_prob = gsc_lr3_1.predict_proba(X_test)\n",
    "\n",
    "print(\"Classification_report from best Logistic Regression obtained from GridSeachCV:\\n\", classification_report(y_test, y_predict_gsc_lr3_1, labels = [1, 0]))\n",
    "print(\"The ROC AUC score from best Logistic Regression obtained from GridSeachCV:\", roc_auc_score(y_test, y_predict_prob[:, 1]))"
   ]
  },
  {
   "cell_type": "code",
   "execution_count": 36,
   "metadata": {},
   "outputs": [
    {
     "name": "stdout",
     "output_type": "stream",
     "text": [
      "Best parameters from GridSearchCV on Random Forest Classifier: {'criterion': 'gini', 'max_depth': 7, 'n_estimators': 200}\n",
      "Best Score from Grid Search CV on:  0.9430365593259465\n",
      "Classification_report from best Random Forest Classifier obtained from GridSeachCV:\n",
      "               precision    recall  f1-score   support\n",
      "\n",
      "           1       0.58      0.65      0.62       123\n",
      "           0       0.88      0.85      0.87       386\n",
      "\n",
      "    accuracy                           0.80       509\n",
      "   macro avg       0.73      0.75      0.74       509\n",
      "weighted avg       0.81      0.80      0.81       509\n",
      "\n",
      "The ROC AUC score from best Random Forest Classifier obtained from GridSeachCV: 0.8527739163401996\n"
     ]
    }
   ],
   "source": [
    "# Apply GridSearCV to Random Forest Regressor\n",
    "\n",
    "parameters = {'n_estimators': [75, 100, 125, 150, 175, 200],\n",
    "              'criterion': ['gini','entropy'], \n",
    "             'max_depth' : [3, 5, 7] \n",
    "             }\n",
    "RFC3 = RandomForestClassifier(random_state = 42)\n",
    "gsc_RFC3 = GridSearchCV(RFC3, param_grid = parameters, scoring = {'f1_score': 'f1', 'roc_auc_score': 'roc_auc'}, refit = 'roc_auc_score', cv = 3, n_jobs = -1)\n",
    "gsc_RFC3.fit(X_train, y_train)\n",
    "\n",
    "best_parameters = gsc_RFC3.best_params_\n",
    "best_score = gsc_RFC3.best_score_\n",
    "print(\"Best parameters from GridSearchCV on Random Forest Classifier:\", best_parameters)\n",
    "print(\"Best Score from Grid Search CV on: \", best_score)\n",
    "\n",
    "gsc_RFC3_1 = RandomForestClassifier(random_state = 42, n_estimators = best_parameters['n_estimators'], criterion = best_parameters['criterion'], max_depth = best_parameters['max_depth'])\n",
    "gsc_RFC3_1.fit(X_train, y_train)\n",
    "y_predict_gsc_RFC3_1 = gsc_RFC3_1.predict(X_test)\n",
    "y_predict_prob = gsc_RFC3_1.predict_proba(X_test)\n",
    "\n",
    "print(\"Classification_report from best Random Forest Classifier obtained from GridSeachCV:\\n\", classification_report(y_test, y_predict_gsc_RFC3_1, labels = [1, 0]))\n",
    "print(\"The ROC AUC score from best Random Forest Classifier obtained from GridSeachCV:\", roc_auc_score(y_test, y_predict_prob[:, 1]))"
   ]
  },
  {
   "cell_type": "code",
   "execution_count": 37,
   "metadata": {},
   "outputs": [
    {
     "name": "stdout",
     "output_type": "stream",
     "text": [
      "Best parameters from GridSearchCV on Gradient Boosting Classifier: {'learning_rate': 0.1, 'max_depth': 7, 'n_estimators': 300}\n",
      "Best Score from Grid Search CV on:  0.9617526546629732\n",
      "Classification_report from best Gradient Boosting classifier obtained from GridSeachCV:\n",
      "               precision    recall  f1-score   support\n",
      "\n",
      "           1       0.63      0.54      0.58       123\n",
      "           0       0.86      0.90      0.88       386\n",
      "\n",
      "    accuracy                           0.81       509\n",
      "   macro avg       0.74      0.72      0.73       509\n",
      "weighted avg       0.80      0.81      0.81       509\n",
      "\n",
      "The ROC AUC score from best Gradient Boosting classifier obtained from GridSeachCV: 0.8492986225199041\n"
     ]
    }
   ],
   "source": [
    "# Apply GridSearCV to Gradient Boosting Classifier\n",
    "\n",
    "parameters = {'learning_rate': [0.01, 0.1, 1, 10], \n",
    "              'n_estimators': [100, 150, 200, 250, 300],\n",
    "              'max_depth' : [3, 5, 7]\n",
    "             }\n",
    "gbc3 = GradientBoostingClassifier(random_state = 42)\n",
    "gsc_gbc3 = GridSearchCV(gbc3, param_grid = parameters, scoring = {'f1_score': 'f1', 'roc_auc_score': 'roc_auc'}, refit = 'roc_auc_score', cv = 3, n_jobs = -1)\n",
    "gsc_gbc3.fit(X_train, y_train)\n",
    "\n",
    "best_parameters = gsc_gbc3.best_params_\n",
    "best_score = gsc_gbc3.best_score_\n",
    "print(\"Best parameters from GridSearchCV on Gradient Boosting Classifier:\", best_parameters)\n",
    "print(\"Best Score from Grid Search CV on: \", best_score)\n",
    "\n",
    "gsc_gbc3_1 = GradientBoostingClassifier(random_state = 42, learning_rate = best_parameters['learning_rate'], n_estimators = best_parameters['n_estimators'], max_depth = best_parameters['max_depth'])\n",
    "gsc_gbc3_1.fit(X_train, y_train)\n",
    "y_predict_gsc_gbc3_1 = gsc_gbc3_1.predict(X_test)\n",
    "y_predict_prob = gsc_gbc3_1.predict_proba(X_test)\n",
    "\n",
    "print(\"Classification_report from best Gradient Boosting classifier obtained from GridSeachCV:\\n\", classification_report(y_test, y_predict_gsc_gbc3_1, labels = [1, 0]))\n",
    "print(\"The ROC AUC score from best Gradient Boosting classifier obtained from GridSeachCV:\", roc_auc_score(y_test, y_predict_prob[:, 1]))"
   ]
  },
  {
   "cell_type": "code",
   "execution_count": 38,
   "metadata": {},
   "outputs": [
    {
     "name": "stdout",
     "output_type": "stream",
     "text": [
      "Best parameters from GridSearchCV on Support Vector Classifier: {'C': 10}\n",
      "Best Score from Grid Search CV on:  0.970885272391505\n",
      "Classification_report from best Gradient Support Vector Classifier obtained from GridSeachCV:\n",
      "               precision    recall  f1-score   support\n",
      "\n",
      "           1       0.61      0.49      0.54       123\n",
      "           0       0.85      0.90      0.87       386\n",
      "\n",
      "    accuracy                           0.80       509\n",
      "   macro avg       0.73      0.69      0.71       509\n",
      "weighted avg       0.79      0.80      0.79       509\n",
      "\n",
      "The ROC AUC score from best Support Vector Classifier obtained from GridSeachCV: 0.820232528750158\n"
     ]
    }
   ],
   "source": [
    "# Apply GridSearchCV to Support Vector Classifier\n",
    "\n",
    "parameters = {'C': [0.01, 0.1, 1, 10], \n",
    "#              'kernel': ['linear', 'poly', 'rbf', 'sigmoid', 'precomputed']\n",
    "              }\n",
    "SVC3 = SVC(probability = True, random_state = 42)\n",
    "gsc_SVC3 = GridSearchCV(SVC3, param_grid = parameters, scoring = {'f1_score': 'f1', 'roc_auc_score': 'roc_auc'}, refit = 'roc_auc_score', cv = 3, n_jobs = -1)\n",
    "gsc_SVC3.fit(X_train, y_train)\n",
    "\n",
    "best_parameters = gsc_SVC3.best_params_\n",
    "best_score = gsc_SVC3.best_score_\n",
    "print(\"Best parameters from GridSearchCV on Support Vector Classifier:\", best_parameters)\n",
    "print(\"Best Score from Grid Search CV on: \", best_score)\n",
    "\n",
    "gsc_SVC3_1 = SVC(probability = True, random_state = 42, C = best_parameters['C'])\n",
    "gsc_SVC3_1.fit(X_train, y_train)\n",
    "y_predict_gsc_SVC3_1 = gsc_SVC3_1.predict(X_test)\n",
    "y_predict_prob = gsc_SVC3_1.predict_proba(X_test)\n",
    "\n",
    "print(\"Classification_report from best Gradient Support Vector Classifier obtained from GridSeachCV:\\n\", classification_report(y_test, y_predict_gsc_SVC3_1, labels = [1, 0]))\n",
    "print(\"The ROC AUC score from best Support Vector Classifier obtained from GridSeachCV:\", roc_auc_score(y_test, y_predict_prob[:, 1]))"
   ]
  },
  {
   "cell_type": "markdown",
   "metadata": {},
   "source": [
    "**Note: among all, the Logistic Regression performance is highest with roc_auc_score: 0.85.**"
   ]
  },
  {
   "cell_type": "markdown",
   "metadata": {},
   "source": [
    "# Apply PCA"
   ]
  },
  {
   "cell_type": "code",
   "execution_count": 39,
   "metadata": {},
   "outputs": [],
   "source": [
    "from sklearn.decomposition import PCA\n",
    "\n",
    "def pca_application_logistic_regression(data1, data2, n_components_list):\n",
    "    for element in n_components_list:\n",
    "        pca = PCA(n_components = element, random_state = 42)\n",
    "        pca1 = pca.fit(X_train)\n",
    "        pca1_train = pca1.transform(X_train)\n",
    "        pca1_test = pca1.transform(X_test)\n",
    "        #print(pca1.explained_variance_ratio_)\n",
    "\n",
    "        lr_pca = LogisticRegression(solver = 'liblinear', random_state = 42)\n",
    "        lr_pca.fit(pca1_train, y_train)\n",
    "        y_predict_pca1 = lr_pca.predict(pca1_test)\n",
    "        y_predict_prob = lr_pca.predict_proba(pca1_test)\n",
    "        \n",
    "        print(\"n_components:\", element)\n",
    "        print(\"classification_report:\\n\", classification_report(y_test, y_predict_pca1, labels = [1, 0]))\n",
    "        print(\"The ROC AUC score:\", roc_auc_score(y_test,  y_predict_prob[:, 1]))\n",
    "    return None"
   ]
  },
  {
   "cell_type": "code",
   "execution_count": 40,
   "metadata": {},
   "outputs": [
    {
     "name": "stdout",
     "output_type": "stream",
     "text": [
      "n_components: None\n",
      "classification_report:\n",
      "               precision    recall  f1-score   support\n",
      "\n",
      "           1       0.60      0.67      0.63       123\n",
      "           0       0.89      0.86      0.87       386\n",
      "\n",
      "    accuracy                           0.81       509\n",
      "   macro avg       0.75      0.76      0.75       509\n",
      "weighted avg       0.82      0.81      0.82       509\n",
      "\n",
      "The ROC AUC score: 0.8502043051518597\n",
      "n_components: 5\n",
      "classification_report:\n",
      "               precision    recall  f1-score   support\n",
      "\n",
      "           1       0.57      0.66      0.61       123\n",
      "           0       0.89      0.84      0.86       386\n",
      "\n",
      "    accuracy                           0.80       509\n",
      "   macro avg       0.73      0.75      0.74       509\n",
      "weighted avg       0.81      0.80      0.80       509\n",
      "\n",
      "The ROC AUC score: 0.8375458106912674\n",
      "n_components: 10\n",
      "classification_report:\n",
      "               precision    recall  f1-score   support\n",
      "\n",
      "           1       0.57      0.65      0.61       123\n",
      "           0       0.88      0.84      0.86       386\n",
      "\n",
      "    accuracy                           0.80       509\n",
      "   macro avg       0.73      0.75      0.74       509\n",
      "weighted avg       0.81      0.80      0.80       509\n",
      "\n",
      "The ROC AUC score: 0.8504781161801255\n",
      "n_components: 20\n",
      "classification_report:\n",
      "               precision    recall  f1-score   support\n",
      "\n",
      "           1       0.57      0.65      0.61       123\n",
      "           0       0.88      0.84      0.86       386\n",
      "\n",
      "    accuracy                           0.80       509\n",
      "   macro avg       0.73      0.75      0.74       509\n",
      "weighted avg       0.81      0.80      0.80       509\n",
      "\n",
      "The ROC AUC score: 0.8530266649816757\n",
      "n_components: 30\n",
      "classification_report:\n",
      "               precision    recall  f1-score   support\n",
      "\n",
      "           1       0.56      0.63      0.59       123\n",
      "           0       0.88      0.84      0.86       386\n",
      "\n",
      "    accuracy                           0.79       509\n",
      "   macro avg       0.72      0.74      0.73       509\n",
      "weighted avg       0.80      0.79      0.79       509\n",
      "\n",
      "The ROC AUC score: 0.847044947133409\n",
      "n_components: 40\n",
      "classification_report:\n",
      "               precision    recall  f1-score   support\n",
      "\n",
      "           1       0.55      0.65      0.59       123\n",
      "           0       0.88      0.83      0.85       386\n",
      "\n",
      "    accuracy                           0.79       509\n",
      "   macro avg       0.71      0.74      0.72       509\n",
      "weighted avg       0.80      0.79      0.79       509\n",
      "\n",
      "The ROC AUC score: 0.8456337672185013\n",
      "n_components: 50\n",
      "classification_report:\n",
      "               precision    recall  f1-score   support\n",
      "\n",
      "           1       0.54      0.64      0.59       123\n",
      "           0       0.88      0.83      0.85       386\n",
      "\n",
      "    accuracy                           0.78       509\n",
      "   macro avg       0.71      0.74      0.72       509\n",
      "weighted avg       0.80      0.78      0.79       509\n",
      "\n",
      "The ROC AUC score: 0.8446648974261763\n",
      "n_components: 60\n",
      "classification_report:\n",
      "               precision    recall  f1-score   support\n",
      "\n",
      "           1       0.58      0.68      0.63       123\n",
      "           0       0.89      0.84      0.87       386\n",
      "\n",
      "    accuracy                           0.81       509\n",
      "   macro avg       0.74      0.76      0.75       509\n",
      "weighted avg       0.82      0.81      0.81       509\n",
      "\n",
      "The ROC AUC score: 0.8457180167656599\n",
      "n_components: 70\n",
      "classification_report:\n",
      "               precision    recall  f1-score   support\n",
      "\n",
      "           1       0.62      0.67      0.64       123\n",
      "           0       0.89      0.87      0.88       386\n",
      "\n",
      "    accuracy                           0.82       509\n",
      "   macro avg       0.76      0.77      0.76       509\n",
      "weighted avg       0.83      0.82      0.82       509\n",
      "\n",
      "The ROC AUC score: 0.8499094317368046\n"
     ]
    }
   ],
   "source": [
    "n_components_list = [None, 5, 10, 20, 30, 40, 50, 60, 70]\n",
    "pca_application_logistic_regression(X_train, X_test, n_components_list)"
   ]
  },
  {
   "cell_type": "markdown",
   "metadata": {},
   "source": [
    "**Among all PCAs ,the PCA with n_components = 10 performed best with roc_auc_score: 0.85**."
   ]
  },
  {
   "cell_type": "code",
   "execution_count": 41,
   "metadata": {},
   "outputs": [
    {
     "name": "stdout",
     "output_type": "stream",
     "text": [
      "Classification_report from Logistic regression:\n",
      "               precision    recall  f1-score   support\n",
      "\n",
      "           1       0.59      0.66      0.62       123\n",
      "           0       0.89      0.85      0.87       386\n",
      "\n",
      "    accuracy                           0.81       509\n",
      "   macro avg       0.74      0.76      0.74       509\n",
      "weighted avg       0.81      0.81      0.81       509\n",
      "\n",
      "The ROC AUC score from Logistic regression: 0.8485403765954758\n",
      "\n",
      "\n",
      "0:00:00.034284\n"
     ]
    }
   ],
   "source": [
    "# Apply Best PCA with best Logistic Regression\n",
    "import datetime\n",
    "start = datetime.datetime.now()\n",
    "pca = PCA(n_components = 10, random_state = 42)\n",
    "pca1 = pca.fit(X_train)\n",
    "pca1_train = pca1.transform(X_train)\n",
    "pca1_test = pca1.transform(X_test)\n",
    "lr_final = LogisticRegression(solver = 'liblinear', random_state = 42, C = 0.1, max_iter = 100, penalty = 'l1') \n",
    "\n",
    "\n",
    "lr_final.fit(pca1_train, y_train)\n",
    "y_predict_lr_final = lr_final.predict(pca1_test)\n",
    "y_predict_prob = lr_final.predict_proba(pca1_test)\n",
    "\n",
    "print(\"Classification_report from Logistic regression:\\n\", classification_report(y_test, y_predict_lr_final, labels = [1, 0]))\n",
    "print(\"The ROC AUC score from Logistic regression:\", roc_auc_score(y_test, y_predict_prob[:, 1]))\n",
    "print(\"\\n\")\n",
    "end = datetime.datetime.now()\n",
    "print(end-start)"
   ]
  },
  {
   "cell_type": "code",
   "execution_count": 42,
   "metadata": {},
   "outputs": [
    {
     "name": "stdout",
     "output_type": "stream",
     "text": [
      "Classification_report from Logistic regression:\n",
      "               precision    recall  f1-score   support\n",
      "\n",
      "           1       0.61      0.67      0.64       123\n",
      "           0       0.89      0.87      0.88       386\n",
      "\n",
      "    accuracy                           0.82       509\n",
      "   macro avg       0.75      0.77      0.76       509\n",
      "weighted avg       0.82      0.82      0.82       509\n",
      "\n",
      "The ROC AUC score from Logistic regression: 0.851531235519609\n",
      "\n",
      "\n",
      "0:00:00.070819\n"
     ]
    }
   ],
   "source": [
    "# Logistic regression with best parameters from GridSearchCV without appying PCA\n",
    "\n",
    "start = datetime.datetime.now()\n",
    "lr2 = LogisticRegression(solver = 'liblinear', random_state = 42, max_iter = 100, penalty = 'l1') \n",
    "lr2.fit(X_train, y_train)\n",
    "y_predict_lr2 = lr2.predict(X_test)\n",
    "y_predict_prob =lr2.predict_proba(X_test)\n",
    "\n",
    "print(\"Classification_report from Logistic regression:\\n\", classification_report(y_test, y_predict_lr2, labels = [1, 0]))\n",
    "print(\"The ROC AUC score from Logistic regression:\", roc_auc_score(y_test, y_predict_prob[:, 1]))\n",
    "print(\"\\n\")\n",
    "end = datetime.datetime.now()\n",
    "print(end-start)"
   ]
  },
  {
   "cell_type": "markdown",
   "metadata": {},
   "source": [
    "# Final Optimized model"
   ]
  },
  {
   "cell_type": "markdown",
   "metadata": {},
   "source": [
    "Among all the models, Logistic Regression model lr_final model with following features was considered as the best taking into acoount the run time when applied to large dataset in future."
   ]
  },
  {
   "cell_type": "code",
   "execution_count": 43,
   "metadata": {},
   "outputs": [],
   "source": [
    "lr_final = LogisticRegression(solver = 'liblinear', random_state = 42, C = 0.1, max_iter = 100, penalty = 'l1')"
   ]
  },
  {
   "cell_type": "markdown",
   "metadata": {},
   "source": [
    "# Save the Finally Optimized Model "
   ]
  },
  {
   "cell_type": "code",
   "execution_count": 44,
   "metadata": {},
   "outputs": [],
   "source": [
    "best_model = lr_final\n",
    "best_model.version = '1.0'\n",
    "best_model.pandas_version = pd.__version__\n",
    "best_model.numpy_version = np.__version__\n",
    "best_model.X_columns = [col for col in X_train.columns]"
   ]
  },
  {
   "cell_type": "code",
   "execution_count": 45,
   "metadata": {},
   "outputs": [],
   "source": [
    "import pickle\n",
    "pickle.dump(lr_final, open('Best_model.pkl', 'wb'))"
   ]
  },
  {
   "cell_type": "markdown",
   "metadata": {},
   "source": [
    "# Summary:"
   ]
  },
  {
   "cell_type": "markdown",
   "metadata": {},
   "source": [
    "The performance of the Logistic Regression without and with PCA was same with roc_auc_score of 0.85. However, the model with PCA was saved for deployment taking into considering the run time while it'll be applied to large dataset . "
   ]
  }
 ],
 "metadata": {
  "kernelspec": {
   "display_name": "Python 3",
   "language": "python",
   "name": "python3"
  },
  "language_info": {
   "codemirror_mode": {
    "name": "ipython",
    "version": 3
   },
   "file_extension": ".py",
   "mimetype": "text/x-python",
   "name": "python",
   "nbconvert_exporter": "python",
   "pygments_lexer": "ipython3",
   "version": "3.7.1"
  }
 },
 "nbformat": 4,
 "nbformat_minor": 2
}
