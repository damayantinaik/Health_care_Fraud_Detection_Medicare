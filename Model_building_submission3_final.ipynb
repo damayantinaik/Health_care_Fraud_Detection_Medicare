{
 "cells": [
  {
   "cell_type": "markdown",
   "metadata": {},
   "source": [
    "# Machine Learning Model building:"
   ]
  },
  {
   "cell_type": "markdown",
   "metadata": {},
   "source": [
    "After feature engineering, Machine Learning models were trained and evaluated, however, models building was carried out for two different types of processed data:<br>case-1: Total number of counts was taken for each categorical data under each provider<br>Case-2: Dummies was obtained for each categrical variables under each provider"
   ]
  },
  {
   "cell_type": "markdown",
   "metadata": {},
   "source": [
    "## Import the libraries"
   ]
  },
  {
   "cell_type": "code",
   "execution_count": 1,
   "metadata": {},
   "outputs": [],
   "source": [
    "import numpy as np\n",
    "import pandas as pd\n",
    "import matplotlib.pyplot as plt\n",
    "import seaborn as sns"
   ]
  },
  {
   "cell_type": "markdown",
   "metadata": {},
   "source": [
    "## Case-1: ML model building (For categorical features, where total number entries under each provider was counted)"
   ]
  },
  {
   "cell_type": "code",
   "execution_count": 2,
   "metadata": {},
   "outputs": [],
   "source": [
    "X_train = pd.read_csv('X_train3.csv', index_col = 0)\n",
    "y_train = pd.read_csv('y_train3.csv', index_col = 0)\n",
    "\n",
    "X_test = pd.read_csv('X_test3.csv', index_col = 0)\n",
    "y_test = pd.read_csv('y_test3.csv', index_col = 0)"
   ]
  },
  {
   "cell_type": "code",
   "execution_count": 3,
   "metadata": {},
   "outputs": [
    {
     "data": {
      "text/plain": [
       "((1185, 95), (1185, 1), (509, 95), (509, 1))"
      ]
     },
     "execution_count": 3,
     "metadata": {},
     "output_type": "execute_result"
    }
   ],
   "source": [
    "X_train.shape, y_train.shape, X_test.shape, y_test.shape"
   ]
  },
  {
   "cell_type": "code",
   "execution_count": 4,
   "metadata": {},
   "outputs": [
    {
     "data": {
      "text/html": [
       "<div>\n",
       "<style scoped>\n",
       "    .dataframe tbody tr th:only-of-type {\n",
       "        vertical-align: middle;\n",
       "    }\n",
       "\n",
       "    .dataframe tbody tr th {\n",
       "        vertical-align: top;\n",
       "    }\n",
       "\n",
       "    .dataframe thead th {\n",
       "        text-align: right;\n",
       "    }\n",
       "</style>\n",
       "<table border=\"1\" class=\"dataframe\">\n",
       "  <thead>\n",
       "    <tr style=\"text-align: right;\">\n",
       "      <th></th>\n",
       "      <th>InscClaimAmtReimbursed_x</th>\n",
       "      <th>DeductibleAmtPaid_x</th>\n",
       "      <th>InpatientClaimPeriod</th>\n",
       "      <th>DurationInHospital</th>\n",
       "      <th>NoOfMonths_PartACov_x</th>\n",
       "      <th>NoOfMonths_PartBCov_x</th>\n",
       "      <th>IPAnnualReimbursementAmt_x</th>\n",
       "      <th>IPAnnualDeductibleAmt_x</th>\n",
       "      <th>OPAnnualReimbursementAmt_x</th>\n",
       "      <th>OPAnnualDeductibleAmt_x</th>\n",
       "      <th>...</th>\n",
       "      <th>ChronicCond_Heartfailure_y</th>\n",
       "      <th>ChronicCond_KidneyDisease_y</th>\n",
       "      <th>ChronicCond_Cancer_y</th>\n",
       "      <th>ChronicCond_ObstrPulmonary_y</th>\n",
       "      <th>ChronicCond_Depression_y</th>\n",
       "      <th>ChronicCond_Diabetes_y</th>\n",
       "      <th>ChronicCond_IschemicHeart_y</th>\n",
       "      <th>ChronicCond_Osteoporasis_y</th>\n",
       "      <th>ChronicCond_rheumatoidarthritis_y</th>\n",
       "      <th>ChronicCond_stroke_y</th>\n",
       "    </tr>\n",
       "  </thead>\n",
       "  <tbody>\n",
       "    <tr>\n",
       "      <th>0</th>\n",
       "      <td>0.035290</td>\n",
       "      <td>0.0</td>\n",
       "      <td>0.634834</td>\n",
       "      <td>0.632766</td>\n",
       "      <td>0.215258</td>\n",
       "      <td>-0.648255</td>\n",
       "      <td>-0.037962</td>\n",
       "      <td>-0.016147</td>\n",
       "      <td>-0.242751</td>\n",
       "      <td>-0.867557</td>\n",
       "      <td>...</td>\n",
       "      <td>-0.454031</td>\n",
       "      <td>-0.454031</td>\n",
       "      <td>-0.454031</td>\n",
       "      <td>-0.454031</td>\n",
       "      <td>-0.454031</td>\n",
       "      <td>-0.454031</td>\n",
       "      <td>-0.454031</td>\n",
       "      <td>-0.454031</td>\n",
       "      <td>-0.454031</td>\n",
       "      <td>-0.454031</td>\n",
       "    </tr>\n",
       "    <tr>\n",
       "      <th>1</th>\n",
       "      <td>-0.547996</td>\n",
       "      <td>0.0</td>\n",
       "      <td>0.887340</td>\n",
       "      <td>0.885036</td>\n",
       "      <td>0.215258</td>\n",
       "      <td>0.237652</td>\n",
       "      <td>-1.116700</td>\n",
       "      <td>-0.475348</td>\n",
       "      <td>-0.902800</td>\n",
       "      <td>-0.997736</td>\n",
       "      <td>...</td>\n",
       "      <td>-0.032232</td>\n",
       "      <td>-0.032232</td>\n",
       "      <td>-0.032232</td>\n",
       "      <td>-0.032232</td>\n",
       "      <td>-0.032232</td>\n",
       "      <td>-0.032232</td>\n",
       "      <td>-0.032232</td>\n",
       "      <td>-0.032232</td>\n",
       "      <td>-0.032232</td>\n",
       "      <td>-0.032232</td>\n",
       "    </tr>\n",
       "    <tr>\n",
       "      <th>2</th>\n",
       "      <td>-0.017145</td>\n",
       "      <td>0.0</td>\n",
       "      <td>-0.822593</td>\n",
       "      <td>-0.823304</td>\n",
       "      <td>0.215258</td>\n",
       "      <td>-1.695236</td>\n",
       "      <td>-0.372273</td>\n",
       "      <td>-0.326406</td>\n",
       "      <td>-0.438602</td>\n",
       "      <td>-0.818562</td>\n",
       "      <td>...</td>\n",
       "      <td>-0.100631</td>\n",
       "      <td>-0.100631</td>\n",
       "      <td>-0.100631</td>\n",
       "      <td>-0.100631</td>\n",
       "      <td>-0.100631</td>\n",
       "      <td>-0.100631</td>\n",
       "      <td>-0.100631</td>\n",
       "      <td>-0.100631</td>\n",
       "      <td>-0.100631</td>\n",
       "      <td>-0.100631</td>\n",
       "    </tr>\n",
       "    <tr>\n",
       "      <th>3</th>\n",
       "      <td>0.238384</td>\n",
       "      <td>0.0</td>\n",
       "      <td>-1.056474</td>\n",
       "      <td>-1.056968</td>\n",
       "      <td>0.215258</td>\n",
       "      <td>0.237652</td>\n",
       "      <td>-0.434826</td>\n",
       "      <td>-0.442754</td>\n",
       "      <td>-0.737917</td>\n",
       "      <td>0.944394</td>\n",
       "      <td>...</td>\n",
       "      <td>-0.237431</td>\n",
       "      <td>-0.237431</td>\n",
       "      <td>-0.237431</td>\n",
       "      <td>-0.237431</td>\n",
       "      <td>-0.237431</td>\n",
       "      <td>-0.237431</td>\n",
       "      <td>-0.237431</td>\n",
       "      <td>-0.237431</td>\n",
       "      <td>-0.237431</td>\n",
       "      <td>-0.237431</td>\n",
       "    </tr>\n",
       "    <tr>\n",
       "      <th>4</th>\n",
       "      <td>-0.817705</td>\n",
       "      <td>0.0</td>\n",
       "      <td>-0.770619</td>\n",
       "      <td>-0.771379</td>\n",
       "      <td>0.215258</td>\n",
       "      <td>0.237652</td>\n",
       "      <td>-0.205604</td>\n",
       "      <td>0.837067</td>\n",
       "      <td>-0.546073</td>\n",
       "      <td>0.195945</td>\n",
       "      <td>...</td>\n",
       "      <td>-0.944230</td>\n",
       "      <td>-0.944230</td>\n",
       "      <td>-0.944230</td>\n",
       "      <td>-0.944230</td>\n",
       "      <td>-0.944230</td>\n",
       "      <td>-0.944230</td>\n",
       "      <td>-0.944230</td>\n",
       "      <td>-0.944230</td>\n",
       "      <td>-0.944230</td>\n",
       "      <td>-0.944230</td>\n",
       "    </tr>\n",
       "  </tbody>\n",
       "</table>\n",
       "<p>5 rows × 95 columns</p>\n",
       "</div>"
      ],
      "text/plain": [
       "   InscClaimAmtReimbursed_x  DeductibleAmtPaid_x  InpatientClaimPeriod  \\\n",
       "0                  0.035290                  0.0              0.634834   \n",
       "1                 -0.547996                  0.0              0.887340   \n",
       "2                 -0.017145                  0.0             -0.822593   \n",
       "3                  0.238384                  0.0             -1.056474   \n",
       "4                 -0.817705                  0.0             -0.770619   \n",
       "\n",
       "   DurationInHospital  NoOfMonths_PartACov_x  NoOfMonths_PartBCov_x  \\\n",
       "0            0.632766               0.215258              -0.648255   \n",
       "1            0.885036               0.215258               0.237652   \n",
       "2           -0.823304               0.215258              -1.695236   \n",
       "3           -1.056968               0.215258               0.237652   \n",
       "4           -0.771379               0.215258               0.237652   \n",
       "\n",
       "   IPAnnualReimbursementAmt_x  IPAnnualDeductibleAmt_x  \\\n",
       "0                   -0.037962                -0.016147   \n",
       "1                   -1.116700                -0.475348   \n",
       "2                   -0.372273                -0.326406   \n",
       "3                   -0.434826                -0.442754   \n",
       "4                   -0.205604                 0.837067   \n",
       "\n",
       "   OPAnnualReimbursementAmt_x  OPAnnualDeductibleAmt_x  ...  \\\n",
       "0                   -0.242751                -0.867557  ...   \n",
       "1                   -0.902800                -0.997736  ...   \n",
       "2                   -0.438602                -0.818562  ...   \n",
       "3                   -0.737917                 0.944394  ...   \n",
       "4                   -0.546073                 0.195945  ...   \n",
       "\n",
       "   ChronicCond_Heartfailure_y  ChronicCond_KidneyDisease_y  \\\n",
       "0                   -0.454031                    -0.454031   \n",
       "1                   -0.032232                    -0.032232   \n",
       "2                   -0.100631                    -0.100631   \n",
       "3                   -0.237431                    -0.237431   \n",
       "4                   -0.944230                    -0.944230   \n",
       "\n",
       "   ChronicCond_Cancer_y  ChronicCond_ObstrPulmonary_y  \\\n",
       "0             -0.454031                     -0.454031   \n",
       "1             -0.032232                     -0.032232   \n",
       "2             -0.100631                     -0.100631   \n",
       "3             -0.237431                     -0.237431   \n",
       "4             -0.944230                     -0.944230   \n",
       "\n",
       "   ChronicCond_Depression_y  ChronicCond_Diabetes_y  \\\n",
       "0                 -0.454031               -0.454031   \n",
       "1                 -0.032232               -0.032232   \n",
       "2                 -0.100631               -0.100631   \n",
       "3                 -0.237431               -0.237431   \n",
       "4                 -0.944230               -0.944230   \n",
       "\n",
       "   ChronicCond_IschemicHeart_y  ChronicCond_Osteoporasis_y  \\\n",
       "0                    -0.454031                   -0.454031   \n",
       "1                    -0.032232                   -0.032232   \n",
       "2                    -0.100631                   -0.100631   \n",
       "3                    -0.237431                   -0.237431   \n",
       "4                    -0.944230                   -0.944230   \n",
       "\n",
       "   ChronicCond_rheumatoidarthritis_y  ChronicCond_stroke_y  \n",
       "0                          -0.454031             -0.454031  \n",
       "1                          -0.032232             -0.032232  \n",
       "2                          -0.100631             -0.100631  \n",
       "3                          -0.237431             -0.237431  \n",
       "4                          -0.944230             -0.944230  \n",
       "\n",
       "[5 rows x 95 columns]"
      ]
     },
     "execution_count": 4,
     "metadata": {},
     "output_type": "execute_result"
    }
   ],
   "source": [
    "X_train.head()"
   ]
  },
  {
   "cell_type": "code",
   "execution_count": 5,
   "metadata": {},
   "outputs": [
    {
     "data": {
      "text/html": [
       "<div>\n",
       "<style scoped>\n",
       "    .dataframe tbody tr th:only-of-type {\n",
       "        vertical-align: middle;\n",
       "    }\n",
       "\n",
       "    .dataframe tbody tr th {\n",
       "        vertical-align: top;\n",
       "    }\n",
       "\n",
       "    .dataframe thead th {\n",
       "        text-align: right;\n",
       "    }\n",
       "</style>\n",
       "<table border=\"1\" class=\"dataframe\">\n",
       "  <thead>\n",
       "    <tr style=\"text-align: right;\">\n",
       "      <th></th>\n",
       "      <th>PotentialFraud</th>\n",
       "    </tr>\n",
       "  </thead>\n",
       "  <tbody>\n",
       "    <tr>\n",
       "      <th>0</th>\n",
       "      <td>1</td>\n",
       "    </tr>\n",
       "    <tr>\n",
       "      <th>1</th>\n",
       "      <td>0</td>\n",
       "    </tr>\n",
       "    <tr>\n",
       "      <th>2</th>\n",
       "      <td>1</td>\n",
       "    </tr>\n",
       "    <tr>\n",
       "      <th>3</th>\n",
       "      <td>0</td>\n",
       "    </tr>\n",
       "    <tr>\n",
       "      <th>4</th>\n",
       "      <td>0</td>\n",
       "    </tr>\n",
       "  </tbody>\n",
       "</table>\n",
       "</div>"
      ],
      "text/plain": [
       "   PotentialFraud\n",
       "0               1\n",
       "1               0\n",
       "2               1\n",
       "3               0\n",
       "4               0"
      ]
     },
     "execution_count": 5,
     "metadata": {},
     "output_type": "execute_result"
    }
   ],
   "source": [
    "y_train.head()"
   ]
  },
  {
   "cell_type": "code",
   "execution_count": 6,
   "metadata": {},
   "outputs": [
    {
     "data": {
      "text/plain": [
       "(1185, 1)"
      ]
     },
     "execution_count": 6,
     "metadata": {},
     "output_type": "execute_result"
    }
   ],
   "source": [
    "y_train.shape"
   ]
  },
  {
   "cell_type": "code",
   "execution_count": 7,
   "metadata": {},
   "outputs": [
    {
     "data": {
      "text/html": [
       "<div>\n",
       "<style scoped>\n",
       "    .dataframe tbody tr th:only-of-type {\n",
       "        vertical-align: middle;\n",
       "    }\n",
       "\n",
       "    .dataframe tbody tr th {\n",
       "        vertical-align: top;\n",
       "    }\n",
       "\n",
       "    .dataframe thead th {\n",
       "        text-align: right;\n",
       "    }\n",
       "</style>\n",
       "<table border=\"1\" class=\"dataframe\">\n",
       "  <thead>\n",
       "    <tr style=\"text-align: right;\">\n",
       "      <th></th>\n",
       "      <th>InscClaimAmtReimbursed_x</th>\n",
       "      <th>DeductibleAmtPaid_x</th>\n",
       "      <th>InpatientClaimPeriod</th>\n",
       "      <th>DurationInHospital</th>\n",
       "      <th>NoOfMonths_PartACov_x</th>\n",
       "      <th>NoOfMonths_PartBCov_x</th>\n",
       "      <th>IPAnnualReimbursementAmt_x</th>\n",
       "      <th>IPAnnualDeductibleAmt_x</th>\n",
       "      <th>OPAnnualReimbursementAmt_x</th>\n",
       "      <th>OPAnnualDeductibleAmt_x</th>\n",
       "      <th>...</th>\n",
       "      <th>ChronicCond_Heartfailure_y</th>\n",
       "      <th>ChronicCond_KidneyDisease_y</th>\n",
       "      <th>ChronicCond_Cancer_y</th>\n",
       "      <th>ChronicCond_ObstrPulmonary_y</th>\n",
       "      <th>ChronicCond_Depression_y</th>\n",
       "      <th>ChronicCond_Diabetes_y</th>\n",
       "      <th>ChronicCond_IschemicHeart_y</th>\n",
       "      <th>ChronicCond_Osteoporasis_y</th>\n",
       "      <th>ChronicCond_rheumatoidarthritis_y</th>\n",
       "      <th>ChronicCond_stroke_y</th>\n",
       "    </tr>\n",
       "  </thead>\n",
       "  <tbody>\n",
       "    <tr>\n",
       "      <th>0</th>\n",
       "      <td>0.746119</td>\n",
       "      <td>0.0</td>\n",
       "      <td>0.015482</td>\n",
       "      <td>0.013990</td>\n",
       "      <td>0.215258</td>\n",
       "      <td>0.237652</td>\n",
       "      <td>-0.131748</td>\n",
       "      <td>-0.602731</td>\n",
       "      <td>-0.630329</td>\n",
       "      <td>-1.104246</td>\n",
       "      <td>...</td>\n",
       "      <td>-0.499631</td>\n",
       "      <td>-0.499631</td>\n",
       "      <td>-0.499631</td>\n",
       "      <td>-0.499631</td>\n",
       "      <td>-0.499631</td>\n",
       "      <td>-0.499631</td>\n",
       "      <td>-0.499631</td>\n",
       "      <td>-0.499631</td>\n",
       "      <td>-0.499631</td>\n",
       "      <td>-0.499631</td>\n",
       "    </tr>\n",
       "    <tr>\n",
       "      <th>1</th>\n",
       "      <td>0.077940</td>\n",
       "      <td>0.0</td>\n",
       "      <td>0.069080</td>\n",
       "      <td>0.067538</td>\n",
       "      <td>0.215258</td>\n",
       "      <td>-1.091209</td>\n",
       "      <td>-0.068184</td>\n",
       "      <td>0.941023</td>\n",
       "      <td>-0.571998</td>\n",
       "      <td>-0.559701</td>\n",
       "      <td>...</td>\n",
       "      <td>0.081768</td>\n",
       "      <td>0.081768</td>\n",
       "      <td>0.081768</td>\n",
       "      <td>0.081768</td>\n",
       "      <td>0.081768</td>\n",
       "      <td>0.081768</td>\n",
       "      <td>0.081768</td>\n",
       "      <td>0.081768</td>\n",
       "      <td>0.081768</td>\n",
       "      <td>0.081768</td>\n",
       "    </tr>\n",
       "    <tr>\n",
       "      <th>2</th>\n",
       "      <td>0.055599</td>\n",
       "      <td>0.0</td>\n",
       "      <td>0.229873</td>\n",
       "      <td>0.228182</td>\n",
       "      <td>-1.596361</td>\n",
       "      <td>0.237652</td>\n",
       "      <td>-0.162986</td>\n",
       "      <td>-0.602731</td>\n",
       "      <td>-1.229842</td>\n",
       "      <td>-1.281763</td>\n",
       "      <td>...</td>\n",
       "      <td>0.628967</td>\n",
       "      <td>0.628967</td>\n",
       "      <td>0.628967</td>\n",
       "      <td>0.628967</td>\n",
       "      <td>0.628967</td>\n",
       "      <td>0.628967</td>\n",
       "      <td>0.628967</td>\n",
       "      <td>0.628967</td>\n",
       "      <td>0.628967</td>\n",
       "      <td>0.628967</td>\n",
       "    </tr>\n",
       "    <tr>\n",
       "      <th>3</th>\n",
       "      <td>-0.167804</td>\n",
       "      <td>0.0</td>\n",
       "      <td>1.135081</td>\n",
       "      <td>1.132546</td>\n",
       "      <td>0.215258</td>\n",
       "      <td>0.237652</td>\n",
       "      <td>-1.068428</td>\n",
       "      <td>-0.869361</td>\n",
       "      <td>-0.891738</td>\n",
       "      <td>-0.539711</td>\n",
       "      <td>...</td>\n",
       "      <td>-0.009432</td>\n",
       "      <td>-0.009432</td>\n",
       "      <td>-0.009432</td>\n",
       "      <td>-0.009432</td>\n",
       "      <td>-0.009432</td>\n",
       "      <td>-0.009432</td>\n",
       "      <td>-0.009432</td>\n",
       "      <td>-0.009432</td>\n",
       "      <td>-0.009432</td>\n",
       "      <td>-0.009432</td>\n",
       "    </tr>\n",
       "    <tr>\n",
       "      <th>4</th>\n",
       "      <td>0.347878</td>\n",
       "      <td>0.0</td>\n",
       "      <td>0.323087</td>\n",
       "      <td>0.321308</td>\n",
       "      <td>0.215258</td>\n",
       "      <td>0.237652</td>\n",
       "      <td>-0.044202</td>\n",
       "      <td>-0.554042</td>\n",
       "      <td>-0.302378</td>\n",
       "      <td>-0.617587</td>\n",
       "      <td>...</td>\n",
       "      <td>0.024768</td>\n",
       "      <td>0.024768</td>\n",
       "      <td>0.024768</td>\n",
       "      <td>0.024768</td>\n",
       "      <td>0.024768</td>\n",
       "      <td>0.024768</td>\n",
       "      <td>0.024768</td>\n",
       "      <td>0.024768</td>\n",
       "      <td>0.024768</td>\n",
       "      <td>0.024768</td>\n",
       "    </tr>\n",
       "  </tbody>\n",
       "</table>\n",
       "<p>5 rows × 95 columns</p>\n",
       "</div>"
      ],
      "text/plain": [
       "   InscClaimAmtReimbursed_x  DeductibleAmtPaid_x  InpatientClaimPeriod  \\\n",
       "0                  0.746119                  0.0              0.015482   \n",
       "1                  0.077940                  0.0              0.069080   \n",
       "2                  0.055599                  0.0              0.229873   \n",
       "3                 -0.167804                  0.0              1.135081   \n",
       "4                  0.347878                  0.0              0.323087   \n",
       "\n",
       "   DurationInHospital  NoOfMonths_PartACov_x  NoOfMonths_PartBCov_x  \\\n",
       "0            0.013990               0.215258               0.237652   \n",
       "1            0.067538               0.215258              -1.091209   \n",
       "2            0.228182              -1.596361               0.237652   \n",
       "3            1.132546               0.215258               0.237652   \n",
       "4            0.321308               0.215258               0.237652   \n",
       "\n",
       "   IPAnnualReimbursementAmt_x  IPAnnualDeductibleAmt_x  \\\n",
       "0                   -0.131748                -0.602731   \n",
       "1                   -0.068184                 0.941023   \n",
       "2                   -0.162986                -0.602731   \n",
       "3                   -1.068428                -0.869361   \n",
       "4                   -0.044202                -0.554042   \n",
       "\n",
       "   OPAnnualReimbursementAmt_x  OPAnnualDeductibleAmt_x  ...  \\\n",
       "0                   -0.630329                -1.104246  ...   \n",
       "1                   -0.571998                -0.559701  ...   \n",
       "2                   -1.229842                -1.281763  ...   \n",
       "3                   -0.891738                -0.539711  ...   \n",
       "4                   -0.302378                -0.617587  ...   \n",
       "\n",
       "   ChronicCond_Heartfailure_y  ChronicCond_KidneyDisease_y  \\\n",
       "0                   -0.499631                    -0.499631   \n",
       "1                    0.081768                     0.081768   \n",
       "2                    0.628967                     0.628967   \n",
       "3                   -0.009432                    -0.009432   \n",
       "4                    0.024768                     0.024768   \n",
       "\n",
       "   ChronicCond_Cancer_y  ChronicCond_ObstrPulmonary_y  \\\n",
       "0             -0.499631                     -0.499631   \n",
       "1              0.081768                      0.081768   \n",
       "2              0.628967                      0.628967   \n",
       "3             -0.009432                     -0.009432   \n",
       "4              0.024768                      0.024768   \n",
       "\n",
       "   ChronicCond_Depression_y  ChronicCond_Diabetes_y  \\\n",
       "0                 -0.499631               -0.499631   \n",
       "1                  0.081768                0.081768   \n",
       "2                  0.628967                0.628967   \n",
       "3                 -0.009432               -0.009432   \n",
       "4                  0.024768                0.024768   \n",
       "\n",
       "   ChronicCond_IschemicHeart_y  ChronicCond_Osteoporasis_y  \\\n",
       "0                    -0.499631                   -0.499631   \n",
       "1                     0.081768                    0.081768   \n",
       "2                     0.628967                    0.628967   \n",
       "3                    -0.009432                   -0.009432   \n",
       "4                     0.024768                    0.024768   \n",
       "\n",
       "   ChronicCond_rheumatoidarthritis_y  ChronicCond_stroke_y  \n",
       "0                          -0.499631             -0.499631  \n",
       "1                           0.081768              0.081768  \n",
       "2                           0.628967              0.628967  \n",
       "3                          -0.009432             -0.009432  \n",
       "4                           0.024768              0.024768  \n",
       "\n",
       "[5 rows x 95 columns]"
      ]
     },
     "execution_count": 7,
     "metadata": {},
     "output_type": "execute_result"
    }
   ],
   "source": [
    "X_test.head()"
   ]
  },
  {
   "cell_type": "code",
   "execution_count": 8,
   "metadata": {},
   "outputs": [
    {
     "data": {
      "text/html": [
       "<div>\n",
       "<style scoped>\n",
       "    .dataframe tbody tr th:only-of-type {\n",
       "        vertical-align: middle;\n",
       "    }\n",
       "\n",
       "    .dataframe tbody tr th {\n",
       "        vertical-align: top;\n",
       "    }\n",
       "\n",
       "    .dataframe thead th {\n",
       "        text-align: right;\n",
       "    }\n",
       "</style>\n",
       "<table border=\"1\" class=\"dataframe\">\n",
       "  <thead>\n",
       "    <tr style=\"text-align: right;\">\n",
       "      <th></th>\n",
       "      <th>PotentialFraud</th>\n",
       "    </tr>\n",
       "  </thead>\n",
       "  <tbody>\n",
       "    <tr>\n",
       "      <th>0</th>\n",
       "      <td>1</td>\n",
       "    </tr>\n",
       "    <tr>\n",
       "      <th>1</th>\n",
       "      <td>1</td>\n",
       "    </tr>\n",
       "    <tr>\n",
       "      <th>2</th>\n",
       "      <td>0</td>\n",
       "    </tr>\n",
       "    <tr>\n",
       "      <th>3</th>\n",
       "      <td>0</td>\n",
       "    </tr>\n",
       "    <tr>\n",
       "      <th>4</th>\n",
       "      <td>1</td>\n",
       "    </tr>\n",
       "  </tbody>\n",
       "</table>\n",
       "</div>"
      ],
      "text/plain": [
       "   PotentialFraud\n",
       "0               1\n",
       "1               1\n",
       "2               0\n",
       "3               0\n",
       "4               1"
      ]
     },
     "execution_count": 8,
     "metadata": {},
     "output_type": "execute_result"
    }
   ],
   "source": [
    "y_test.head()"
   ]
  },
  {
   "cell_type": "code",
   "execution_count": 9,
   "metadata": {},
   "outputs": [],
   "source": [
    "y_train = y_train.values.ravel()"
   ]
  },
  {
   "cell_type": "markdown",
   "metadata": {},
   "source": [
    "## Build Different ML models and Evaluation"
   ]
  },
  {
   "cell_type": "markdown",
   "metadata": {},
   "source": [
    "## Logistic Regression"
   ]
  },
  {
   "cell_type": "code",
   "execution_count": 10,
   "metadata": {},
   "outputs": [
    {
     "name": "stdout",
     "output_type": "stream",
     "text": [
      "classification_report:\n",
      "               precision    recall  f1-score   support\n",
      "\n",
      "           1       0.71      0.45      0.55       123\n",
      "           0       0.84      0.94      0.89       386\n",
      "\n",
      "    accuracy                           0.82       509\n",
      "   macro avg       0.78      0.70      0.72       509\n",
      "weighted avg       0.81      0.82      0.81       509\n",
      "\n",
      "The ROC AUC score: 0.6950798264459329\n"
     ]
    }
   ],
   "source": [
    "from sklearn.linear_model import LogisticRegression\n",
    "lr = LogisticRegression(solver = 'liblinear', random_state = 42) \n",
    "# Changed the solver from 'lbfgs' to 'liblinear' and the error message \"Str object has no attribute decode\" solved.\n",
    "lr.fit(X_train, y_train)\n",
    "\n",
    "# Let us apply this to test set\n",
    "y_predict = lr.predict(X_test)\n",
    "\n",
    "from sklearn.metrics import confusion_matrix, classification_report, roc_auc_score\n",
    "print(\"classification_report:\\n\", classification_report(y_test, y_predict, labels = [1, 0]))\n",
    "print(\"The ROC AUC score:\", roc_auc_score(y_test, y_predict))"
   ]
  },
  {
   "cell_type": "markdown",
   "metadata": {},
   "source": [
    "**The precision, recall, f1-score, accuracy remains same if we take mean() or sum() for numerical value in groupby.**"
   ]
  },
  {
   "cell_type": "markdown",
   "metadata": {},
   "source": [
    "## Decision Tree"
   ]
  },
  {
   "cell_type": "code",
   "execution_count": 11,
   "metadata": {},
   "outputs": [
    {
     "name": "stdout",
     "output_type": "stream",
     "text": [
      "classification_report:\n",
      "               precision    recall  f1-score   support\n",
      "\n",
      "           1       0.51      0.51      0.51       123\n",
      "           0       0.84      0.84      0.84       386\n",
      "\n",
      "    accuracy                           0.76       509\n",
      "   macro avg       0.68      0.68      0.68       509\n",
      "weighted avg       0.76      0.76      0.76       509\n",
      "\n",
      "The ROC AUC score: 0.6783773537217237\n"
     ]
    }
   ],
   "source": [
    "from sklearn.tree import DecisionTreeClassifier\n",
    "dtc = DecisionTreeClassifier(random_state = 42) \n",
    "dtc.fit(X_train, y_train)\n",
    "y_predict_dtc = dtc.predict(X_test)\n",
    "\n",
    "\n",
    "print(\"classification_report:\\n\", classification_report(y_test, y_predict_dtc, labels = [1, 0]))\n",
    "print(\"The ROC AUC score:\", roc_auc_score(y_test, y_predict_dtc))"
   ]
  },
  {
   "cell_type": "markdown",
   "metadata": {},
   "source": [
    "## Random Forest Classifier"
   ]
  },
  {
   "cell_type": "code",
   "execution_count": 12,
   "metadata": {},
   "outputs": [
    {
     "name": "stdout",
     "output_type": "stream",
     "text": [
      "classification_report:\n",
      "               precision    recall  f1-score   support\n",
      "\n",
      "           1       0.65      0.37      0.47       123\n",
      "           0       0.82      0.94      0.88       386\n",
      "\n",
      "    accuracy                           0.80       509\n",
      "   macro avg       0.74      0.65      0.67       509\n",
      "weighted avg       0.78      0.80      0.78       509\n",
      "\n",
      "The ROC AUC score: 0.6518387463667382\n"
     ]
    }
   ],
   "source": [
    "# Random forest classifier\n",
    "from sklearn.ensemble import RandomForestClassifier\n",
    "RFC = RandomForestClassifier(random_state = 42)\n",
    "RFC.fit(X_train, y_train)\n",
    "y_predict_RFC = RFC.predict(X_test)\n",
    "\n",
    "print(\"classification_report:\\n\", classification_report(y_test, y_predict_RFC, labels = [1, 0]))\n",
    "print(\"The ROC AUC score:\", roc_auc_score(y_test, y_predict_RFC))"
   ]
  },
  {
   "cell_type": "markdown",
   "metadata": {},
   "source": [
    "## Gradient Boosting Classifier"
   ]
  },
  {
   "cell_type": "code",
   "execution_count": 13,
   "metadata": {},
   "outputs": [
    {
     "name": "stdout",
     "output_type": "stream",
     "text": [
      "classification_report:\n",
      "               precision    recall  f1-score   support\n",
      "\n",
      "           1       0.72      0.47      0.57       123\n",
      "           0       0.85      0.94      0.89       386\n",
      "\n",
      "    accuracy                           0.83       509\n",
      "   macro avg       0.78      0.71      0.73       509\n",
      "weighted avg       0.82      0.83      0.81       509\n",
      "\n",
      "The ROC AUC score: 0.7059796116095877\n"
     ]
    }
   ],
   "source": [
    "from sklearn.ensemble import GradientBoostingClassifier\n",
    "gbc = GradientBoostingClassifier(random_state = 42)\n",
    "gbc.fit(X_train, y_train)\n",
    "y_predict_gbc = gbc.predict(X_test)\n",
    "\n",
    "print(\"classification_report:\\n\", classification_report(y_test, y_predict_gbc, labels = [1, 0]))\n",
    "print(\"The ROC AUC score:\", roc_auc_score(y_test, y_predict_gbc))"
   ]
  },
  {
   "cell_type": "markdown",
   "metadata": {},
   "source": [
    "## Support Vector Machine"
   ]
  },
  {
   "cell_type": "code",
   "execution_count": 14,
   "metadata": {},
   "outputs": [
    {
     "name": "stdout",
     "output_type": "stream",
     "text": [
      "classification_report:\n",
      "               precision    recall  f1-score   support\n",
      "\n",
      "           1       0.71      0.41      0.52       123\n",
      "           0       0.83      0.95      0.89       386\n",
      "\n",
      "    accuracy                           0.82       509\n",
      "   macro avg       0.77      0.68      0.70       509\n",
      "weighted avg       0.80      0.82      0.80       509\n",
      "\n",
      "The ROC AUC score: 0.6773452967690299\n"
     ]
    }
   ],
   "source": [
    "from sklearn.svm import SVC\n",
    "svc = SVC(random_state = 42)\n",
    "svc.fit(X_train, y_train)\n",
    "y_predict_svc = svc.predict(X_test)\n",
    "\n",
    "print(\"classification_report:\\n\", classification_report(y_test, y_predict_svc, labels = [1, 0]))\n",
    "print(\"The ROC AUC score:\", roc_auc_score(y_test, y_predict_svc))"
   ]
  },
  {
   "cell_type": "markdown",
   "metadata": {},
   "source": [
    "# Apply SMORT to handle the imbalance in the data"
   ]
  },
  {
   "cell_type": "code",
   "execution_count": 15,
   "metadata": {},
   "outputs": [
    {
     "name": "stdout",
     "output_type": "stream",
     "text": [
      "Counter({0: 912, 1: 273})\n",
      "Counter({1: 912, 0: 912})\n"
     ]
    }
   ],
   "source": [
    "import imblearn\n",
    "from collections import Counter\n",
    "from imblearn.over_sampling import SMOTE\n",
    "\n",
    "counter = Counter(y_train)\n",
    "print(counter)\n",
    "oversample = SMOTE()\n",
    "X_train, y_train = oversample.fit_resample(X_train, y_train)\n",
    "counter = Counter(y_train)\n",
    "print(counter)"
   ]
  },
  {
   "cell_type": "markdown",
   "metadata": {},
   "source": [
    "**Applying SMORT Transformed data, again train different ML models and evaluate:**  "
   ]
  },
  {
   "cell_type": "code",
   "execution_count": 16,
   "metadata": {},
   "outputs": [
    {
     "name": "stdout",
     "output_type": "stream",
     "text": [
      "Classification_report from Logistic regression:\n",
      "               precision    recall  f1-score   support\n",
      "\n",
      "           1       0.53      0.68      0.60       123\n",
      "           0       0.89      0.81      0.85       386\n",
      "\n",
      "    accuracy                           0.78       509\n",
      "   macro avg       0.71      0.74      0.72       509\n",
      "weighted avg       0.80      0.78      0.78       509\n",
      "\n",
      "The ROC AUC score from Logistic regression: 0.7443131555667889\n",
      "\n",
      "\n",
      "Classification_report from Decision Tree Clasiifier:\n",
      "               precision    recall  f1-score   support\n",
      "\n",
      "           1       0.55      0.51      0.53       123\n",
      "           0       0.85      0.87      0.86       386\n",
      "\n",
      "    accuracy                           0.78       509\n",
      "   macro avg       0.70      0.69      0.69       509\n",
      "weighted avg       0.78      0.78      0.78       509\n",
      "\n",
      "The ROC AUC score from Decision Tree Clasiifier: 0.6887400480222419\n",
      "\n",
      "\n",
      "Classification_report from Random Forest Classifier:\n",
      "               precision    recall  f1-score   support\n",
      "\n",
      "           1       0.57      0.53      0.55       123\n",
      "           0       0.85      0.87      0.86       386\n",
      "\n",
      "    accuracy                           0.79       509\n",
      "   macro avg       0.71      0.70      0.70       509\n",
      "weighted avg       0.78      0.79      0.79       509\n",
      "\n",
      "The ROC AUC score from Random Forest Classifier: 0.6994608028981844\n",
      "\n",
      "\n",
      "classification_report from Gradient Boosting Classifier:\n",
      "               precision    recall  f1-score   support\n",
      "\n",
      "           1       0.72      0.47      0.57       123\n",
      "           0       0.85      0.94      0.89       386\n",
      "\n",
      "    accuracy                           0.83       509\n",
      "   macro avg       0.78      0.71      0.73       509\n",
      "weighted avg       0.82      0.83      0.81       509\n",
      "\n",
      "The ROC AUC score from Gradient Boosting Classifier: 0.7059796116095877\n",
      "\n",
      "\n",
      "classification_report from Supportt Vector Classifier:\n",
      "               precision    recall  f1-score   support\n",
      "\n",
      "           1       0.71      0.41      0.52       123\n",
      "           0       0.83      0.95      0.89       386\n",
      "\n",
      "    accuracy                           0.82       509\n",
      "   macro avg       0.77      0.68      0.70       509\n",
      "weighted avg       0.80      0.82      0.80       509\n",
      "\n",
      "The ROC AUC score from Supportt Vector Classifier: 0.6773452967690299\n"
     ]
    }
   ],
   "source": [
    "# Logistic regression\n",
    "lr2 = LogisticRegression(solver = 'liblinear', random_state = 42) \n",
    "lr2.fit(X_train, y_train)\n",
    "y_predict_lr2 = lr2.predict(X_test)\n",
    "print(\"Classification_report from Logistic regression:\\n\", classification_report(y_test, y_predict_lr2, labels = [1, 0]))\n",
    "print(\"The ROC AUC score from Logistic regression:\", roc_auc_score(y_test, y_predict_lr2))\n",
    "print(\"\\n\")\n",
    "\n",
    "# Decision Tree\n",
    "dtc2 = DecisionTreeClassifier(random_state = 42) \n",
    "dtc2.fit(X_train, y_train)\n",
    "y_predict_dtc2 = dtc2.predict(X_test)\n",
    "print(\"Classification_report from Decision Tree Clasiifier:\\n\", classification_report(y_test, y_predict_dtc2, labels = [1, 0]))\n",
    "print(\"The ROC AUC score from Decision Tree Clasiifier:\", roc_auc_score(y_test, y_predict_dtc2))\n",
    "print(\"\\n\")\n",
    "\n",
    "# Random forest classifier\n",
    "RFC2 = RandomForestClassifier(random_state = 42)\n",
    "RFC2.fit(X_train, y_train)\n",
    "y_predict_RFC2 = RFC2.predict(X_test)\n",
    "print(\"Classification_report from Random Forest Classifier:\\n\", classification_report(y_test, y_predict_RFC2, labels = [1, 0]))\n",
    "print(\"The ROC AUC score from Random Forest Classifier:\", roc_auc_score(y_test, y_predict_RFC2))\n",
    "print(\"\\n\")\n",
    "\n",
    "# Gradient Boosting\n",
    "gbc2 = GradientBoostingClassifier()\n",
    "gbc2.fit(X_train, y_train)\n",
    "y_predict_gbc2 = gbc.predict(X_test)\n",
    "print(\"classification_report from Gradient Boosting Classifier:\\n\", classification_report(y_test, y_predict_gbc2, labels = [1, 0]))\n",
    "print(\"The ROC AUC score from Gradient Boosting Classifier:\", roc_auc_score(y_test, y_predict_gbc2))\n",
    "print(\"\\n\")\n",
    "\n",
    "# Support Vector Machine\n",
    "svc2 = SVC(random_state = 42)\n",
    "svc2.fit(X_train, y_train)\n",
    "y_predict_svc2 = svc.predict(X_test)\n",
    "print(\"classification_report from Supportt Vector Classifier:\\n\", classification_report(y_test, y_predict_svc2, labels = [1, 0]))\n",
    "print(\"The ROC AUC score from Supportt Vector Classifier:\", roc_auc_score(y_test, y_predict_svc2))"
   ]
  },
  {
   "cell_type": "markdown",
   "metadata": {},
   "source": [
    "**After applying the SMORT on the data set, all the ML models performance increased, and among all, the Logistic regression performance was maximum with roc_auc_score: 0.75.** "
   ]
  },
  {
   "cell_type": "markdown",
   "metadata": {},
   "source": [
    "# Apply GridsearchCV and RandomSearchCV on Logistic Regression"
   ]
  },
  {
   "cell_type": "code",
   "execution_count": 17,
   "metadata": {},
   "outputs": [
    {
     "name": "stdout",
     "output_type": "stream",
     "text": [
      "Best parameters from GridSearchCV on Logistic Regression: {'C': 0.01, 'max_iter': 100, 'penalty': 'l2', 'solver': 'liblinear'}\n",
      "Best Score from Grid Search CV on:  0.8968107975530932\n",
      "Classification_report from best Logistic regression model obtained from GridSeachCV:\n",
      "               precision    recall  f1-score   support\n",
      "\n",
      "           1       0.57      0.71      0.63       123\n",
      "           0       0.90      0.83      0.86       386\n",
      "\n",
      "    accuracy                           0.80       509\n",
      "   macro avg       0.73      0.77      0.75       509\n",
      "weighted avg       0.82      0.80      0.81       509\n",
      "\n",
      "The ROC AUC score from best Logistic regression model obtained from GridSeachCV: 0.7681663086060913\n"
     ]
    }
   ],
   "source": [
    "from sklearn.model_selection import GridSearchCV\n",
    "\n",
    "parameters = {'penalty': ['l1', 'l2'],\n",
    "             'C': [0.001, 0.01, 0.1, 1.0, 10],\n",
    "             'solver': ['liblinear'],\n",
    "              'max_iter':[100, 200] \n",
    "             }\n",
    "lr3 = LogisticRegression(random_state = 42)\n",
    "gsc_lr3 = GridSearchCV(lr3, param_grid = parameters, scoring = {'f1_score': 'f1', 'roc_auc_score': 'roc_auc'}, refit = 'roc_auc_score', cv = 3, n_jobs = -1)\n",
    "# To use two evaluation scoring metrics, I need some help, I got some answer, but not satisfied\n",
    "#gsc_lr3 = GridSearchCV(lr3, param_grid = parameters, scoring = {'f1_score': 'f1', 'roc_auc_score'= 'roc_auc'}, refit: 'roc_auc', cv = 3)\n",
    "gsc_lr3.fit(X_train, y_train)\n",
    "\n",
    "best_parameters = gsc_lr3.best_params_\n",
    "best_score = gsc_lr3.best_score_\n",
    "print(\"Best parameters from GridSearchCV on Logistic Regression:\", best_parameters)\n",
    "print(\"Best Score from Grid Search CV on: \", best_score)\n",
    "\n",
    "gsc_lr3_1 = LogisticRegression(solver = best_parameters['solver'], random_state = 42, C = best_parameters['C'], penalty = best_parameters['penalty'], max_iter = best_parameters['max_iter'])\n",
    "gsc_lr3_1.fit(X_train, y_train)\n",
    "y_predict_gsc_lr3_1 = gsc_lr3_1.predict(X_test)\n",
    "\n",
    "print(\"Classification_report from best Logistic regression model obtained from GridSeachCV:\\n\", classification_report(y_test, y_predict_gsc_lr3_1, labels = [1, 0]))\n",
    "print(\"The ROC AUC score from best Logistic regression model obtained from GridSeachCV:\", roc_auc_score(y_test, y_predict_gsc_lr3_1))"
   ]
  },
  {
   "cell_type": "code",
   "execution_count": 18,
   "metadata": {},
   "outputs": [
    {
     "name": "stdout",
     "output_type": "stream",
     "text": [
      "Best parameters from RandomizedSearchCV on Logistic Regression: {'solver': 'liblinear', 'penalty': 'l1', 'max_iter': 50.0, 'C': 2.223}\n",
      "Best Score from RandomizedSearchCV on:  0.8927278060317152\n",
      "classification_report:\n",
      "               precision    recall  f1-score   support\n",
      "\n",
      "           1       0.53      0.68      0.60       123\n",
      "           0       0.89      0.81      0.85       386\n",
      "\n",
      "    accuracy                           0.78       509\n",
      "   macro avg       0.71      0.75      0.72       509\n",
      "weighted avg       0.80      0.78      0.79       509\n",
      "\n",
      "The ROC AUC score: 0.7456084923543537\n"
     ]
    }
   ],
   "source": [
    "# Apply Randomized search on Logistic Regression\n",
    "from sklearn.model_selection import RandomizedSearchCV\n",
    "lr4 = LogisticRegression(solver = 'liblinear', random_state = 42)\n",
    "\n",
    "parameters = {'penalty': ['l1', 'l2'],\n",
    "             'C': np.linspace(0.001, 10, 10),\n",
    "             'solver': ['liblinear'],\n",
    "              'max_iter':np.linspace(50, 200, 3)}\n",
    "rsc_lr4 = RandomizedSearchCV(lr4, param_distributions = parameters, scoring = 'roc_auc', random_state = 42, n_jobs = -1)\n",
    "rsc_lr4.fit(X_train, y_train)\n",
    "\n",
    "\n",
    "best_parameters = rsc_lr4.best_params_\n",
    "best_score = rsc_lr4.best_score_\n",
    "\n",
    "print(\"Best parameters from RandomizedSearchCV on Logistic Regression:\", best_parameters)\n",
    "print(\"Best Score from RandomizedSearchCV on: \", best_score)\n",
    "\n",
    "rsc_lr4_1 = LogisticRegression(solver = best_parameters['solver'], random_state = 42, C = best_parameters['C'], penalty = best_parameters['penalty'], max_iter = best_parameters['max_iter'])\n",
    "rsc_lr4_1.fit(X_train, y_train)\n",
    "y_predict_rsc_lr4_1 = rsc_lr4_1.predict(X_test)\n",
    "\n",
    "print(\"classification_report:\\n\", classification_report(y_test, y_predict_rsc_lr4_1, labels = [1, 0]))\n",
    "print(\"The ROC AUC score:\", roc_auc_score(y_test, y_predict_rsc_lr4_1))"
   ]
  },
  {
   "cell_type": "markdown",
   "metadata": {},
   "source": [
    "**With application of GridSearchCV and RandomSearchCV, we obtained the maximum roc_auc score of 0.769.**   "
   ]
  },
  {
   "cell_type": "markdown",
   "metadata": {},
   "source": [
    "# Select Best K features and train model again with diffrent number of features values"
   ]
  },
  {
   "cell_type": "code",
   "execution_count": 19,
   "metadata": {},
   "outputs": [
    {
     "name": "stdout",
     "output_type": "stream",
     "text": [
      "(1824, 90)\n",
      "[ True False  True  True  True  True  True  True  True  True  True  True\n",
      "  True  True  True  True  True  True  True  True  True  True  True  True\n",
      "  True  True  True False False False  True  True  True  True  True  True\n",
      "  True  True  True  True  True  True  True  True  True  True  True  True\n",
      "  True  True  True  True  True  True  True  True  True  True  True  True\n",
      "  True  True  True  True  True  True  True  True  True  True False  True\n",
      "  True  True  True  True  True  True  True  True  True  True  True  True\n",
      "  True  True  True  True  True  True  True  True  True  True  True]\n",
      "Index(['InscClaimAmtReimbursed_x', 'DeductibleAmtPaid_x',\n",
      "       'InpatientClaimPeriod', 'DurationInHospital', 'NoOfMonths_PartACov_x',\n",
      "       'NoOfMonths_PartBCov_x', 'IPAnnualReimbursementAmt_x',\n",
      "       'IPAnnualDeductibleAmt_x', 'OPAnnualReimbursementAmt_x',\n",
      "       'OPAnnualDeductibleAmt_x', 'AttendingPhysician_x',\n",
      "       'OperatingPhysician_x', 'OtherPhysician_x', 'DiagnosisGroupCode',\n",
      "       'ClmDiagnosisCode_1_x', 'ClmDiagnosisCode_2_x', 'ClmDiagnosisCode_3_x',\n",
      "       'ClmDiagnosisCode_4_x', 'ClmDiagnosisCode_5_x', 'ClmDiagnosisCode_6_x',\n",
      "       'ClmDiagnosisCode_7_x', 'ClmDiagnosisCode_8_x', 'ClmDiagnosisCode_9_x',\n",
      "       'ClmDiagnosisCode_10_x', 'ClmProcedureCode_1_x', 'ClmProcedureCode_2_x',\n",
      "       'ClmProcedureCode_3_x', 'ClmProcedureCode_4_x', 'ClmProcedureCode_5_x',\n",
      "       'ClmProcedureCode_6_x', 'BeneID_x', 'ClaimID_x', 'Gender_x', 'Race_x',\n",
      "       'RenalDiseaseIndicator_x', 'State_x', 'County_x',\n",
      "       'ChronicCond_Alzheimer_x', 'ChronicCond_Heartfailure_x',\n",
      "       'ChronicCond_KidneyDisease_x', 'ChronicCond_Cancer_x',\n",
      "       'ChronicCond_ObstrPulmonary_x', 'ChronicCond_Depression_x',\n",
      "       'ChronicCond_Diabetes_x', 'ChronicCond_IschemicHeart_x',\n",
      "       'ChronicCond_Osteoporasis_x', 'ChronicCond_rheumatoidarthritis_x',\n",
      "       'ChronicCond_stroke_x', 'InscClaimAmtReimbursed_y',\n",
      "       'DeductibleAmtPaid_y', 'OutpatientClaimPeriod', 'NoOfMonths_PartACov_y',\n",
      "       'NoOfMonths_PartBCov_y', 'IPAnnualReimbursementAmt_y',\n",
      "       'IPAnnualDeductibleAmt_y', 'OPAnnualReimbursementAmt_y',\n",
      "       'OPAnnualDeductibleAmt_y', 'AttendingPhysician_y',\n",
      "       'OperatingPhysician_y', 'OtherPhysician_y', 'ClmDiagnosisCode_1_y',\n",
      "       'ClmDiagnosisCode_2_y', 'ClmDiagnosisCode_3_y', 'ClmDiagnosisCode_4_y',\n",
      "       'ClmDiagnosisCode_5_y', 'ClmDiagnosisCode_6_y', 'ClmDiagnosisCode_7_y',\n",
      "       'ClmDiagnosisCode_8_y', 'ClmDiagnosisCode_9_y', 'ClmDiagnosisCode_10_y',\n",
      "       'ClmProcedureCode_1_y', 'ClmProcedureCode_2_y', 'ClmProcedureCode_3_y',\n",
      "       'ClmProcedureCode_4_y', 'ClmProcedureCode_5_y', 'ClmProcedureCode_6_y',\n",
      "       'OutpatientClaimPeriod.1', 'BeneID_y', 'ClaimID_y', 'Gender_y',\n",
      "       'Race_y', 'RenalDiseaseIndicator_y', 'State_y', 'County_y',\n",
      "       'ChronicCond_Alzheimer_y', 'ChronicCond_Heartfailure_y',\n",
      "       'ChronicCond_KidneyDisease_y', 'ChronicCond_Cancer_y',\n",
      "       'ChronicCond_ObstrPulmonary_y', 'ChronicCond_Depression_y',\n",
      "       'ChronicCond_Diabetes_y', 'ChronicCond_IschemicHeart_y',\n",
      "       'ChronicCond_Osteoporasis_y', 'ChronicCond_rheumatoidarthritis_y',\n",
      "       'ChronicCond_stroke_y'],\n",
      "      dtype='object')\n",
      "List of 3 most influential features on the target (high to low): ['InscClaimAmtReimbursed_x', 'InpatientClaimPeriod', 'DurationInHospital', 'NoOfMonths_PartACov_x', 'NoOfMonths_PartBCov_x', 'IPAnnualReimbursementAmt_x', 'IPAnnualDeductibleAmt_x', 'OPAnnualReimbursementAmt_x', 'OPAnnualDeductibleAmt_x', 'AttendingPhysician_x', 'OperatingPhysician_x', 'OtherPhysician_x', 'DiagnosisGroupCode', 'ClmDiagnosisCode_1_x', 'ClmDiagnosisCode_2_x', 'ClmDiagnosisCode_3_x', 'ClmDiagnosisCode_4_x', 'ClmDiagnosisCode_5_x', 'ClmDiagnosisCode_6_x', 'ClmDiagnosisCode_7_x', 'ClmDiagnosisCode_8_x', 'ClmDiagnosisCode_9_x', 'ClmDiagnosisCode_10_x', 'ClmProcedureCode_1_x', 'ClmProcedureCode_2_x', 'ClmProcedureCode_3_x', 'BeneID_x', 'ClaimID_x', 'Gender_x', 'Race_x', 'RenalDiseaseIndicator_x', 'State_x', 'County_x', 'ChronicCond_Alzheimer_x', 'ChronicCond_Heartfailure_x', 'ChronicCond_KidneyDisease_x', 'ChronicCond_Cancer_x', 'ChronicCond_ObstrPulmonary_x', 'ChronicCond_Depression_x', 'ChronicCond_Diabetes_x', 'ChronicCond_IschemicHeart_x', 'ChronicCond_Osteoporasis_x', 'ChronicCond_rheumatoidarthritis_x', 'ChronicCond_stroke_x', 'InscClaimAmtReimbursed_y', 'DeductibleAmtPaid_y', 'OutpatientClaimPeriod', 'NoOfMonths_PartACov_y', 'NoOfMonths_PartBCov_y', 'IPAnnualReimbursementAmt_y', 'IPAnnualDeductibleAmt_y', 'OPAnnualReimbursementAmt_y', 'OPAnnualDeductibleAmt_y', 'AttendingPhysician_y', 'OperatingPhysician_y', 'OtherPhysician_y', 'ClmDiagnosisCode_1_y', 'ClmDiagnosisCode_2_y', 'ClmDiagnosisCode_3_y', 'ClmDiagnosisCode_4_y', 'ClmDiagnosisCode_5_y', 'ClmDiagnosisCode_6_y', 'ClmDiagnosisCode_7_y', 'ClmDiagnosisCode_8_y', 'ClmDiagnosisCode_9_y', 'ClmDiagnosisCode_10_y', 'ClmProcedureCode_2_y', 'ClmProcedureCode_3_y', 'ClmProcedureCode_4_y', 'ClmProcedureCode_5_y', 'ClmProcedureCode_6_y', 'OutpatientClaimPeriod.1', 'BeneID_y', 'ClaimID_y', 'Gender_y', 'Race_y', 'RenalDiseaseIndicator_y', 'State_y', 'County_y', 'ChronicCond_Alzheimer_y', 'ChronicCond_Heartfailure_y', 'ChronicCond_KidneyDisease_y', 'ChronicCond_Cancer_y', 'ChronicCond_ObstrPulmonary_y', 'ChronicCond_Depression_y', 'ChronicCond_Diabetes_y', 'ChronicCond_IschemicHeart_y', 'ChronicCond_Osteoporasis_y', 'ChronicCond_rheumatoidarthritis_y', 'ChronicCond_stroke_y']\n"
     ]
    },
    {
     "name": "stderr",
     "output_type": "stream",
     "text": [
      "C:\\Users\\user\\Anaconda3\\lib\\site-packages\\sklearn\\feature_selection\\_univariate_selection.py:112: UserWarning: Features [ 1 27 28 29 70 71 72 73 74 75] are constant.\n",
      "  warnings.warn(\"Features %s are constant.\" % constant_features_idx, UserWarning)\n",
      "C:\\Users\\user\\Anaconda3\\lib\\site-packages\\sklearn\\feature_selection\\_univariate_selection.py:113: RuntimeWarning: invalid value encountered in true_divide\n",
      "  f = msb / msw\n"
     ]
    }
   ],
   "source": [
    "# let us try for one k, i.e k = 90\n",
    "from sklearn.feature_selection import SelectKBest, f_classif, chi2\n",
    "features_selector = SelectKBest(score_func = f_classif, k = 90)\n",
    "ordered = features_selector.fit_transform(X_train, y_train)\n",
    "print(ordered.shape)\n",
    "a = features_selector.get_support()\n",
    "print(a)\n",
    "features = X_train.columns\n",
    "print(features)\n",
    "b = features[a].tolist()\n",
    "print('List of 3 most influential features on the target (high to low):', b)"
   ]
  },
  {
   "cell_type": "code",
   "execution_count": 20,
   "metadata": {},
   "outputs": [
    {
     "name": "stdout",
     "output_type": "stream",
     "text": [
      "Best parameters from GridSearchCV on Logistic Regression: {'C': 0.01, 'max_iter': 100, 'penalty': 'l2', 'solver': 'liblinear'}\n",
      "Best Score from Grid Search CV on:  0.8968107975530932\n",
      "classification_report:\n",
      "               precision    recall  f1-score   support\n",
      "\n",
      "           1       0.57      0.71      0.63       123\n",
      "           0       0.90      0.83      0.86       386\n",
      "\n",
      "    accuracy                           0.80       509\n",
      "   macro avg       0.73      0.77      0.75       509\n",
      "weighted avg       0.82      0.80      0.81       509\n",
      "\n",
      "The ROC AUC score: 0.7681663086060913\n"
     ]
    }
   ],
   "source": [
    "# With 90 most important features, apply GridsearchCV on Logistic Regression\n",
    "lr5 = LogisticRegression(solver = 'liblinear', random_state = 42)\n",
    "\n",
    "parameters = {'penalty': ['l1', 'l2'],\n",
    "             'C': [0.001, 0.01, 0.1, 1.0, 10],\n",
    "             'solver': ['liblinear'],\n",
    "              'max_iter':[100, 200] \n",
    "             }\n",
    "gsc_lr5 = GridSearchCV(lr5, param_grid = parameters, scoring = {'f1_score': 'f1', 'roc_auc_score': 'roc_auc'}, refit = 'roc_auc_score', cv = 3, n_jobs = -1)\n",
    "gsc_lr5.fit(X_train[b], y_train)\n",
    "\n",
    "\n",
    "best_parameters = gsc_lr5.best_params_\n",
    "best_score = gsc_lr5.best_score_\n",
    "\n",
    "print(\"Best parameters from GridSearchCV on Logistic Regression:\", best_parameters)\n",
    "print(\"Best Score from Grid Search CV on: \", best_score)\n",
    "\n",
    "gsc_lr5_1 = LogisticRegression(solver = best_parameters['solver'], random_state = 42, C = best_parameters['C'], penalty = best_parameters['penalty'], max_iter = best_parameters['max_iter'])\n",
    "gsc_lr5_1.fit(X_train[b], y_train)\n",
    "\n",
    "y_predict_gsc_lr5_1 = gsc_lr5_1.predict(X_test[b])\n",
    "\n",
    "print(\"classification_report:\\n\", classification_report(y_test, y_predict_gsc_lr5_1, labels = [1, 0]))\n",
    "print(\"The ROC AUC score:\", roc_auc_score(y_test, y_predict_gsc_lr5_1))\n"
   ]
  },
  {
   "cell_type": "code",
   "execution_count": 21,
   "metadata": {},
   "outputs": [
    {
     "name": "stdout",
     "output_type": "stream",
     "text": [
      "Best parameters from GridSearchCV on Logistic Regression: {'solver': 'liblinear', 'penalty': 'l1', 'max_iter': 50.0, 'C': 2.223}\n",
      "Best Score from Grid Search CV on:  0.8927217021254131\n",
      "\n",
      "\n",
      "classification_report:\n",
      "               precision    recall  f1-score   support\n",
      "\n",
      "           1       0.54      0.68      0.60       123\n",
      "           0       0.89      0.81      0.85       386\n",
      "\n",
      "    accuracy                           0.78       509\n",
      "   macro avg       0.71      0.75      0.72       509\n",
      "weighted avg       0.80      0.78      0.79       509\n",
      "\n",
      "The ROC AUC score: 0.7469038291419184\n"
     ]
    }
   ],
   "source": [
    "# Apply Randomized search on Logistic Regression\n",
    "\n",
    "lr6 = LogisticRegression(solver = 'liblinear', random_state = 42)\n",
    "\n",
    "parameters = {'penalty': ['l1', 'l2'],\n",
    "             'C': np.linspace(0.001, 10, 10),\n",
    "             'solver': ['liblinear'],\n",
    "              'max_iter':np.linspace(50, 200, 3)}\n",
    "rsc_lr6 = RandomizedSearchCV(lr6, param_distributions = parameters, scoring = 'roc_auc', random_state = 42, n_jobs = -1)\n",
    "rsc_lr6.fit(X_train[b], y_train)\n",
    "\n",
    "\n",
    "best_parameters = rsc_lr6.best_params_\n",
    "best_score = rsc_lr6.best_score_\n",
    "\n",
    "print(\"Best parameters from GridSearchCV on Logistic Regression:\", best_parameters)\n",
    "print(\"Best Score from Grid Search CV on: \", best_score)\n",
    "print(\"\\n\")\n",
    "\n",
    "rsc_lr6_1 = LogisticRegression(solver = best_parameters['solver'], random_state = 42, C = best_parameters['C'], penalty = best_parameters['penalty'], max_iter = best_parameters['max_iter'])\n",
    "rsc_lr6_1.fit(X_train[b], y_train)\n",
    "y_predict_rsc_lr6_1 = rsc_lr6_1.predict(X_test[b])\n",
    "\n",
    "print(\"classification_report:\\n\", classification_report(y_test, y_predict_rsc_lr6_1, labels = [1, 0]))\n",
    "print(\"The ROC AUC score:\", roc_auc_score(y_test, y_predict_rsc_lr6_1))"
   ]
  },
  {
   "cell_type": "code",
   "execution_count": 22,
   "metadata": {},
   "outputs": [],
   "source": [
    "# Write a function to carry out the SelectKBest, Logistic regression, GridSearchCV\n",
    "def Best_features_LogisticRegression(X_tr, y_tr, X_te, y_te, K):\n",
    "    for k in K:\n",
    "        features_selector = SelectKBest(score_func = f_classif, k = k)\n",
    "        ordered = features_selector.fit_transform(X_tr, y_tr)\n",
    "        a = features_selector.get_support()\n",
    "        features = X_tr.columns\n",
    "        b = features[a].tolist()\n",
    "\n",
    "        lr7 = LogisticRegression(solver = 'liblinear', random_state = 42)\n",
    "        parameters = {'penalty': ['l1', 'l2'],\n",
    "             'C': [0.001, 0.01, 0.1, 1.0, 10],\n",
    "             'solver': ['liblinear'],\n",
    "              'max_iter':[100, 200]}\n",
    "        gbc_pipe = GridSearchCV(lr7, param_grid = parameters, scoring = {'f1_score': 'f1', 'roc_auc_score': 'roc_auc'}, refit = 'roc_auc_score', cv = 3, n_jobs = -1)      \n",
    "        gbc_pipe.fit(X_tr[b], y_tr)\n",
    "        best_parameters = gbc_pipe.best_params_\n",
    "        best_score = gbc_pipe.best_score_\n",
    "\n",
    "        print(\"K = \", k)\n",
    "        print(\"Best parameters from GridSearchCV on Logistic Regression:\", best_parameters)\n",
    "        print(\"Best Score from Grid Search CV on: \", best_score)\n",
    "        print(\"\\n\")\n",
    "\n",
    "        rsc_lr7_1 = LogisticRegression(solver = best_parameters['solver'], random_state = 42, C = best_parameters['C'], penalty = best_parameters['penalty'], max_iter = best_parameters['max_iter'])\n",
    "        rsc_lr7_1.fit(X_tr[b], y_tr)\n",
    "        y_predict_rsc_lr7_1 = rsc_lr7_1.predict(X_te[b])\n",
    "\n",
    "        print(\"classification_report:\\n\", classification_report(y_te, y_predict_rsc_lr7_1, labels = [1, 0]))\n",
    "        print(\"The ROC AUC score:\", roc_auc_score(y_te, y_predict_rsc_lr7_1))\n",
    "    return print(\"End\")"
   ]
  },
  {
   "cell_type": "code",
   "execution_count": 23,
   "metadata": {},
   "outputs": [
    {
     "name": "stderr",
     "output_type": "stream",
     "text": [
      "C:\\Users\\user\\Anaconda3\\lib\\site-packages\\sklearn\\feature_selection\\_univariate_selection.py:112: UserWarning: Features [ 1 27 28 29 70 71 72 73 74 75] are constant.\n",
      "  warnings.warn(\"Features %s are constant.\" % constant_features_idx, UserWarning)\n",
      "C:\\Users\\user\\Anaconda3\\lib\\site-packages\\sklearn\\feature_selection\\_univariate_selection.py:113: RuntimeWarning: invalid value encountered in true_divide\n",
      "  f = msb / msw\n"
     ]
    },
    {
     "name": "stdout",
     "output_type": "stream",
     "text": [
      "K =  50\n",
      "Best parameters from GridSearchCV on Logistic Regression: {'C': 0.01, 'max_iter': 100, 'penalty': 'l2', 'solver': 'liblinear'}\n",
      "Best Score from Grid Search CV on:  0.8959198984302862\n",
      "\n",
      "\n",
      "classification_report:\n",
      "               precision    recall  f1-score   support\n",
      "\n",
      "           1       0.56      0.70      0.62       123\n",
      "           0       0.90      0.82      0.86       386\n",
      "\n",
      "    accuracy                           0.79       509\n",
      "   macro avg       0.73      0.76      0.74       509\n",
      "weighted avg       0.81      0.79      0.80       509\n",
      "\n",
      "The ROC AUC score: 0.7615105943805552\n"
     ]
    },
    {
     "name": "stderr",
     "output_type": "stream",
     "text": [
      "C:\\Users\\user\\Anaconda3\\lib\\site-packages\\sklearn\\feature_selection\\_univariate_selection.py:112: UserWarning: Features [ 1 27 28 29 70 71 72 73 74 75] are constant.\n",
      "  warnings.warn(\"Features %s are constant.\" % constant_features_idx, UserWarning)\n",
      "C:\\Users\\user\\Anaconda3\\lib\\site-packages\\sklearn\\feature_selection\\_univariate_selection.py:113: RuntimeWarning: invalid value encountered in true_divide\n",
      "  f = msb / msw\n"
     ]
    },
    {
     "name": "stdout",
     "output_type": "stream",
     "text": [
      "K =  60\n",
      "Best parameters from GridSearchCV on Logistic Regression: {'C': 0.01, 'max_iter': 100, 'penalty': 'l2', 'solver': 'liblinear'}\n",
      "Best Score from Grid Search CV on:  0.8955015004616804\n",
      "\n",
      "\n",
      "classification_report:\n",
      "               precision    recall  f1-score   support\n",
      "\n",
      "           1       0.56      0.69      0.62       123\n",
      "           0       0.89      0.83      0.86       386\n",
      "\n",
      "    accuracy                           0.80       509\n",
      "   macro avg       0.73      0.76      0.74       509\n",
      "weighted avg       0.81      0.80      0.80       509\n",
      "\n",
      "The ROC AUC score: 0.7600362273052782\n"
     ]
    },
    {
     "name": "stderr",
     "output_type": "stream",
     "text": [
      "C:\\Users\\user\\Anaconda3\\lib\\site-packages\\sklearn\\feature_selection\\_univariate_selection.py:112: UserWarning: Features [ 1 27 28 29 70 71 72 73 74 75] are constant.\n",
      "  warnings.warn(\"Features %s are constant.\" % constant_features_idx, UserWarning)\n",
      "C:\\Users\\user\\Anaconda3\\lib\\site-packages\\sklearn\\feature_selection\\_univariate_selection.py:113: RuntimeWarning: invalid value encountered in true_divide\n",
      "  f = msb / msw\n"
     ]
    },
    {
     "name": "stdout",
     "output_type": "stream",
     "text": [
      "K =  70\n",
      "Best parameters from GridSearchCV on Logistic Regression: {'C': 0.01, 'max_iter': 100, 'penalty': 'l2', 'solver': 'liblinear'}\n",
      "Best Score from Grid Search CV on:  0.8949893236380424\n",
      "\n",
      "\n",
      "classification_report:\n",
      "               precision    recall  f1-score   support\n",
      "\n",
      "           1       0.56      0.69      0.62       123\n",
      "           0       0.89      0.83      0.86       386\n",
      "\n",
      "    accuracy                           0.80       509\n",
      "   macro avg       0.73      0.76      0.74       509\n",
      "weighted avg       0.81      0.80      0.80       509\n",
      "\n",
      "The ROC AUC score: 0.7600362273052782\n"
     ]
    },
    {
     "name": "stderr",
     "output_type": "stream",
     "text": [
      "C:\\Users\\user\\Anaconda3\\lib\\site-packages\\sklearn\\feature_selection\\_univariate_selection.py:112: UserWarning: Features [ 1 27 28 29 70 71 72 73 74 75] are constant.\n",
      "  warnings.warn(\"Features %s are constant.\" % constant_features_idx, UserWarning)\n",
      "C:\\Users\\user\\Anaconda3\\lib\\site-packages\\sklearn\\feature_selection\\_univariate_selection.py:113: RuntimeWarning: invalid value encountered in true_divide\n",
      "  f = msb / msw\n"
     ]
    },
    {
     "name": "stdout",
     "output_type": "stream",
     "text": [
      "K =  75\n",
      "Best parameters from GridSearchCV on Logistic Regression: {'C': 0.01, 'max_iter': 100, 'penalty': 'l2', 'solver': 'liblinear'}\n",
      "Best Score from Grid Search CV on:  0.8950289993074793\n",
      "\n",
      "\n",
      "classification_report:\n",
      "               precision    recall  f1-score   support\n",
      "\n",
      "           1       0.57      0.68      0.62       123\n",
      "           0       0.89      0.83      0.86       386\n",
      "\n",
      "    accuracy                           0.80       509\n",
      "   macro avg       0.73      0.76      0.74       509\n",
      "weighted avg       0.81      0.80      0.80       509\n",
      "\n",
      "The ROC AUC score: 0.7585618602300013\n"
     ]
    },
    {
     "name": "stderr",
     "output_type": "stream",
     "text": [
      "C:\\Users\\user\\Anaconda3\\lib\\site-packages\\sklearn\\feature_selection\\_univariate_selection.py:112: UserWarning: Features [ 1 27 28 29 70 71 72 73 74 75] are constant.\n",
      "  warnings.warn(\"Features %s are constant.\" % constant_features_idx, UserWarning)\n",
      "C:\\Users\\user\\Anaconda3\\lib\\site-packages\\sklearn\\feature_selection\\_univariate_selection.py:113: RuntimeWarning: invalid value encountered in true_divide\n",
      "  f = msb / msw\n"
     ]
    },
    {
     "name": "stdout",
     "output_type": "stream",
     "text": [
      "K =  80\n",
      "Best parameters from GridSearchCV on Logistic Regression: {'C': 0.01, 'max_iter': 100, 'penalty': 'l2', 'solver': 'liblinear'}\n",
      "Best Score from Grid Search CV on:  0.8959523603416435\n",
      "\n",
      "\n",
      "classification_report:\n",
      "               precision    recall  f1-score   support\n",
      "\n",
      "           1       0.57      0.69      0.62       123\n",
      "           0       0.89      0.83      0.86       386\n",
      "\n",
      "    accuracy                           0.80       509\n",
      "   macro avg       0.73      0.76      0.74       509\n",
      "weighted avg       0.82      0.80      0.80       509\n",
      "\n",
      "The ROC AUC score: 0.761331564092843\n"
     ]
    },
    {
     "name": "stderr",
     "output_type": "stream",
     "text": [
      "C:\\Users\\user\\Anaconda3\\lib\\site-packages\\sklearn\\feature_selection\\_univariate_selection.py:112: UserWarning: Features [ 1 27 28 29 70 71 72 73 74 75] are constant.\n",
      "  warnings.warn(\"Features %s are constant.\" % constant_features_idx, UserWarning)\n",
      "C:\\Users\\user\\Anaconda3\\lib\\site-packages\\sklearn\\feature_selection\\_univariate_selection.py:113: RuntimeWarning: invalid value encountered in true_divide\n",
      "  f = msb / msw\n"
     ]
    },
    {
     "name": "stdout",
     "output_type": "stream",
     "text": [
      "K =  85\n",
      "Best parameters from GridSearchCV on Logistic Regression: {'C': 0.01, 'max_iter': 100, 'penalty': 'l2', 'solver': 'liblinear'}\n",
      "Best Score from Grid Search CV on:  0.8968107975530932\n",
      "\n",
      "\n",
      "classification_report:\n",
      "               precision    recall  f1-score   support\n",
      "\n",
      "           1       0.57      0.71      0.63       123\n",
      "           0       0.90      0.83      0.86       386\n",
      "\n",
      "    accuracy                           0.80       509\n",
      "   macro avg       0.73      0.77      0.75       509\n",
      "weighted avg       0.82      0.80      0.81       509\n",
      "\n",
      "The ROC AUC score: 0.7681663086060913\n"
     ]
    },
    {
     "name": "stderr",
     "output_type": "stream",
     "text": [
      "C:\\Users\\user\\Anaconda3\\lib\\site-packages\\sklearn\\feature_selection\\_univariate_selection.py:112: UserWarning: Features [ 1 27 28 29 70 71 72 73 74 75] are constant.\n",
      "  warnings.warn(\"Features %s are constant.\" % constant_features_idx, UserWarning)\n",
      "C:\\Users\\user\\Anaconda3\\lib\\site-packages\\sklearn\\feature_selection\\_univariate_selection.py:113: RuntimeWarning: invalid value encountered in true_divide\n",
      "  f = msb / msw\n"
     ]
    },
    {
     "name": "stdout",
     "output_type": "stream",
     "text": [
      "K =  90\n",
      "Best parameters from GridSearchCV on Logistic Regression: {'C': 0.01, 'max_iter': 100, 'penalty': 'l2', 'solver': 'liblinear'}\n",
      "Best Score from Grid Search CV on:  0.8968107975530932\n",
      "\n",
      "\n",
      "classification_report:\n",
      "               precision    recall  f1-score   support\n",
      "\n",
      "           1       0.57      0.71      0.63       123\n",
      "           0       0.90      0.83      0.86       386\n",
      "\n",
      "    accuracy                           0.80       509\n",
      "   macro avg       0.73      0.77      0.75       509\n",
      "weighted avg       0.82      0.80      0.81       509\n",
      "\n",
      "The ROC AUC score: 0.7681663086060913\n"
     ]
    },
    {
     "name": "stderr",
     "output_type": "stream",
     "text": [
      "C:\\Users\\user\\Anaconda3\\lib\\site-packages\\sklearn\\feature_selection\\_univariate_selection.py:112: UserWarning: Features [ 1 27 28 29 70 71 72 73 74 75] are constant.\n",
      "  warnings.warn(\"Features %s are constant.\" % constant_features_idx, UserWarning)\n",
      "C:\\Users\\user\\Anaconda3\\lib\\site-packages\\sklearn\\feature_selection\\_univariate_selection.py:113: RuntimeWarning: invalid value encountered in true_divide\n",
      "  f = msb / msw\n"
     ]
    },
    {
     "name": "stdout",
     "output_type": "stream",
     "text": [
      "K =  95\n",
      "Best parameters from GridSearchCV on Logistic Regression: {'C': 0.01, 'max_iter': 100, 'penalty': 'l2', 'solver': 'liblinear'}\n",
      "Best Score from Grid Search CV on:  0.8968107975530932\n",
      "\n",
      "\n",
      "classification_report:\n",
      "               precision    recall  f1-score   support\n",
      "\n",
      "           1       0.57      0.71      0.63       123\n",
      "           0       0.90      0.83      0.86       386\n",
      "\n",
      "    accuracy                           0.80       509\n",
      "   macro avg       0.73      0.77      0.75       509\n",
      "weighted avg       0.82      0.80      0.81       509\n",
      "\n",
      "The ROC AUC score: 0.7681663086060913\n",
      "End\n",
      "None\n"
     ]
    }
   ],
   "source": [
    "print(Best_features_LogisticRegression(X_train, y_train, X_test, y_test, [50, 60, 70, 75, 80, 85, 90, 95]))"
   ]
  },
  {
   "cell_type": "markdown",
   "metadata": {},
   "source": [
    "**Among all the features, the best roc_auc_score obtained with k = 70.**"
   ]
  },
  {
   "cell_type": "markdown",
   "metadata": {},
   "source": [
    "Now let us see applying the above features to Random Forest Classifier and  Gradient Boosting Classifier. "
   ]
  },
  {
   "cell_type": "code",
   "execution_count": 24,
   "metadata": {},
   "outputs": [
    {
     "name": "stderr",
     "output_type": "stream",
     "text": [
      "C:\\Users\\user\\Anaconda3\\lib\\site-packages\\sklearn\\feature_selection\\_univariate_selection.py:112: UserWarning: Features [ 1 27 28 29 70 71 72 73 74 75] are constant.\n",
      "  warnings.warn(\"Features %s are constant.\" % constant_features_idx, UserWarning)\n",
      "C:\\Users\\user\\Anaconda3\\lib\\site-packages\\sklearn\\feature_selection\\_univariate_selection.py:113: RuntimeWarning: invalid value encountered in true_divide\n",
      "  f = msb / msw\n"
     ]
    },
    {
     "name": "stdout",
     "output_type": "stream",
     "text": [
      "classification_report:\n",
      "               precision    recall  f1-score   support\n",
      "\n",
      "           1       0.59      0.58      0.58       123\n",
      "           0       0.87      0.87      0.87       386\n",
      "\n",
      "    accuracy                           0.80       509\n",
      "   macro avg       0.73      0.73      0.73       509\n",
      "weighted avg       0.80      0.80      0.80       509\n",
      "\n",
      "The ROC AUC score: 0.7251463835881882\n"
     ]
    }
   ],
   "source": [
    "features_selector = SelectKBest(score_func = f_classif, k = 70)\n",
    "ordered = features_selector.fit_transform(X_train, y_train)\n",
    "#print(ordered.shape)\n",
    "a = features_selector.get_support()\n",
    "#print(a)\n",
    "features = X_train.columns\n",
    "#print(features)\n",
    "b = features[a].tolist()\n",
    "\n",
    "RFC3 = RandomForestClassifier(random_state = 42)\n",
    "RFC3.fit(X_train[b], y_train)\n",
    "y_predict_RFC3 = RFC3.predict(X_test[b])\n",
    "print(\"classification_report:\\n\", classification_report(y_test, y_predict_RFC3, labels = [1, 0]))\n",
    "print(\"The ROC AUC score:\", roc_auc_score(y_test, y_predict_RFC3))"
   ]
  },
  {
   "cell_type": "code",
   "execution_count": 25,
   "metadata": {},
   "outputs": [
    {
     "name": "stdout",
     "output_type": "stream",
     "text": [
      "InscClaimAmtReimbursed_x ['ChronicCond_Diabetes_x', 'ChronicCond_IschemicHeart_x', 'ChronicCond_Osteoporasis_x'] ['ChronicCond_stroke_y']\n"
     ]
    },
    {
     "name": "stderr",
     "output_type": "stream",
     "text": [
      "C:\\Users\\user\\Anaconda3\\lib\\site-packages\\sklearn\\feature_selection\\_univariate_selection.py:112: UserWarning: Features [ 1 27 28 29 70 71 72 73 74 75] are constant.\n",
      "  warnings.warn(\"Features %s are constant.\" % constant_features_idx, UserWarning)\n",
      "C:\\Users\\user\\Anaconda3\\lib\\site-packages\\sklearn\\feature_selection\\_univariate_selection.py:113: RuntimeWarning: invalid value encountered in true_divide\n",
      "  f = msb / msw\n"
     ]
    }
   ],
   "source": [
    "features_selector = SelectKBest(score_func = f_classif, k = 70)\n",
    "ordered = features_selector.fit_transform(X_train, y_train)\n",
    "a = features_selector.get_support()\n",
    "features = X_train.columns\n",
    "b = features[a].tolist()\n",
    "print(b[0], b[26:29], b[69:75])"
   ]
  },
  {
   "cell_type": "markdown",
   "metadata": {},
   "source": [
    "# Apply PCA"
   ]
  },
  {
   "cell_type": "code",
   "execution_count": 26,
   "metadata": {},
   "outputs": [
    {
     "name": "stdout",
     "output_type": "stream",
     "text": [
      "[3.98849428e-01 1.69213627e-01 4.45362356e-02 3.15029589e-02\n",
      " 2.42568833e-02 2.21990059e-02 1.69527031e-02 1.65593849e-02\n",
      " 1.49787334e-02 1.37149889e-02 1.29589801e-02 1.20759837e-02\n",
      " 1.16425047e-02 1.13442968e-02 1.04467206e-02 9.97095254e-03\n",
      " 9.83440157e-03 9.71488011e-03 9.31959808e-03 9.06895380e-03\n",
      " 8.57929595e-03 8.09189216e-03 7.89605834e-03 7.76482811e-03\n",
      " 7.47100902e-03 7.33761247e-03 7.12927190e-03 6.86045907e-03\n",
      " 6.70686364e-03 6.62249694e-03 5.97178167e-03 5.78048858e-03\n",
      " 5.73464348e-03 5.47967651e-03 5.07789785e-03 4.62441653e-03\n",
      " 4.14760242e-03 3.78556352e-03 3.51186768e-03 3.38708102e-03\n",
      " 3.35414872e-03 3.12224957e-03 2.66586462e-03 2.24448400e-03\n",
      " 2.09503899e-03 1.91968809e-03 1.63994687e-03 1.52297804e-03\n",
      " 3.23975522e-04 9.59725541e-06 7.86591802e-32 2.29711926e-33\n",
      " 2.29711926e-33 2.29711926e-33 2.29711926e-33 2.29711926e-33\n",
      " 2.29711926e-33 2.29711926e-33 2.29711926e-33 2.29711926e-33\n",
      " 2.29711926e-33 2.29711926e-33 2.29711926e-33 2.29711926e-33\n",
      " 2.29711926e-33 2.29711926e-33 2.29711926e-33 2.29711926e-33\n",
      " 2.29711926e-33 2.29711926e-33 2.29711926e-33 2.29711926e-33\n",
      " 2.29711926e-33 2.29711926e-33 2.29711926e-33 2.29711926e-33\n",
      " 2.29711926e-33 2.29711926e-33 2.29711926e-33 2.29711926e-33\n",
      " 2.29711926e-33 2.29711926e-33 2.29711926e-33 2.29711926e-33\n",
      " 2.29711926e-33 2.29711926e-33 2.29711926e-33 2.29711926e-33\n",
      " 2.29711926e-33 2.29711926e-33 2.29711926e-33 2.29711926e-33\n",
      " 2.29711926e-33 2.29711926e-33 2.29711926e-33]\n",
      "classification_report:\n",
      "               precision    recall  f1-score   support\n",
      "\n",
      "           1       0.53      0.68      0.60       123\n",
      "           0       0.89      0.81      0.85       386\n",
      "\n",
      "    accuracy                           0.78       509\n",
      "   macro avg       0.71      0.75      0.72       509\n",
      "weighted avg       0.80      0.78      0.79       509\n",
      "\n",
      "The ROC AUC score: 0.7456084923543537\n"
     ]
    }
   ],
   "source": [
    "from sklearn.decomposition import PCA\n",
    "\n",
    "pca = PCA(random_state = 42)\n",
    "pca1 = pca.fit(X_train)\n",
    "pca1_train = pca1.transform(X_train)\n",
    "pca1_test = pca1.transform(X_test)\n",
    "print(pca1.explained_variance_ratio_)\n",
    "\n",
    "lr_pca = LogisticRegression(random_state = 42)\n",
    "lr_pca.fit(pca1_train, y_train)\n",
    "y_predict_pca1 = lr_pca.predict(pca1_test)\n",
    "print(\"classification_report:\\n\", classification_report(y_test, y_predict_pca1, labels = [1, 0]))\n",
    "print(\"The ROC AUC score:\", roc_auc_score(y_test, y_predict_pca1))"
   ]
  },
  {
   "cell_type": "code",
   "execution_count": 27,
   "metadata": {},
   "outputs": [
    {
     "name": "stdout",
     "output_type": "stream",
     "text": [
      "[0.39884943 0.16921363 0.04453624 0.03150296 0.02425681]\n",
      "classification_report:\n",
      "               precision    recall  f1-score   support\n",
      "\n",
      "           1       0.56      0.66      0.60       123\n",
      "           0       0.88      0.83      0.86       386\n",
      "\n",
      "    accuracy                           0.79       509\n",
      "   macro avg       0.72      0.75      0.73       509\n",
      "weighted avg       0.81      0.79      0.80       509\n",
      "\n",
      "The ROC AUC score: 0.7463667382787817\n"
     ]
    }
   ],
   "source": [
    "pca = PCA(n_components = 5, random_state = 42)\n",
    "pca1 = pca.fit(X_train)\n",
    "pca1_train = pca1.transform(X_train)\n",
    "pca1_test = pca1.transform(X_test)\n",
    "print(pca1.explained_variance_ratio_)\n",
    "\n",
    "lr_pca = LogisticRegression(random_state = 42)\n",
    "lr_pca.fit(pca1_train, y_train)\n",
    "y_predict_pca1 = lr_pca.predict(pca1_test)\n",
    "print(\"classification_report:\\n\", classification_report(y_test, y_predict_pca1, labels = [1, 0]))\n",
    "print(\"The ROC AUC score:\", roc_auc_score(y_test, y_predict_pca1))"
   ]
  },
  {
   "cell_type": "code",
   "execution_count": 28,
   "metadata": {},
   "outputs": [
    {
     "name": "stdout",
     "output_type": "stream",
     "text": [
      "[0.39884943 0.16921363 0.04453622 0.0315029  0.02425655 0.02219612\n",
      " 0.01693965 0.01654394 0.01496259 0.01363716]\n",
      "classification_report:\n",
      "               precision    recall  f1-score   support\n",
      "\n",
      "           1       0.57      0.68      0.62       123\n",
      "           0       0.89      0.83      0.86       386\n",
      "\n",
      "    accuracy                           0.80       509\n",
      "   macro avg       0.73      0.76      0.74       509\n",
      "weighted avg       0.81      0.80      0.80       509\n",
      "\n",
      "The ROC AUC score: 0.7585618602300013\n"
     ]
    }
   ],
   "source": [
    "pca = PCA(n_components = 10, random_state = 42)\n",
    "pca1 = pca.fit(X_train)\n",
    "pca1_train = pca1.transform(X_train)\n",
    "pca1_test = pca1.transform(X_test)\n",
    "print(pca1.explained_variance_ratio_)\n",
    "\n",
    "lr_pca = LogisticRegression(random_state = 42)\n",
    "lr_pca.fit(pca1_train, y_train)\n",
    "y_predict_pca1 = lr_pca.predict(pca1_test)\n",
    "print(\"classification_report:\\n\", classification_report(y_test, y_predict_pca1, labels = [1, 0]))\n",
    "print(\"The ROC AUC score:\", roc_auc_score(y_test, y_predict_pca1))"
   ]
  },
  {
   "cell_type": "markdown",
   "metadata": {},
   "source": [
    "# PCA with best parameters of logistic regression"
   ]
  },
  {
   "cell_type": "code",
   "execution_count": 29,
   "metadata": {},
   "outputs": [
    {
     "name": "stdout",
     "output_type": "stream",
     "text": [
      "[0.39884943 0.16921363 0.04453622 0.0315029  0.02425655 0.02219612\n",
      " 0.01693965 0.01654394 0.01496259 0.01363716]\n",
      "classification_report:\n",
      "               precision    recall  f1-score   support\n",
      "\n",
      "           1       0.59      0.66      0.62       123\n",
      "           0       0.89      0.85      0.87       386\n",
      "\n",
      "    accuracy                           0.81       509\n",
      "   macro avg       0.74      0.76      0.75       509\n",
      "weighted avg       0.82      0.81      0.81       509\n",
      "\n",
      "The ROC AUC score: 0.7567294325792999\n"
     ]
    }
   ],
   "source": [
    "pca = PCA(n_components = 10, random_state = 42)\n",
    "pca1 = pca.fit(X_train)\n",
    "pca1_train = pca1.transform(X_train)\n",
    "pca1_test = pca1.transform(X_test)\n",
    "print(pca1.explained_variance_ratio_)\n",
    "lr_best_pca = LogisticRegression(C = 0.01, max_iter= 100, penalty= 'l2', solver = 'liblinear', random_state = 42) # These hyperparameters was obtained earlier during opmization of logistic regression\n",
    "lr_best_pca.fit(pca1_train, y_train)\n",
    "y_predict_lr_best_pca = lr_best_pca.predict(pca1_test)\n",
    "\n",
    "print(\"classification_report:\\n\", classification_report(y_test, y_predict_lr_best_pca, labels = [1, 0]))\n",
    "print(\"The ROC AUC score:\", roc_auc_score(y_test, y_predict_lr_best_pca))"
   ]
  },
  {
   "cell_type": "markdown",
   "metadata": {},
   "source": [
    "**Among all with PCA application, 0.765 is the highest roc_auc_score.**"
   ]
  },
  {
   "cell_type": "markdown",
   "metadata": {},
   "source": [
    "# Case-2: ML model building (with data where dummie features have been obtained for categorical features) "
   ]
  },
  {
   "cell_type": "code",
   "execution_count": 30,
   "metadata": {},
   "outputs": [],
   "source": [
    "X_train2 = pd.read_csv('X_train5.csv', index_col = 0)\n",
    "y_train2 = pd.read_csv('y_train5.csv', index_col = 0)\n",
    "\n",
    "X_test2 = pd.read_csv('X_test5.csv', index_col = 0)\n",
    "y_test2 = pd.read_csv('y_test5.csv', index_col = 0)"
   ]
  },
  {
   "cell_type": "code",
   "execution_count": 31,
   "metadata": {},
   "outputs": [
    {
     "data": {
      "text/plain": [
       "((1185, 95), (1185, 1), (509, 95), (509, 1))"
      ]
     },
     "execution_count": 31,
     "metadata": {},
     "output_type": "execute_result"
    }
   ],
   "source": [
    "X_train2.shape, y_train2.shape, X_test2.shape, y_test2.shape"
   ]
  },
  {
   "cell_type": "code",
   "execution_count": 32,
   "metadata": {},
   "outputs": [
    {
     "data": {
      "text/html": [
       "<div>\n",
       "<style scoped>\n",
       "    .dataframe tbody tr th:only-of-type {\n",
       "        vertical-align: middle;\n",
       "    }\n",
       "\n",
       "    .dataframe tbody tr th {\n",
       "        vertical-align: top;\n",
       "    }\n",
       "\n",
       "    .dataframe thead th {\n",
       "        text-align: right;\n",
       "    }\n",
       "</style>\n",
       "<table border=\"1\" class=\"dataframe\">\n",
       "  <thead>\n",
       "    <tr style=\"text-align: right;\">\n",
       "      <th></th>\n",
       "      <th>InscClaimAmtReimbursed_x</th>\n",
       "      <th>DeductibleAmtPaid_x</th>\n",
       "      <th>InpatientClaimPeriod</th>\n",
       "      <th>DurationInHospital</th>\n",
       "      <th>NoOfMonths_PartACov_x</th>\n",
       "      <th>NoOfMonths_PartBCov_x</th>\n",
       "      <th>IPAnnualReimbursementAmt_x</th>\n",
       "      <th>IPAnnualDeductibleAmt_x</th>\n",
       "      <th>OPAnnualReimbursementAmt_x</th>\n",
       "      <th>OPAnnualDeductibleAmt_x</th>\n",
       "      <th>...</th>\n",
       "      <th>ChronicCond_Heartfailure_y</th>\n",
       "      <th>ChronicCond_KidneyDisease_y</th>\n",
       "      <th>ChronicCond_Cancer_y</th>\n",
       "      <th>ChronicCond_ObstrPulmonary_y</th>\n",
       "      <th>ChronicCond_Depression_y</th>\n",
       "      <th>ChronicCond_Diabetes_y</th>\n",
       "      <th>ChronicCond_IschemicHeart_y</th>\n",
       "      <th>ChronicCond_Osteoporasis_y</th>\n",
       "      <th>ChronicCond_rheumatoidarthritis_y</th>\n",
       "      <th>ChronicCond_stroke_y</th>\n",
       "    </tr>\n",
       "  </thead>\n",
       "  <tbody>\n",
       "    <tr>\n",
       "      <th>0</th>\n",
       "      <td>0.035290</td>\n",
       "      <td>0.0</td>\n",
       "      <td>0.634834</td>\n",
       "      <td>0.632766</td>\n",
       "      <td>0.215258</td>\n",
       "      <td>-0.648255</td>\n",
       "      <td>-0.037962</td>\n",
       "      <td>-0.016147</td>\n",
       "      <td>-0.242751</td>\n",
       "      <td>-0.867557</td>\n",
       "      <td>...</td>\n",
       "      <td>-0.454031</td>\n",
       "      <td>-0.454031</td>\n",
       "      <td>-0.454031</td>\n",
       "      <td>-0.454031</td>\n",
       "      <td>-0.454031</td>\n",
       "      <td>-0.454031</td>\n",
       "      <td>-0.454031</td>\n",
       "      <td>-0.454031</td>\n",
       "      <td>-0.454031</td>\n",
       "      <td>-0.454031</td>\n",
       "    </tr>\n",
       "    <tr>\n",
       "      <th>1</th>\n",
       "      <td>-0.547996</td>\n",
       "      <td>0.0</td>\n",
       "      <td>0.887340</td>\n",
       "      <td>0.885036</td>\n",
       "      <td>0.215258</td>\n",
       "      <td>0.237652</td>\n",
       "      <td>-1.116700</td>\n",
       "      <td>-0.475348</td>\n",
       "      <td>-0.902800</td>\n",
       "      <td>-0.997736</td>\n",
       "      <td>...</td>\n",
       "      <td>-0.032232</td>\n",
       "      <td>-0.032232</td>\n",
       "      <td>-0.032232</td>\n",
       "      <td>-0.032232</td>\n",
       "      <td>-0.032232</td>\n",
       "      <td>-0.032232</td>\n",
       "      <td>-0.032232</td>\n",
       "      <td>-0.032232</td>\n",
       "      <td>-0.032232</td>\n",
       "      <td>-0.032232</td>\n",
       "    </tr>\n",
       "    <tr>\n",
       "      <th>2</th>\n",
       "      <td>-0.017145</td>\n",
       "      <td>0.0</td>\n",
       "      <td>-0.822593</td>\n",
       "      <td>-0.823304</td>\n",
       "      <td>0.215258</td>\n",
       "      <td>-1.695236</td>\n",
       "      <td>-0.372273</td>\n",
       "      <td>-0.326406</td>\n",
       "      <td>-0.438602</td>\n",
       "      <td>-0.818562</td>\n",
       "      <td>...</td>\n",
       "      <td>-0.100631</td>\n",
       "      <td>-0.100631</td>\n",
       "      <td>-0.100631</td>\n",
       "      <td>-0.100631</td>\n",
       "      <td>-0.100631</td>\n",
       "      <td>-0.100631</td>\n",
       "      <td>-0.100631</td>\n",
       "      <td>-0.100631</td>\n",
       "      <td>-0.100631</td>\n",
       "      <td>-0.100631</td>\n",
       "    </tr>\n",
       "    <tr>\n",
       "      <th>3</th>\n",
       "      <td>0.238384</td>\n",
       "      <td>0.0</td>\n",
       "      <td>-1.056474</td>\n",
       "      <td>-1.056968</td>\n",
       "      <td>0.215258</td>\n",
       "      <td>0.237652</td>\n",
       "      <td>-0.434826</td>\n",
       "      <td>-0.442754</td>\n",
       "      <td>-0.737917</td>\n",
       "      <td>0.944394</td>\n",
       "      <td>...</td>\n",
       "      <td>-0.237431</td>\n",
       "      <td>-0.237431</td>\n",
       "      <td>-0.237431</td>\n",
       "      <td>-0.237431</td>\n",
       "      <td>-0.237431</td>\n",
       "      <td>-0.237431</td>\n",
       "      <td>-0.237431</td>\n",
       "      <td>-0.237431</td>\n",
       "      <td>-0.237431</td>\n",
       "      <td>-0.237431</td>\n",
       "    </tr>\n",
       "    <tr>\n",
       "      <th>4</th>\n",
       "      <td>-0.817705</td>\n",
       "      <td>0.0</td>\n",
       "      <td>-0.770619</td>\n",
       "      <td>-0.771379</td>\n",
       "      <td>0.215258</td>\n",
       "      <td>0.237652</td>\n",
       "      <td>-0.205604</td>\n",
       "      <td>0.837067</td>\n",
       "      <td>-0.546073</td>\n",
       "      <td>0.195945</td>\n",
       "      <td>...</td>\n",
       "      <td>-0.944230</td>\n",
       "      <td>-0.944230</td>\n",
       "      <td>-0.944230</td>\n",
       "      <td>-0.944230</td>\n",
       "      <td>-0.944230</td>\n",
       "      <td>-0.944230</td>\n",
       "      <td>-0.944230</td>\n",
       "      <td>-0.944230</td>\n",
       "      <td>-0.944230</td>\n",
       "      <td>-0.944230</td>\n",
       "    </tr>\n",
       "  </tbody>\n",
       "</table>\n",
       "<p>5 rows × 95 columns</p>\n",
       "</div>"
      ],
      "text/plain": [
       "   InscClaimAmtReimbursed_x  DeductibleAmtPaid_x  InpatientClaimPeriod  \\\n",
       "0                  0.035290                  0.0              0.634834   \n",
       "1                 -0.547996                  0.0              0.887340   \n",
       "2                 -0.017145                  0.0             -0.822593   \n",
       "3                  0.238384                  0.0             -1.056474   \n",
       "4                 -0.817705                  0.0             -0.770619   \n",
       "\n",
       "   DurationInHospital  NoOfMonths_PartACov_x  NoOfMonths_PartBCov_x  \\\n",
       "0            0.632766               0.215258              -0.648255   \n",
       "1            0.885036               0.215258               0.237652   \n",
       "2           -0.823304               0.215258              -1.695236   \n",
       "3           -1.056968               0.215258               0.237652   \n",
       "4           -0.771379               0.215258               0.237652   \n",
       "\n",
       "   IPAnnualReimbursementAmt_x  IPAnnualDeductibleAmt_x  \\\n",
       "0                   -0.037962                -0.016147   \n",
       "1                   -1.116700                -0.475348   \n",
       "2                   -0.372273                -0.326406   \n",
       "3                   -0.434826                -0.442754   \n",
       "4                   -0.205604                 0.837067   \n",
       "\n",
       "   OPAnnualReimbursementAmt_x  OPAnnualDeductibleAmt_x  ...  \\\n",
       "0                   -0.242751                -0.867557  ...   \n",
       "1                   -0.902800                -0.997736  ...   \n",
       "2                   -0.438602                -0.818562  ...   \n",
       "3                   -0.737917                 0.944394  ...   \n",
       "4                   -0.546073                 0.195945  ...   \n",
       "\n",
       "   ChronicCond_Heartfailure_y  ChronicCond_KidneyDisease_y  \\\n",
       "0                   -0.454031                    -0.454031   \n",
       "1                   -0.032232                    -0.032232   \n",
       "2                   -0.100631                    -0.100631   \n",
       "3                   -0.237431                    -0.237431   \n",
       "4                   -0.944230                    -0.944230   \n",
       "\n",
       "   ChronicCond_Cancer_y  ChronicCond_ObstrPulmonary_y  \\\n",
       "0             -0.454031                     -0.454031   \n",
       "1             -0.032232                     -0.032232   \n",
       "2             -0.100631                     -0.100631   \n",
       "3             -0.237431                     -0.237431   \n",
       "4             -0.944230                     -0.944230   \n",
       "\n",
       "   ChronicCond_Depression_y  ChronicCond_Diabetes_y  \\\n",
       "0                 -0.454031               -0.454031   \n",
       "1                 -0.032232               -0.032232   \n",
       "2                 -0.100631               -0.100631   \n",
       "3                 -0.237431               -0.237431   \n",
       "4                 -0.944230               -0.944230   \n",
       "\n",
       "   ChronicCond_IschemicHeart_y  ChronicCond_Osteoporasis_y  \\\n",
       "0                    -0.454031                   -0.454031   \n",
       "1                    -0.032232                   -0.032232   \n",
       "2                    -0.100631                   -0.100631   \n",
       "3                    -0.237431                   -0.237431   \n",
       "4                    -0.944230                   -0.944230   \n",
       "\n",
       "   ChronicCond_rheumatoidarthritis_y  ChronicCond_stroke_y  \n",
       "0                          -0.454031             -0.454031  \n",
       "1                          -0.032232             -0.032232  \n",
       "2                          -0.100631             -0.100631  \n",
       "3                          -0.237431             -0.237431  \n",
       "4                          -0.944230             -0.944230  \n",
       "\n",
       "[5 rows x 95 columns]"
      ]
     },
     "execution_count": 32,
     "metadata": {},
     "output_type": "execute_result"
    }
   ],
   "source": [
    "X_train2.head()"
   ]
  },
  {
   "cell_type": "code",
   "execution_count": 33,
   "metadata": {},
   "outputs": [
    {
     "data": {
      "text/html": [
       "<div>\n",
       "<style scoped>\n",
       "    .dataframe tbody tr th:only-of-type {\n",
       "        vertical-align: middle;\n",
       "    }\n",
       "\n",
       "    .dataframe tbody tr th {\n",
       "        vertical-align: top;\n",
       "    }\n",
       "\n",
       "    .dataframe thead th {\n",
       "        text-align: right;\n",
       "    }\n",
       "</style>\n",
       "<table border=\"1\" class=\"dataframe\">\n",
       "  <thead>\n",
       "    <tr style=\"text-align: right;\">\n",
       "      <th></th>\n",
       "      <th>PotentialFraud</th>\n",
       "    </tr>\n",
       "  </thead>\n",
       "  <tbody>\n",
       "    <tr>\n",
       "      <th>0</th>\n",
       "      <td>1</td>\n",
       "    </tr>\n",
       "    <tr>\n",
       "      <th>1</th>\n",
       "      <td>0</td>\n",
       "    </tr>\n",
       "    <tr>\n",
       "      <th>2</th>\n",
       "      <td>1</td>\n",
       "    </tr>\n",
       "    <tr>\n",
       "      <th>3</th>\n",
       "      <td>0</td>\n",
       "    </tr>\n",
       "    <tr>\n",
       "      <th>4</th>\n",
       "      <td>0</td>\n",
       "    </tr>\n",
       "  </tbody>\n",
       "</table>\n",
       "</div>"
      ],
      "text/plain": [
       "   PotentialFraud\n",
       "0               1\n",
       "1               0\n",
       "2               1\n",
       "3               0\n",
       "4               0"
      ]
     },
     "execution_count": 33,
     "metadata": {},
     "output_type": "execute_result"
    }
   ],
   "source": [
    "y_train2.head()"
   ]
  },
  {
   "cell_type": "code",
   "execution_count": 34,
   "metadata": {},
   "outputs": [],
   "source": [
    "y_train2 = y_train2.values.ravel()"
   ]
  },
  {
   "cell_type": "markdown",
   "metadata": {},
   "source": [
    "# Model building and evaluation"
   ]
  },
  {
   "cell_type": "markdown",
   "metadata": {},
   "source": [
    "# Logistic Regression"
   ]
  },
  {
   "cell_type": "code",
   "execution_count": 35,
   "metadata": {},
   "outputs": [
    {
     "name": "stdout",
     "output_type": "stream",
     "text": [
      "classification_report:\n",
      "               precision    recall  f1-score   support\n",
      "\n",
      "           1       0.71      0.45      0.55       123\n",
      "           0       0.84      0.94      0.89       386\n",
      "\n",
      "    accuracy                           0.82       509\n",
      "   macro avg       0.78      0.70      0.72       509\n",
      "weighted avg       0.81      0.82      0.81       509\n",
      "\n",
      "The ROC AUC score: 0.6950798264459329\n"
     ]
    }
   ],
   "source": [
    "from sklearn.linear_model import LogisticRegression\n",
    "lr = LogisticRegression(solver = 'liblinear', random_state = 42) \n",
    "\n",
    "# Fit the model\n",
    "lr.fit(X_train2, y_train2)\n",
    "# Let us apply this to test set\n",
    "y_predict = lr.predict(X_test2)\n",
    "\n",
    "from sklearn.metrics import confusion_matrix, classification_report,roc_auc_score\n",
    "print(\"classification_report:\\n\", classification_report(y_test2, y_predict, labels = [1, 0]))\n",
    "print(\"The ROC AUC score:\", roc_auc_score(y_test2, y_predict))"
   ]
  },
  {
   "cell_type": "markdown",
   "metadata": {},
   "source": [
    "# Random Forest Classifier"
   ]
  },
  {
   "cell_type": "code",
   "execution_count": 36,
   "metadata": {},
   "outputs": [
    {
     "name": "stdout",
     "output_type": "stream",
     "text": [
      "classification_report:\n",
      "               precision    recall  f1-score   support\n",
      "\n",
      "           1       0.65      0.37      0.47       123\n",
      "           0       0.82      0.94      0.88       386\n",
      "\n",
      "    accuracy                           0.80       509\n",
      "   macro avg       0.74      0.65      0.67       509\n",
      "weighted avg       0.78      0.80      0.78       509\n",
      "\n",
      "The ROC AUC score: 0.6518387463667382\n"
     ]
    }
   ],
   "source": [
    "# Random forest classifier\n",
    "from sklearn.ensemble import RandomForestClassifier\n",
    "\n",
    "RF = RandomForestClassifier(random_state = 42)\n",
    "RF.fit(X_train2, y_train2)\n",
    "y_predict_RF = RF.predict(X_test2)\n",
    "\n",
    "print(\"classification_report:\\n\", classification_report(y_test, y_predict_RF, labels = [1, 0]))\n",
    "print(\"The ROC AUC score:\", roc_auc_score(y_test, y_predict_RF))"
   ]
  },
  {
   "cell_type": "markdown",
   "metadata": {},
   "source": [
    "# Gradient Boosting Classifier "
   ]
  },
  {
   "cell_type": "code",
   "execution_count": 37,
   "metadata": {},
   "outputs": [
    {
     "name": "stdout",
     "output_type": "stream",
     "text": [
      "classification_report:\n",
      "               precision    recall  f1-score   support\n",
      "\n",
      "           1       0.72      0.47      0.57       123\n",
      "           0       0.85      0.94      0.89       386\n",
      "\n",
      "    accuracy                           0.83       509\n",
      "   macro avg       0.78      0.71      0.73       509\n",
      "weighted avg       0.82      0.83      0.81       509\n",
      "\n",
      "The ROC AUC score: 0.7059796116095877\n"
     ]
    }
   ],
   "source": [
    "from sklearn.ensemble import GradientBoostingClassifier\n",
    "\n",
    "gbc = GradientBoostingClassifier(random_state = 42)\n",
    "gbc.fit(X_train2, y_train2)\n",
    "y_predict_gbc = gbc.predict(X_test2)\n",
    "print(\"classification_report:\\n\", classification_report(y_test2, y_predict_gbc, labels = [1, 0]))\n",
    "print(\"The ROC AUC score:\", roc_auc_score(y_test2, y_predict_gbc))"
   ]
  },
  {
   "cell_type": "markdown",
   "metadata": {},
   "source": [
    "# Support Vector Classifier"
   ]
  },
  {
   "cell_type": "code",
   "execution_count": 38,
   "metadata": {},
   "outputs": [
    {
     "name": "stdout",
     "output_type": "stream",
     "text": [
      "classification_report:\n",
      "               precision    recall  f1-score   support\n",
      "\n",
      "           1       0.71      0.41      0.52       123\n",
      "           0       0.83      0.95      0.89       386\n",
      "\n",
      "    accuracy                           0.82       509\n",
      "   macro avg       0.77      0.68      0.70       509\n",
      "weighted avg       0.80      0.82      0.80       509\n",
      "\n",
      "The ROC AUC score: 0.6773452967690299\n"
     ]
    }
   ],
   "source": [
    "from sklearn.svm import SVC\n",
    "svc = SVC(random_state = 42)\n",
    "svc.fit(X_train2, y_train2)\n",
    "y_predict_svc = svc.predict(X_test2)\n",
    "print(\"classification_report:\\n\", classification_report(y_test, y_predict_svc, labels = [1, 0]))\n",
    "print(\"The ROC AUC score:\", roc_auc_score(y_test, y_predict_svc))"
   ]
  },
  {
   "cell_type": "markdown",
   "metadata": {},
   "source": [
    "# SMORT application"
   ]
  },
  {
   "cell_type": "code",
   "execution_count": 39,
   "metadata": {},
   "outputs": [
    {
     "name": "stdout",
     "output_type": "stream",
     "text": [
      "Counter({0: 912, 1: 273})\n",
      "Counter({1: 912, 0: 912})\n"
     ]
    }
   ],
   "source": [
    "oversample = SMOTE()\n",
    "counter = Counter(y_train2)\n",
    "print(counter)\n",
    "X_train2, y_train2 = oversample.fit_resample(X_train2, y_train2)\n",
    "counter = Counter(y_train2)\n",
    "print(counter)"
   ]
  },
  {
   "cell_type": "code",
   "execution_count": 40,
   "metadata": {},
   "outputs": [
    {
     "name": "stdout",
     "output_type": "stream",
     "text": [
      "classification_report:\n",
      "               precision    recall  f1-score   support\n",
      "\n",
      "           1       0.55      0.71      0.62       123\n",
      "           0       0.90      0.81      0.85       386\n",
      "\n",
      "    accuracy                           0.79       509\n",
      "   macro avg       0.72      0.76      0.74       509\n",
      "weighted avg       0.81      0.79      0.80       509\n",
      "\n",
      "The ROC AUC score: 0.7603942878807026\n"
     ]
    }
   ],
   "source": [
    "# Apply Logistic regression\n",
    "lr2 = LogisticRegression(solver = 'liblinear', random_state = 42) \n",
    "lr2.fit(X_train2, y_train2)\n",
    "y_predict_lr2 = lr2.predict(X_test2)\n",
    "print(\"classification_report:\\n\", classification_report(y_test2, y_predict_lr2, labels = [1, 0]))\n",
    "print(\"The ROC AUC score:\", roc_auc_score(y_test2, y_predict_lr2))"
   ]
  },
  {
   "cell_type": "code",
   "execution_count": 41,
   "metadata": {},
   "outputs": [
    {
     "name": "stdout",
     "output_type": "stream",
     "text": [
      "classification_report:\n",
      "               precision    recall  f1-score   support\n",
      "\n",
      "           1       0.63      0.57      0.60       123\n",
      "           0       0.87      0.89      0.88       386\n",
      "\n",
      "    accuracy                           0.82       509\n",
      "   macro avg       0.75      0.73      0.74       509\n",
      "weighted avg       0.81      0.82      0.81       509\n",
      "\n",
      "The ROC AUC score: 0.7314440372382998\n"
     ]
    }
   ],
   "source": [
    "# Random Forest Classifier\n",
    "RF2 = RandomForestClassifier(random_state = 42)\n",
    "RF2.fit(X_train2, y_train2)\n",
    "y_predict_RF2 = RF2.predict(X_test2)\n",
    "print(\"classification_report:\\n\", classification_report(y_test2, y_predict_RF2, labels = [1, 0]))\n",
    "print(\"The ROC AUC score:\", roc_auc_score(y_test2, y_predict_RF2))"
   ]
  },
  {
   "cell_type": "code",
   "execution_count": 42,
   "metadata": {},
   "outputs": [
    {
     "name": "stdout",
     "output_type": "stream",
     "text": [
      "classification_report:\n",
      "               precision    recall  f1-score   support\n",
      "\n",
      "           1       0.72      0.47      0.57       123\n",
      "           0       0.85      0.94      0.89       386\n",
      "\n",
      "    accuracy                           0.83       509\n",
      "   macro avg       0.78      0.71      0.73       509\n",
      "weighted avg       0.82      0.83      0.81       509\n",
      "\n",
      "The ROC AUC score: 0.7059796116095877\n"
     ]
    }
   ],
   "source": [
    "# Apply Gradient Boosting Classifier\n",
    "gbc2 = GradientBoostingClassifier(random_state = 42)\n",
    "gbc2.fit(X_train2, y_train2)\n",
    "y_predict_gbc2 = gbc.predict(X_test2)\n",
    "print(\"classification_report:\\n\", classification_report(y_test2, y_predict_gbc2, labels = [1, 0]))\n",
    "print(\"The ROC AUC score:\", roc_auc_score(y_test2, y_predict_gbc2))"
   ]
  },
  {
   "cell_type": "code",
   "execution_count": 43,
   "metadata": {},
   "outputs": [
    {
     "name": "stdout",
     "output_type": "stream",
     "text": [
      "classification_report:\n",
      "               precision    recall  f1-score   support\n",
      "\n",
      "           1       0.71      0.41      0.52       123\n",
      "           0       0.83      0.95      0.89       386\n",
      "\n",
      "    accuracy                           0.82       509\n",
      "   macro avg       0.77      0.68      0.70       509\n",
      "weighted avg       0.80      0.82      0.80       509\n",
      "\n",
      "The ROC AUC score: 0.6773452967690299\n"
     ]
    }
   ],
   "source": [
    "# Apply Support Vector Classifier\n",
    "svc2 = SVC(random_state = 42)\n",
    "svc2.fit(X_train2, y_train2)\n",
    "y_predict_svc2 = svc.predict(X_test2)\n",
    "print(\"classification_report:\\n\", classification_report(y_test2, y_predict_svc2, labels = [1, 0]))\n",
    "print(\"The ROC AUC score:\", roc_auc_score(y_test2, y_predict_svc2))"
   ]
  },
  {
   "cell_type": "markdown",
   "metadata": {},
   "source": [
    "# Apply GridsearchCV and RandomSearchCV on Logistic Regression"
   ]
  },
  {
   "cell_type": "code",
   "execution_count": 44,
   "metadata": {},
   "outputs": [
    {
     "name": "stdout",
     "output_type": "stream",
     "text": [
      "Best parameters from GridSearchCV on Logistic Regression: {'C': 0.01, 'max_iter': 100, 'penalty': 'l2', 'solver': 'liblinear'}\n",
      "Best Score from Grid Search CV on:  0.8975213527239149\n",
      "Classification_report from best Logistic regression model obtained from GridSeachCV:\n",
      "               precision    recall  f1-score   support\n",
      "\n",
      "           1       0.57      0.72      0.64       123\n",
      "           0       0.90      0.83      0.86       386\n",
      "\n",
      "    accuracy                           0.80       509\n",
      "   macro avg       0.74      0.78      0.75       509\n",
      "weighted avg       0.82      0.80      0.81       509\n",
      "\n",
      "The ROC AUC score from best Logistic regression model obtained from GridSeachCV: 0.7750010531193395\n"
     ]
    }
   ],
   "source": [
    "from sklearn.model_selection import GridSearchCV\n",
    "\n",
    "parameters = {'penalty': ['l1', 'l2'],\n",
    "             'C': [0.001, 0.01, 0.1, 1.0, 10],\n",
    "             'solver': ['liblinear'],\n",
    "              'max_iter':[100, 200] \n",
    "             }\n",
    "lr3 = LogisticRegression(random_state = 42)\n",
    "gsc_lr3 = GridSearchCV(lr3, param_grid = parameters, scoring = {'f1_score': 'f1', 'roc_auc_score': 'roc_auc'}, refit = 'roc_auc_score', cv = 3, n_jobs = -1)\n",
    "# To use two evaluation scoring metrics, I need some help, I got some answer, but not satisfied\n",
    "#gsc_lr3 = GridSearchCV(lr3, param_grid = parameters, scoring = {'f1_score': 'f1', 'roc_auc_score'= 'roc_auc'}, refit: 'roc_auc', cv = 3)\n",
    "gsc_lr3.fit(X_train2, y_train2)\n",
    "\n",
    "best_parameters = gsc_lr3.best_params_\n",
    "best_score = gsc_lr3.best_score_\n",
    "print(\"Best parameters from GridSearchCV on Logistic Regression:\", best_parameters)\n",
    "print(\"Best Score from Grid Search CV on: \", best_score)\n",
    "\n",
    "gsc_lr3_1 = LogisticRegression(solver = best_parameters['solver'], random_state = 42, C = best_parameters['C'], penalty = best_parameters['penalty'], max_iter = best_parameters['max_iter'])\n",
    "gsc_lr3_1.fit(X_train2, y_train2)\n",
    "y_predict_gsc_lr3_1 = gsc_lr3_1.predict(X_test2)\n",
    "\n",
    "print(\"Classification_report from best Logistic regression model obtained from GridSeachCV:\\n\", classification_report(y_test, y_predict_gsc_lr3_1, labels = [1, 0]))\n",
    "print(\"The ROC AUC score from best Logistic regression model obtained from GridSeachCV:\", roc_auc_score(y_test, y_predict_gsc_lr3_1))"
   ]
  },
  {
   "cell_type": "code",
   "execution_count": 45,
   "metadata": {},
   "outputs": [
    {
     "name": "stdout",
     "output_type": "stream",
     "text": [
      "Best parameters from RandomizedSearchCV on Logistic Regression: {'solver': 'liblinear', 'penalty': 'l1', 'max_iter': 50.0, 'C': 2.223}\n",
      "Best Score from RandomizedSearchCV on:  0.8927417625309897\n",
      "classification_report:\n",
      "               precision    recall  f1-score   support\n",
      "\n",
      "           1       0.55      0.72      0.62       123\n",
      "           0       0.90      0.81      0.85       386\n",
      "\n",
      "    accuracy                           0.79       509\n",
      "   macro avg       0.72      0.76      0.74       509\n",
      "weighted avg       0.81      0.79      0.80       509\n",
      "\n",
      "The ROC AUC score: 0.7631639917435443\n"
     ]
    }
   ],
   "source": [
    "# Apply Randomized search on Logistic Regression\n",
    "from sklearn.model_selection import RandomizedSearchCV\n",
    "lr4 = LogisticRegression(solver = 'liblinear', random_state = 42)\n",
    "\n",
    "parameters = {'penalty': ['l1', 'l2'],\n",
    "             'C': np.linspace(0.001, 10, 10),\n",
    "             'solver': ['liblinear'],\n",
    "              'max_iter':np.linspace(50, 200, 3)}\n",
    "rsc_lr4 = RandomizedSearchCV(lr4, param_distributions = parameters, scoring = 'roc_auc', random_state = 42, n_jobs = -1)\n",
    "rsc_lr4.fit(X_train2, y_train2)\n",
    "\n",
    "\n",
    "best_parameters = rsc_lr4.best_params_\n",
    "best_score = rsc_lr4.best_score_\n",
    "\n",
    "print(\"Best parameters from RandomizedSearchCV on Logistic Regression:\", best_parameters)\n",
    "print(\"Best Score from RandomizedSearchCV on: \", best_score)\n",
    "\n",
    "rsc_lr4_1 = LogisticRegression(solver = best_parameters['solver'], random_state = 42, C = best_parameters['C'], penalty = best_parameters['penalty'], max_iter = best_parameters['max_iter'])\n",
    "rsc_lr4_1.fit(X_train2, y_train2)\n",
    "y_predict_rsc_lr4_1 = rsc_lr4_1.predict(X_test2)\n",
    "\n",
    "print(\"classification_report:\\n\", classification_report(y_test2, y_predict_rsc_lr4_1, labels = [1, 0]))\n",
    "print(\"The ROC AUC score:\", roc_auc_score(y_test2, y_predict_rsc_lr4_1))"
   ]
  },
  {
   "cell_type": "code",
   "execution_count": 46,
   "metadata": {},
   "outputs": [
    {
     "name": "stderr",
     "output_type": "stream",
     "text": [
      "C:\\Users\\user\\Anaconda3\\lib\\site-packages\\sklearn\\feature_selection\\_univariate_selection.py:112: UserWarning: Features [ 1 27 28 29 70 71 72 73 74 75] are constant.\n",
      "  warnings.warn(\"Features %s are constant.\" % constant_features_idx, UserWarning)\n",
      "C:\\Users\\user\\Anaconda3\\lib\\site-packages\\sklearn\\feature_selection\\_univariate_selection.py:113: RuntimeWarning: invalid value encountered in true_divide\n",
      "  f = msb / msw\n"
     ]
    },
    {
     "name": "stdout",
     "output_type": "stream",
     "text": [
      "K =  50\n",
      "Best parameters from GridSearchCV on Logistic Regression: {'C': 0.01, 'max_iter': 100, 'penalty': 'l2', 'solver': 'liblinear'}\n",
      "Best Score from Grid Search CV on:  0.8959198984302862\n",
      "\n",
      "\n",
      "classification_report:\n",
      "               precision    recall  f1-score   support\n",
      "\n",
      "           1       0.56      0.70      0.62       123\n",
      "           0       0.90      0.82      0.86       386\n",
      "\n",
      "    accuracy                           0.79       509\n",
      "   macro avg       0.73      0.76      0.74       509\n",
      "weighted avg       0.81      0.79      0.80       509\n",
      "\n",
      "The ROC AUC score: 0.7615105943805552\n"
     ]
    },
    {
     "name": "stderr",
     "output_type": "stream",
     "text": [
      "C:\\Users\\user\\Anaconda3\\lib\\site-packages\\sklearn\\feature_selection\\_univariate_selection.py:112: UserWarning: Features [ 1 27 28 29 70 71 72 73 74 75] are constant.\n",
      "  warnings.warn(\"Features %s are constant.\" % constant_features_idx, UserWarning)\n",
      "C:\\Users\\user\\Anaconda3\\lib\\site-packages\\sklearn\\feature_selection\\_univariate_selection.py:113: RuntimeWarning: invalid value encountered in true_divide\n",
      "  f = msb / msw\n"
     ]
    },
    {
     "name": "stdout",
     "output_type": "stream",
     "text": [
      "K =  60\n",
      "Best parameters from GridSearchCV on Logistic Regression: {'C': 0.01, 'max_iter': 100, 'penalty': 'l2', 'solver': 'liblinear'}\n",
      "Best Score from Grid Search CV on:  0.8955015004616804\n",
      "\n",
      "\n",
      "classification_report:\n",
      "               precision    recall  f1-score   support\n",
      "\n",
      "           1       0.56      0.69      0.62       123\n",
      "           0       0.89      0.83      0.86       386\n",
      "\n",
      "    accuracy                           0.80       509\n",
      "   macro avg       0.73      0.76      0.74       509\n",
      "weighted avg       0.81      0.80      0.80       509\n",
      "\n",
      "The ROC AUC score: 0.7600362273052782\n"
     ]
    },
    {
     "name": "stderr",
     "output_type": "stream",
     "text": [
      "C:\\Users\\user\\Anaconda3\\lib\\site-packages\\sklearn\\feature_selection\\_univariate_selection.py:112: UserWarning: Features [ 1 27 28 29 70 71 72 73 74 75] are constant.\n",
      "  warnings.warn(\"Features %s are constant.\" % constant_features_idx, UserWarning)\n",
      "C:\\Users\\user\\Anaconda3\\lib\\site-packages\\sklearn\\feature_selection\\_univariate_selection.py:113: RuntimeWarning: invalid value encountered in true_divide\n",
      "  f = msb / msw\n"
     ]
    },
    {
     "name": "stdout",
     "output_type": "stream",
     "text": [
      "K =  70\n",
      "Best parameters from GridSearchCV on Logistic Regression: {'C': 0.01, 'max_iter': 100, 'penalty': 'l2', 'solver': 'liblinear'}\n",
      "Best Score from Grid Search CV on:  0.8949893236380424\n",
      "\n",
      "\n",
      "classification_report:\n",
      "               precision    recall  f1-score   support\n",
      "\n",
      "           1       0.56      0.69      0.62       123\n",
      "           0       0.89      0.83      0.86       386\n",
      "\n",
      "    accuracy                           0.80       509\n",
      "   macro avg       0.73      0.76      0.74       509\n",
      "weighted avg       0.81      0.80      0.80       509\n",
      "\n",
      "The ROC AUC score: 0.7600362273052782\n"
     ]
    },
    {
     "name": "stderr",
     "output_type": "stream",
     "text": [
      "C:\\Users\\user\\Anaconda3\\lib\\site-packages\\sklearn\\feature_selection\\_univariate_selection.py:112: UserWarning: Features [ 1 27 28 29 70 71 72 73 74 75] are constant.\n",
      "  warnings.warn(\"Features %s are constant.\" % constant_features_idx, UserWarning)\n",
      "C:\\Users\\user\\Anaconda3\\lib\\site-packages\\sklearn\\feature_selection\\_univariate_selection.py:113: RuntimeWarning: invalid value encountered in true_divide\n",
      "  f = msb / msw\n"
     ]
    },
    {
     "name": "stdout",
     "output_type": "stream",
     "text": [
      "K =  75\n",
      "Best parameters from GridSearchCV on Logistic Regression: {'C': 0.01, 'max_iter': 100, 'penalty': 'l2', 'solver': 'liblinear'}\n",
      "Best Score from Grid Search CV on:  0.8950289993074793\n",
      "\n",
      "\n",
      "classification_report:\n",
      "               precision    recall  f1-score   support\n",
      "\n",
      "           1       0.57      0.68      0.62       123\n",
      "           0       0.89      0.83      0.86       386\n",
      "\n",
      "    accuracy                           0.80       509\n",
      "   macro avg       0.73      0.76      0.74       509\n",
      "weighted avg       0.81      0.80      0.80       509\n",
      "\n",
      "The ROC AUC score: 0.7585618602300013\n"
     ]
    },
    {
     "name": "stderr",
     "output_type": "stream",
     "text": [
      "C:\\Users\\user\\Anaconda3\\lib\\site-packages\\sklearn\\feature_selection\\_univariate_selection.py:112: UserWarning: Features [ 1 27 28 29 70 71 72 73 74 75] are constant.\n",
      "  warnings.warn(\"Features %s are constant.\" % constant_features_idx, UserWarning)\n",
      "C:\\Users\\user\\Anaconda3\\lib\\site-packages\\sklearn\\feature_selection\\_univariate_selection.py:113: RuntimeWarning: invalid value encountered in true_divide\n",
      "  f = msb / msw\n"
     ]
    },
    {
     "name": "stdout",
     "output_type": "stream",
     "text": [
      "K =  80\n",
      "Best parameters from GridSearchCV on Logistic Regression: {'C': 0.01, 'max_iter': 100, 'penalty': 'l2', 'solver': 'liblinear'}\n",
      "Best Score from Grid Search CV on:  0.8959523603416435\n",
      "\n",
      "\n",
      "classification_report:\n",
      "               precision    recall  f1-score   support\n",
      "\n",
      "           1       0.57      0.69      0.62       123\n",
      "           0       0.89      0.83      0.86       386\n",
      "\n",
      "    accuracy                           0.80       509\n",
      "   macro avg       0.73      0.76      0.74       509\n",
      "weighted avg       0.82      0.80      0.80       509\n",
      "\n",
      "The ROC AUC score: 0.761331564092843\n"
     ]
    },
    {
     "name": "stderr",
     "output_type": "stream",
     "text": [
      "C:\\Users\\user\\Anaconda3\\lib\\site-packages\\sklearn\\feature_selection\\_univariate_selection.py:112: UserWarning: Features [ 1 27 28 29 70 71 72 73 74 75] are constant.\n",
      "  warnings.warn(\"Features %s are constant.\" % constant_features_idx, UserWarning)\n",
      "C:\\Users\\user\\Anaconda3\\lib\\site-packages\\sklearn\\feature_selection\\_univariate_selection.py:113: RuntimeWarning: invalid value encountered in true_divide\n",
      "  f = msb / msw\n"
     ]
    },
    {
     "name": "stdout",
     "output_type": "stream",
     "text": [
      "K =  85\n",
      "Best parameters from GridSearchCV on Logistic Regression: {'C': 0.01, 'max_iter': 100, 'penalty': 'l2', 'solver': 'liblinear'}\n",
      "Best Score from Grid Search CV on:  0.8968107975530932\n",
      "\n",
      "\n",
      "classification_report:\n",
      "               precision    recall  f1-score   support\n",
      "\n",
      "           1       0.57      0.71      0.63       123\n",
      "           0       0.90      0.83      0.86       386\n",
      "\n",
      "    accuracy                           0.80       509\n",
      "   macro avg       0.73      0.77      0.75       509\n",
      "weighted avg       0.82      0.80      0.81       509\n",
      "\n",
      "The ROC AUC score: 0.7681663086060913\n"
     ]
    },
    {
     "name": "stderr",
     "output_type": "stream",
     "text": [
      "C:\\Users\\user\\Anaconda3\\lib\\site-packages\\sklearn\\feature_selection\\_univariate_selection.py:112: UserWarning: Features [ 1 27 28 29 70 71 72 73 74 75] are constant.\n",
      "  warnings.warn(\"Features %s are constant.\" % constant_features_idx, UserWarning)\n",
      "C:\\Users\\user\\Anaconda3\\lib\\site-packages\\sklearn\\feature_selection\\_univariate_selection.py:113: RuntimeWarning: invalid value encountered in true_divide\n",
      "  f = msb / msw\n"
     ]
    },
    {
     "name": "stdout",
     "output_type": "stream",
     "text": [
      "K =  90\n",
      "Best parameters from GridSearchCV on Logistic Regression: {'C': 0.01, 'max_iter': 100, 'penalty': 'l2', 'solver': 'liblinear'}\n",
      "Best Score from Grid Search CV on:  0.8968107975530932\n",
      "\n",
      "\n",
      "classification_report:\n",
      "               precision    recall  f1-score   support\n",
      "\n",
      "           1       0.57      0.71      0.63       123\n",
      "           0       0.90      0.83      0.86       386\n",
      "\n",
      "    accuracy                           0.80       509\n",
      "   macro avg       0.73      0.77      0.75       509\n",
      "weighted avg       0.82      0.80      0.81       509\n",
      "\n",
      "The ROC AUC score: 0.7681663086060913\n"
     ]
    },
    {
     "name": "stderr",
     "output_type": "stream",
     "text": [
      "C:\\Users\\user\\Anaconda3\\lib\\site-packages\\sklearn\\feature_selection\\_univariate_selection.py:112: UserWarning: Features [ 1 27 28 29 70 71 72 73 74 75] are constant.\n",
      "  warnings.warn(\"Features %s are constant.\" % constant_features_idx, UserWarning)\n",
      "C:\\Users\\user\\Anaconda3\\lib\\site-packages\\sklearn\\feature_selection\\_univariate_selection.py:113: RuntimeWarning: invalid value encountered in true_divide\n",
      "  f = msb / msw\n"
     ]
    },
    {
     "name": "stdout",
     "output_type": "stream",
     "text": [
      "K =  95\n",
      "Best parameters from GridSearchCV on Logistic Regression: {'C': 0.01, 'max_iter': 100, 'penalty': 'l2', 'solver': 'liblinear'}\n",
      "Best Score from Grid Search CV on:  0.8968107975530932\n",
      "\n",
      "\n",
      "classification_report:\n",
      "               precision    recall  f1-score   support\n",
      "\n",
      "           1       0.57      0.71      0.63       123\n",
      "           0       0.90      0.83      0.86       386\n",
      "\n",
      "    accuracy                           0.80       509\n",
      "   macro avg       0.73      0.77      0.75       509\n",
      "weighted avg       0.82      0.80      0.81       509\n",
      "\n",
      "The ROC AUC score: 0.7681663086060913\n",
      "End\n",
      "None\n"
     ]
    }
   ],
   "source": [
    "print(Best_features_LogisticRegression(X_train, y_train, X_test, y_test, [50, 60, 70, 75, 80, 85, 90, 95]))"
   ]
  },
  {
   "cell_type": "markdown",
   "metadata": {},
   "source": [
    "**With application of GridSearchCV and RandomSearchCV, we obtained the maximum roc_auc score of 0.76.**  "
   ]
  },
  {
   "cell_type": "markdown",
   "metadata": {},
   "source": [
    "# Apply SelectKBest to see the most influencial features on target"
   ]
  },
  {
   "cell_type": "code",
   "execution_count": 47,
   "metadata": {},
   "outputs": [
    {
     "name": "stdout",
     "output_type": "stream",
     "text": [
      "(1824, 70)\n",
      "List of 3 most influential features on the target (high to low): ['InscClaimAmtReimbursed_x', 'InpatientClaimPeriod', 'DurationInHospital', 'NoOfMonths_PartBCov_x', 'IPAnnualReimbursementAmt_x', 'IPAnnualDeductibleAmt_x', 'OPAnnualReimbursementAmt_x', 'OPAnnualDeductibleAmt_x', 'AttendingPhysician_x', 'OperatingPhysician_x', 'DiagnosisGroupCode', 'ClmDiagnosisCode_10_x', 'ClmProcedureCode_1_x', 'ClmProcedureCode_2_x', 'ClmProcedureCode_3_x', 'BeneID_x', 'ClaimID_x', 'Gender_x', 'Race_x', 'RenalDiseaseIndicator_x', 'State_x', 'County_x', 'ChronicCond_Alzheimer_x', 'ChronicCond_Heartfailure_x', 'ChronicCond_KidneyDisease_x', 'ChronicCond_Cancer_x', 'ChronicCond_ObstrPulmonary_x', 'ChronicCond_Depression_x', 'ChronicCond_Diabetes_x', 'ChronicCond_IschemicHeart_x', 'ChronicCond_Osteoporasis_x', 'ChronicCond_rheumatoidarthritis_x', 'ChronicCond_stroke_x', 'InscClaimAmtReimbursed_y', 'DeductibleAmtPaid_y', 'OutpatientClaimPeriod', 'IPAnnualReimbursementAmt_y', 'IPAnnualDeductibleAmt_y', 'OPAnnualReimbursementAmt_y', 'OPAnnualDeductibleAmt_y', 'OperatingPhysician_y', 'OtherPhysician_y', 'ClmDiagnosisCode_2_y', 'ClmDiagnosisCode_3_y', 'ClmDiagnosisCode_4_y', 'ClmDiagnosisCode_5_y', 'ClmDiagnosisCode_6_y', 'ClmDiagnosisCode_7_y', 'ClmDiagnosisCode_8_y', 'ClmDiagnosisCode_9_y', 'ClmDiagnosisCode_10_y', 'OutpatientClaimPeriod.1', 'BeneID_y', 'ClaimID_y', 'Gender_y', 'Race_y', 'RenalDiseaseIndicator_y', 'State_y', 'County_y', 'ChronicCond_Alzheimer_y', 'ChronicCond_Heartfailure_y', 'ChronicCond_KidneyDisease_y', 'ChronicCond_Cancer_y', 'ChronicCond_ObstrPulmonary_y', 'ChronicCond_Depression_y', 'ChronicCond_Diabetes_y', 'ChronicCond_IschemicHeart_y', 'ChronicCond_Osteoporasis_y', 'ChronicCond_rheumatoidarthritis_y', 'ChronicCond_stroke_y']\n"
     ]
    },
    {
     "name": "stderr",
     "output_type": "stream",
     "text": [
      "C:\\Users\\user\\Anaconda3\\lib\\site-packages\\sklearn\\feature_selection\\_univariate_selection.py:112: UserWarning: Features [ 1 27 28 29 70 71 72 73 74 75] are constant.\n",
      "  warnings.warn(\"Features %s are constant.\" % constant_features_idx, UserWarning)\n",
      "C:\\Users\\user\\Anaconda3\\lib\\site-packages\\sklearn\\feature_selection\\_univariate_selection.py:113: RuntimeWarning: invalid value encountered in true_divide\n",
      "  f = msb / msw\n"
     ]
    }
   ],
   "source": [
    "# let us try for one k, i.e k = 70\n",
    "from sklearn.feature_selection import SelectKBest, f_classif, chi2\n",
    "features_selector = SelectKBest(score_func = f_classif, k = 70)\n",
    "ordered = features_selector.fit_transform(X_train2, y_train2)\n",
    "print(ordered.shape)\n",
    "a = features_selector.get_support()\n",
    "#print(a)\n",
    "features = X_train2.columns\n",
    "#print(features)\n",
    "b = features[a].tolist()\n",
    "print('List of 3 most influential features on the target (high to low):', b)"
   ]
  },
  {
   "cell_type": "markdown",
   "metadata": {},
   "source": [
    "# Apply PCA"
   ]
  },
  {
   "cell_type": "code",
   "execution_count": 48,
   "metadata": {},
   "outputs": [
    {
     "name": "stdout",
     "output_type": "stream",
     "text": [
      "[0.38537669 0.17550422 0.04555977 0.03266992 0.02503609 0.02178322\n",
      " 0.0169283  0.01633792 0.01573328 0.01464308]\n",
      "classification_report:\n",
      "               precision    recall  f1-score   support\n",
      "\n",
      "           1       0.54      0.70      0.61       123\n",
      "           0       0.89      0.81      0.85       386\n",
      "\n",
      "    accuracy                           0.79       509\n",
      "   macro avg       0.72      0.76      0.73       509\n",
      "weighted avg       0.81      0.79      0.79       509\n",
      "\n",
      "The ROC AUC score: 0.7563292472302962\n"
     ]
    }
   ],
   "source": [
    "from sklearn.decomposition import PCA\n",
    "pca = PCA(random_state = 42)\n",
    "pca1 = pca.fit(X_train2)\n",
    "pca1_train = pca1.transform(X_train2)\n",
    "pca1_test = pca1.transform(X_test2)\n",
    "print(pca1.explained_variance_ratio_[:10])\n",
    "\n",
    "lr_pca = LogisticRegression(random_state = 42)\n",
    "lr_pca.fit(pca1_train, y_train2)\n",
    "y_predict_pca1 = lr_pca.predict(pca1_test)\n",
    "print(\"classification_report:\\n\", classification_report(y_test2, y_predict_pca1, labels = [1, 0]))\n",
    "print(\"The ROC AUC score:\", roc_auc_score(y_test2, y_predict_pca1))"
   ]
  },
  {
   "cell_type": "code",
   "execution_count": 49,
   "metadata": {},
   "outputs": [
    {
     "name": "stdout",
     "output_type": "stream",
     "text": [
      "[0.39884943 0.16921363 0.04453624 0.03150296 0.02425681]\n",
      "classification_report:\n",
      "               precision    recall  f1-score   support\n",
      "\n",
      "           1       0.56      0.68      0.61       123\n",
      "           0       0.89      0.83      0.86       386\n",
      "\n",
      "    accuracy                           0.79       509\n",
      "   macro avg       0.72      0.75      0.74       509\n",
      "weighted avg       0.81      0.79      0.80       509\n",
      "\n",
      "The ROC AUC score: 0.7546758498673071\n"
     ]
    }
   ],
   "source": [
    "pca5 = PCA(n_components = 5, random_state = 42)\n",
    "pca5 = pca5.fit(X_train)\n",
    "pca5_train = pca5.transform(X_train2)\n",
    "pca5_test = pca5.transform(X_test2)\n",
    "print(pca5.explained_variance_ratio_[:10])\n",
    "\n",
    "lr_pca5 = LogisticRegression(random_state = 42)\n",
    "lr_pca5.fit(pca5_train, y_train2)\n",
    "y_predict_pca5 = lr_pca5.predict(pca5_test)\n",
    "print(\"classification_report:\\n\", classification_report(y_test2, y_predict_pca5, labels = [1, 0]))\n",
    "print(\"The ROC AUC score:\", roc_auc_score(y_test2, y_predict_pca5))"
   ]
  },
  {
   "cell_type": "code",
   "execution_count": 50,
   "metadata": {},
   "outputs": [
    {
     "name": "stdout",
     "output_type": "stream",
     "text": [
      "[0.39884943 0.16921363 0.04453622 0.0315029  0.02425655 0.02219612\n",
      " 0.01693965 0.01654394 0.01496259 0.01363716]\n",
      "classification_report:\n",
      "               precision    recall  f1-score   support\n",
      "\n",
      "           1       0.56      0.68      0.62       123\n",
      "           0       0.89      0.83      0.86       386\n",
      "\n",
      "    accuracy                           0.80       509\n",
      "   macro avg       0.73      0.76      0.74       509\n",
      "weighted avg       0.81      0.80      0.80       509\n",
      "\n",
      "The ROC AUC score: 0.7572665234424366\n"
     ]
    }
   ],
   "source": [
    "from sklearn.decomposition import PCA\n",
    "pca10 = PCA(n_components = 10, random_state = 42)\n",
    "pca10 = pca10.fit(X_train)\n",
    "pca10_train = pca10.transform(X_train2)\n",
    "pca10_test = pca10.transform(X_test2)\n",
    "print(pca10.explained_variance_ratio_[:10])\n",
    "\n",
    "lr_pca10 = LogisticRegression(random_state = 42)\n",
    "lr_pca10.fit(pca10_train, y_train2)\n",
    "y_predict_pca10 = lr_pca10.predict(pca10_test)\n",
    "print(\"classification_report:\\n\", classification_report(y_test2, y_predict_pca10, labels = [1, 0]))\n",
    "print(\"The ROC AUC score:\", roc_auc_score(y_test2, y_predict_pca10))"
   ]
  },
  {
   "cell_type": "markdown",
   "metadata": {},
   "source": [
    "# Summary:"
   ]
  },
  {
   "cell_type": "markdown",
   "metadata": {},
   "source": [
    "In both cases, the performance of the Logistic Regression was highest and the roc_auc_score was also found to be same. <br>In Case-1 (roc_auc_score): 0.77 <br>case-2(roc_auc_score): 0.77"
   ]
  }
 ],
 "metadata": {
  "kernelspec": {
   "display_name": "Python 3",
   "language": "python",
   "name": "python3"
  },
  "language_info": {
   "codemirror_mode": {
    "name": "ipython",
    "version": 3
   },
   "file_extension": ".py",
   "mimetype": "text/x-python",
   "name": "python",
   "nbconvert_exporter": "python",
   "pygments_lexer": "ipython3",
   "version": "3.7.1"
  }
 },
 "nbformat": 4,
 "nbformat_minor": 2
}
